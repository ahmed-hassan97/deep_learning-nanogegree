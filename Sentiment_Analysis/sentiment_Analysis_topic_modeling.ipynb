{
  "nbformat": 4,
  "nbformat_minor": 0,
  "metadata": {
    "colab": {
      "name": "sentiment_Analysis_topic_modeling.ipynb",
      "provenance": [],
      "collapsed_sections": []
    },
    "kernelspec": {
      "name": "python3",
      "display_name": "Python 3"
    },
    "language_info": {
      "name": "python"
    }
  },
  "cells": [
    {
      "cell_type": "code",
      "metadata": {
        "id": "4fWD-DkUeGE7",
        "colab": {
          "base_uri": "https://localhost:8080/"
        },
        "outputId": "9fde9fa9-44f7-4037-df0c-249d9d52ed5e"
      },
      "source": [
        "!pip install gensim --upgrade\n",
        "!pip install --upgrade pip\n",
        "!pip install --upgrade jupyter notebook\n",
        "!pip install pyLDAvis"
      ],
      "execution_count": null,
      "outputs": [
        {
          "output_type": "stream",
          "text": [
            "Requirement already satisfied: gensim in /usr/local/lib/python3.7/dist-packages (4.0.1)\n",
            "Requirement already satisfied: smart-open>=1.8.1 in /usr/local/lib/python3.7/dist-packages (from gensim) (5.1.0)\n",
            "Requirement already satisfied: numpy>=1.11.3 in /usr/local/lib/python3.7/dist-packages (from gensim) (1.20.3)\n",
            "Requirement already satisfied: scipy>=0.18.1 in /usr/local/lib/python3.7/dist-packages (from gensim) (1.4.1)\n",
            "\u001b[33mWARNING: Running pip as root will break packages and permissions. You should install packages reliably by using venv: https://pip.pypa.io/warnings/venv\u001b[0m\n",
            "Requirement already satisfied: pip in /usr/local/lib/python3.7/dist-packages (21.1.2)\n",
            "\u001b[33mWARNING: Running pip as root will break packages and permissions. You should install packages reliably by using venv: https://pip.pypa.io/warnings/venv\u001b[0m\n",
            "Requirement already satisfied: jupyter in /usr/local/lib/python3.7/dist-packages (1.0.0)\n",
            "Requirement already satisfied: notebook in /usr/local/lib/python3.7/dist-packages (6.4.0)\n",
            "Requirement already satisfied: jupyter-console in /usr/local/lib/python3.7/dist-packages (from jupyter) (5.2.0)\n",
            "Requirement already satisfied: qtconsole in /usr/local/lib/python3.7/dist-packages (from jupyter) (5.1.0)\n",
            "Requirement already satisfied: ipywidgets in /usr/local/lib/python3.7/dist-packages (from jupyter) (7.6.3)\n",
            "Requirement already satisfied: nbconvert in /usr/local/lib/python3.7/dist-packages (from jupyter) (5.6.1)\n",
            "Requirement already satisfied: ipykernel in /usr/local/lib/python3.7/dist-packages (from jupyter) (4.10.1)\n",
            "Requirement already satisfied: ipython-genutils in /usr/local/lib/python3.7/dist-packages (from notebook) (0.2.0)\n",
            "Requirement already satisfied: prometheus-client in /usr/local/lib/python3.7/dist-packages (from notebook) (0.11.0)\n",
            "Requirement already satisfied: traitlets>=4.2.1 in /usr/local/lib/python3.7/dist-packages (from notebook) (5.0.5)\n",
            "Requirement already satisfied: jupyter-core>=4.6.1 in /usr/local/lib/python3.7/dist-packages (from notebook) (4.7.1)\n",
            "Requirement already satisfied: argon2-cffi in /usr/local/lib/python3.7/dist-packages (from notebook) (20.1.0)\n",
            "Requirement already satisfied: terminado>=0.8.3 in /usr/local/lib/python3.7/dist-packages (from notebook) (0.10.1)\n",
            "Requirement already satisfied: pyzmq>=17 in /usr/local/lib/python3.7/dist-packages (from notebook) (22.1.0)\n",
            "Requirement already satisfied: nbformat in /usr/local/lib/python3.7/dist-packages (from notebook) (5.1.3)\n",
            "Requirement already satisfied: tornado>=6.1 in /usr/local/lib/python3.7/dist-packages (from notebook) (6.1)\n",
            "Requirement already satisfied: Send2Trash>=1.5.0 in /usr/local/lib/python3.7/dist-packages (from notebook) (1.5.0)\n",
            "Requirement already satisfied: jinja2 in /usr/local/lib/python3.7/dist-packages (from notebook) (2.11.3)\n",
            "Requirement already satisfied: jupyter-client>=5.3.4 in /usr/local/lib/python3.7/dist-packages (from notebook) (5.3.5)\n",
            "Requirement already satisfied: python-dateutil>=2.1 in /usr/local/lib/python3.7/dist-packages (from jupyter-client>=5.3.4->notebook) (2.8.1)\n",
            "Requirement already satisfied: six>=1.5 in /usr/local/lib/python3.7/dist-packages (from python-dateutil>=2.1->jupyter-client>=5.3.4->notebook) (1.15.0)\n",
            "Requirement already satisfied: ptyprocess in /usr/local/lib/python3.7/dist-packages (from terminado>=0.8.3->notebook) (0.7.0)\n",
            "Requirement already satisfied: cffi>=1.0.0 in /usr/local/lib/python3.7/dist-packages (from argon2-cffi->notebook) (1.14.5)\n",
            "Requirement already satisfied: pycparser in /usr/local/lib/python3.7/dist-packages (from cffi>=1.0.0->argon2-cffi->notebook) (2.20)\n",
            "Requirement already satisfied: ipython>=4.0.0 in /usr/local/lib/python3.7/dist-packages (from ipykernel->jupyter) (5.5.0)\n",
            "Requirement already satisfied: decorator in /usr/local/lib/python3.7/dist-packages (from ipython>=4.0.0->ipykernel->jupyter) (4.4.2)\n",
            "Requirement already satisfied: setuptools>=18.5 in /usr/local/lib/python3.7/dist-packages (from ipython>=4.0.0->ipykernel->jupyter) (57.0.0)\n",
            "Requirement already satisfied: pexpect in /usr/local/lib/python3.7/dist-packages (from ipython>=4.0.0->ipykernel->jupyter) (4.8.0)\n",
            "Requirement already satisfied: pygments in /usr/local/lib/python3.7/dist-packages (from ipython>=4.0.0->ipykernel->jupyter) (2.6.1)\n",
            "Requirement already satisfied: prompt-toolkit<2.0.0,>=1.0.4 in /usr/local/lib/python3.7/dist-packages (from ipython>=4.0.0->ipykernel->jupyter) (1.0.18)\n",
            "Requirement already satisfied: simplegeneric>0.8 in /usr/local/lib/python3.7/dist-packages (from ipython>=4.0.0->ipykernel->jupyter) (0.8.1)\n",
            "Requirement already satisfied: pickleshare in /usr/local/lib/python3.7/dist-packages (from ipython>=4.0.0->ipykernel->jupyter) (0.7.5)\n",
            "Requirement already satisfied: wcwidth in /usr/local/lib/python3.7/dist-packages (from prompt-toolkit<2.0.0,>=1.0.4->ipython>=4.0.0->ipykernel->jupyter) (0.2.5)\n",
            "Requirement already satisfied: jupyterlab-widgets>=1.0.0 in /usr/local/lib/python3.7/dist-packages (from ipywidgets->jupyter) (1.0.0)\n",
            "Requirement already satisfied: widgetsnbextension~=3.5.0 in /usr/local/lib/python3.7/dist-packages (from ipywidgets->jupyter) (3.5.1)\n",
            "Requirement already satisfied: jsonschema!=2.5.0,>=2.4 in /usr/local/lib/python3.7/dist-packages (from nbformat->notebook) (2.6.0)\n",
            "Requirement already satisfied: MarkupSafe>=0.23 in /usr/local/lib/python3.7/dist-packages (from jinja2->notebook) (2.0.1)\n",
            "Requirement already satisfied: mistune<2,>=0.8.1 in /usr/local/lib/python3.7/dist-packages (from nbconvert->jupyter) (0.8.4)\n",
            "Requirement already satisfied: testpath in /usr/local/lib/python3.7/dist-packages (from nbconvert->jupyter) (0.5.0)\n",
            "Requirement already satisfied: bleach in /usr/local/lib/python3.7/dist-packages (from nbconvert->jupyter) (3.3.0)\n",
            "Requirement already satisfied: defusedxml in /usr/local/lib/python3.7/dist-packages (from nbconvert->jupyter) (0.7.1)\n",
            "Requirement already satisfied: pandocfilters>=1.4.1 in /usr/local/lib/python3.7/dist-packages (from nbconvert->jupyter) (1.4.3)\n",
            "Requirement already satisfied: entrypoints>=0.2.2 in /usr/local/lib/python3.7/dist-packages (from nbconvert->jupyter) (0.3)\n",
            "Requirement already satisfied: packaging in /usr/local/lib/python3.7/dist-packages (from bleach->nbconvert->jupyter) (20.9)\n",
            "Requirement already satisfied: webencodings in /usr/local/lib/python3.7/dist-packages (from bleach->nbconvert->jupyter) (0.5.1)\n",
            "Requirement already satisfied: pyparsing>=2.0.2 in /usr/local/lib/python3.7/dist-packages (from packaging->bleach->nbconvert->jupyter) (2.4.7)\n",
            "Requirement already satisfied: qtpy in /usr/local/lib/python3.7/dist-packages (from qtconsole->jupyter) (1.9.0)\n",
            "\u001b[33mWARNING: Running pip as root will break packages and permissions. You should install packages reliably by using venv: https://pip.pypa.io/warnings/venv\u001b[0m\n",
            "Requirement already satisfied: pyLDAvis in /usr/local/lib/python3.7/dist-packages (3.3.1)\n",
            "Requirement already satisfied: future in /usr/local/lib/python3.7/dist-packages (from pyLDAvis) (0.16.0)\n",
            "Requirement already satisfied: numpy>=1.20.0 in /usr/local/lib/python3.7/dist-packages (from pyLDAvis) (1.20.3)\n",
            "Requirement already satisfied: joblib in /usr/local/lib/python3.7/dist-packages (from pyLDAvis) (1.0.1)\n",
            "Requirement already satisfied: gensim in /usr/local/lib/python3.7/dist-packages (from pyLDAvis) (4.0.1)\n",
            "Requirement already satisfied: jinja2 in /usr/local/lib/python3.7/dist-packages (from pyLDAvis) (2.11.3)\n",
            "Requirement already satisfied: numexpr in /usr/local/lib/python3.7/dist-packages (from pyLDAvis) (2.7.3)\n",
            "Requirement already satisfied: scikit-learn in /usr/local/lib/python3.7/dist-packages (from pyLDAvis) (0.22.2.post1)\n",
            "Requirement already satisfied: funcy in /usr/local/lib/python3.7/dist-packages (from pyLDAvis) (1.16)\n",
            "Requirement already satisfied: pandas>=1.2.0 in /usr/local/lib/python3.7/dist-packages (from pyLDAvis) (1.2.4)\n",
            "Requirement already satisfied: setuptools in /usr/local/lib/python3.7/dist-packages (from pyLDAvis) (57.0.0)\n",
            "Requirement already satisfied: sklearn in /usr/local/lib/python3.7/dist-packages (from pyLDAvis) (0.0)\n",
            "Requirement already satisfied: scipy in /usr/local/lib/python3.7/dist-packages (from pyLDAvis) (1.4.1)\n",
            "Requirement already satisfied: pytz>=2017.3 in /usr/local/lib/python3.7/dist-packages (from pandas>=1.2.0->pyLDAvis) (2018.9)\n",
            "Requirement already satisfied: python-dateutil>=2.7.3 in /usr/local/lib/python3.7/dist-packages (from pandas>=1.2.0->pyLDAvis) (2.8.1)\n",
            "Requirement already satisfied: six>=1.5 in /usr/local/lib/python3.7/dist-packages (from python-dateutil>=2.7.3->pandas>=1.2.0->pyLDAvis) (1.15.0)\n",
            "Requirement already satisfied: smart-open>=1.8.1 in /usr/local/lib/python3.7/dist-packages (from gensim->pyLDAvis) (5.1.0)\n",
            "Requirement already satisfied: MarkupSafe>=0.23 in /usr/local/lib/python3.7/dist-packages (from jinja2->pyLDAvis) (2.0.1)\n",
            "\u001b[33mWARNING: Running pip as root will break packages and permissions. You should install packages reliably by using venv: https://pip.pypa.io/warnings/venv\u001b[0m\n"
          ],
          "name": "stdout"
        }
      ]
    },
    {
      "cell_type": "code",
      "metadata": {
        "id": "-nNQH3uMeiUl",
        "colab": {
          "base_uri": "https://localhost:8080/"
        },
        "outputId": "2dc540d1-29cf-4c02-c66c-130762bf9fd0"
      },
      "source": [
        "from google.colab import drive\n",
        "drive.mount('/content/drive')"
      ],
      "execution_count": null,
      "outputs": [
        {
          "output_type": "stream",
          "text": [
            "Drive already mounted at /content/drive; to attempt to forcibly remount, call drive.mount(\"/content/drive\", force_remount=True).\n"
          ],
          "name": "stdout"
        }
      ]
    },
    {
      "cell_type": "code",
      "metadata": {
        "id": "Zsnylswaeid3"
      },
      "source": [
        ""
      ],
      "execution_count": null,
      "outputs": []
    },
    {
      "cell_type": "code",
      "metadata": {
        "id": "enIHuaaPeOHh",
        "colab": {
          "base_uri": "https://localhost:8080/"
        },
        "outputId": "d543e1fa-8b69-4b9e-8c25-3a20802ddac0"
      },
      "source": [
        "from nltk.tokenize import RegexpTokenizer\n",
        "from nltk.stem.wordnet import WordNetLemmatizer\n",
        "from gensim import corpora, models\n",
        "# DataFrame\n",
        "import pyLDAvis\n",
        "import pandas as pd\n",
        "import tensorflow as tf\n",
        "# Matplot\n",
        "import matplotlib.pyplot as plt\n",
        "%matplotlib inline\n",
        "\n",
        "# Scikit-learn\n",
        "from sklearn.model_selection import train_test_split\n",
        "from sklearn.preprocessing import LabelEncoder\n",
        "from sklearn.metrics import confusion_matrix, classification_report, accuracy_score\n",
        "from sklearn.manifold import TSNE\n",
        "from sklearn.feature_extraction.text import TfidfVectorizer\n",
        "\n",
        "# Keras\n",
        "from tensorflow.keras.preprocessing.text import Tokenizer\n",
        "from tensorflow.keras.preprocessing.sequence import pad_sequences\n",
        "from tensorflow.keras.models import Sequential\n",
        "from tensorflow.keras.layers import Activation, Dense, Dropout, Embedding, Flatten, Conv1D, MaxPooling1D, LSTM\n",
        "from tensorflow.keras import utils\n",
        "from tensorflow.keras.callbacks import ReduceLROnPlateau, EarlyStopping\n",
        "import pyLDAvis.gensim_models as gensimvis\n",
        "!pip install gensim --upgrade\n",
        "!pip install --upgrade pip\n",
        "!pip install --upgrade jupyter notebook\n",
        "!pip install pyLDAvis\n",
        "# nltk\n",
        "import nltk\n",
        "from nltk.corpus import stopwords\n",
        "from  nltk.stem import SnowballStemmer\n",
        "\n",
        "# Word2vec\n",
        "import gensim\n",
        "\n",
        "# Utility\n",
        "import re\n",
        "import numpy as np\n",
        "import os\n",
        "from collections import Counter\n",
        "import logging\n",
        "import time\n",
        "import pickle\n",
        "import itertools\n"
      ],
      "execution_count": null,
      "outputs": [
        {
          "output_type": "stream",
          "text": [
            "/usr/local/lib/python3.7/dist-packages/gensim/similarities/__init__.py:15: UserWarning: The gensim.similarities.levenshtein submodule is disabled, because the optional Levenshtein package <https://pypi.org/project/python-Levenshtein/> is unavailable. Install Levenhstein (e.g. `pip install python-Levenshtein`) to suppress this warning.\n",
            "  warnings.warn(msg)\n",
            "/usr/local/lib/python3.7/dist-packages/past/types/oldstr.py:5: DeprecationWarning: Using or importing the ABCs from 'collections' instead of from 'collections.abc' is deprecated since Python 3.3,and in 3.9 it will stop working\n",
            "  from collections import Iterable\n",
            "/usr/local/lib/python3.7/dist-packages/past/builtins/misc.py:4: DeprecationWarning: Using or importing the ABCs from 'collections' instead of from 'collections.abc' is deprecated since Python 3.3,and in 3.9 it will stop working\n",
            "  from collections import Mapping\n",
            "/usr/local/lib/python3.7/dist-packages/sklearn/decomposition/_lda.py:29: DeprecationWarning: `np.float` is a deprecated alias for the builtin `float`. To silence this warning, use `float` by itself. Doing this will not modify any behavior and is safe. If you specifically wanted the numpy scalar type, use `np.float64` here.\n",
            "Deprecated in NumPy 1.20; for more details and guidance: https://numpy.org/devdocs/release/1.20.0-notes.html#deprecations\n",
            "  EPS = np.finfo(np.float).eps\n",
            "/usr/local/lib/python3.7/dist-packages/tensorflow/python/framework/dtypes.py:511: DeprecationWarning: `np.object` is a deprecated alias for the builtin `object`. To silence this warning, use `object` by itself. Doing this will not modify any behavior and is safe. \n",
            "Deprecated in NumPy 1.20; for more details and guidance: https://numpy.org/devdocs/release/1.20.0-notes.html#deprecations\n",
            "  np.object,\n",
            "/usr/local/lib/python3.7/dist-packages/tensorflow/python/framework/dtypes.py:553: DeprecationWarning: `np.object` is a deprecated alias for the builtin `object`. To silence this warning, use `object` by itself. Doing this will not modify any behavior and is safe. \n",
            "Deprecated in NumPy 1.20; for more details and guidance: https://numpy.org/devdocs/release/1.20.0-notes.html#deprecations\n",
            "  np.object,\n",
            "/usr/local/lib/python3.7/dist-packages/tensorflow/python/framework/dtypes.py:563: DeprecationWarning: `np.bool` is a deprecated alias for the builtin `bool`. To silence this warning, use `bool` by itself. Doing this will not modify any behavior and is safe. If you specifically wanted the numpy scalar type, use `np.bool_` here.\n",
            "Deprecated in NumPy 1.20; for more details and guidance: https://numpy.org/devdocs/release/1.20.0-notes.html#deprecations\n",
            "  np.bool,\n",
            "/usr/local/lib/python3.7/dist-packages/tensorflow/python/framework/tensor_util.py:108: DeprecationWarning: `np.object` is a deprecated alias for the builtin `object`. To silence this warning, use `object` by itself. Doing this will not modify any behavior and is safe. \n",
            "Deprecated in NumPy 1.20; for more details and guidance: https://numpy.org/devdocs/release/1.20.0-notes.html#deprecations\n",
            "  np.object:\n",
            "/usr/local/lib/python3.7/dist-packages/tensorflow/python/framework/tensor_util.py:110: DeprecationWarning: `np.bool` is a deprecated alias for the builtin `bool`. To silence this warning, use `bool` by itself. Doing this will not modify any behavior and is safe. If you specifically wanted the numpy scalar type, use `np.bool_` here.\n",
            "Deprecated in NumPy 1.20; for more details and guidance: https://numpy.org/devdocs/release/1.20.0-notes.html#deprecations\n",
            "  np.bool:\n",
            "/usr/local/lib/python3.7/dist-packages/tensorflow/python/ops/numpy_ops/np_random.py:110: DeprecationWarning: `np.int` is a deprecated alias for the builtin `int`. To silence this warning, use `int` by itself. Doing this will not modify any behavior and is safe. When replacing `np.int`, you may wish to use e.g. `np.int64` or `np.int32` to specify the precision. If you wish to review your current use, check the release note link for additional information.\n",
            "Deprecated in NumPy 1.20; for more details and guidance: https://numpy.org/devdocs/release/1.20.0-notes.html#deprecations\n",
            "  def randint(low, high=None, size=None, dtype=onp.int):  # pylint: disable=missing-function-docstring\n",
            "/usr/local/lib/python3.7/dist-packages/tensorboard/compat/tensorflow_stub/dtypes.py:569: DeprecationWarning: `np.object` is a deprecated alias for the builtin `object`. To silence this warning, use `object` by itself. Doing this will not modify any behavior and is safe. \n",
            "Deprecated in NumPy 1.20; for more details and guidance: https://numpy.org/devdocs/release/1.20.0-notes.html#deprecations\n",
            "  (np.object, string),\n",
            "/usr/local/lib/python3.7/dist-packages/tensorboard/compat/tensorflow_stub/dtypes.py:570: DeprecationWarning: `np.bool` is a deprecated alias for the builtin `bool`. To silence this warning, use `bool` by itself. Doing this will not modify any behavior and is safe. If you specifically wanted the numpy scalar type, use `np.bool_` here.\n",
            "Deprecated in NumPy 1.20; for more details and guidance: https://numpy.org/devdocs/release/1.20.0-notes.html#deprecations\n",
            "  (np.bool, bool),\n",
            "/usr/local/lib/python3.7/dist-packages/tensorboard/compat/tensorflow_stub/dtypes.py:594: DeprecationWarning: `np.object` is a deprecated alias for the builtin `object`. To silence this warning, use `object` by itself. Doing this will not modify any behavior and is safe. \n",
            "Deprecated in NumPy 1.20; for more details and guidance: https://numpy.org/devdocs/release/1.20.0-notes.html#deprecations\n",
            "  types_pb2.DT_STRING: np.object,\n",
            "/usr/local/lib/python3.7/dist-packages/tensorboard/compat/tensorflow_stub/dtypes.py:598: DeprecationWarning: `np.bool` is a deprecated alias for the builtin `bool`. To silence this warning, use `bool` by itself. Doing this will not modify any behavior and is safe. If you specifically wanted the numpy scalar type, use `np.bool_` here.\n",
            "Deprecated in NumPy 1.20; for more details and guidance: https://numpy.org/devdocs/release/1.20.0-notes.html#deprecations\n",
            "  types_pb2.DT_BOOL: np.bool,\n",
            "/usr/local/lib/python3.7/dist-packages/tensorboard/compat/tensorflow_stub/dtypes.py:615: DeprecationWarning: `np.object` is a deprecated alias for the builtin `object`. To silence this warning, use `object` by itself. Doing this will not modify any behavior and is safe. \n",
            "Deprecated in NumPy 1.20; for more details and guidance: https://numpy.org/devdocs/release/1.20.0-notes.html#deprecations\n",
            "  types_pb2.DT_STRING_REF: np.object,\n",
            "/usr/local/lib/python3.7/dist-packages/tensorboard/compat/tensorflow_stub/dtypes.py:620: DeprecationWarning: `np.bool` is a deprecated alias for the builtin `bool`. To silence this warning, use `bool` by itself. Doing this will not modify any behavior and is safe. If you specifically wanted the numpy scalar type, use `np.bool_` here.\n",
            "Deprecated in NumPy 1.20; for more details and guidance: https://numpy.org/devdocs/release/1.20.0-notes.html#deprecations\n",
            "  types_pb2.DT_BOOL_REF: np.bool,\n",
            "/usr/local/lib/python3.7/dist-packages/tensorboard/util/tensor_util.py:109: DeprecationWarning: `np.object` is a deprecated alias for the builtin `object`. To silence this warning, use `object` by itself. Doing this will not modify any behavior and is safe. \n",
            "Deprecated in NumPy 1.20; for more details and guidance: https://numpy.org/devdocs/release/1.20.0-notes.html#deprecations\n",
            "  np.object: SlowAppendObjectArrayToTensorProto,\n",
            "/usr/local/lib/python3.7/dist-packages/tensorboard/util/tensor_util.py:110: DeprecationWarning: `np.bool` is a deprecated alias for the builtin `bool`. To silence this warning, use `bool` by itself. Doing this will not modify any behavior and is safe. If you specifically wanted the numpy scalar type, use `np.bool_` here.\n",
            "Deprecated in NumPy 1.20; for more details and guidance: https://numpy.org/devdocs/release/1.20.0-notes.html#deprecations\n",
            "  np.bool: SlowAppendBoolArrayToTensorProto,\n"
          ],
          "name": "stderr"
        },
        {
          "output_type": "stream",
          "text": [
            "Requirement already satisfied: gensim in /usr/local/lib/python3.7/dist-packages (4.0.1)\n",
            "Requirement already satisfied: smart-open>=1.8.1 in /usr/local/lib/python3.7/dist-packages (from gensim) (5.1.0)\n",
            "Requirement already satisfied: scipy>=0.18.1 in /usr/local/lib/python3.7/dist-packages (from gensim) (1.4.1)\n",
            "Requirement already satisfied: numpy>=1.11.3 in /usr/local/lib/python3.7/dist-packages (from gensim) (1.20.3)\n",
            "\u001b[33mWARNING: Running pip as root will break packages and permissions. You should install packages reliably by using venv: https://pip.pypa.io/warnings/venv\u001b[0m\n",
            "Requirement already satisfied: pip in /usr/local/lib/python3.7/dist-packages (21.1.2)\n",
            "\u001b[33mWARNING: Running pip as root will break packages and permissions. You should install packages reliably by using venv: https://pip.pypa.io/warnings/venv\u001b[0m\n",
            "Requirement already satisfied: jupyter in /usr/local/lib/python3.7/dist-packages (1.0.0)\n",
            "Requirement already satisfied: notebook in /usr/local/lib/python3.7/dist-packages (6.4.0)\n",
            "Requirement already satisfied: jupyter-console in /usr/local/lib/python3.7/dist-packages (from jupyter) (5.2.0)\n",
            "Requirement already satisfied: ipykernel in /usr/local/lib/python3.7/dist-packages (from jupyter) (4.10.1)\n",
            "Requirement already satisfied: nbconvert in /usr/local/lib/python3.7/dist-packages (from jupyter) (5.6.1)\n",
            "Requirement already satisfied: ipywidgets in /usr/local/lib/python3.7/dist-packages (from jupyter) (7.6.3)\n",
            "Requirement already satisfied: qtconsole in /usr/local/lib/python3.7/dist-packages (from jupyter) (5.1.0)\n",
            "Requirement already satisfied: argon2-cffi in /usr/local/lib/python3.7/dist-packages (from notebook) (20.1.0)\n",
            "Requirement already satisfied: tornado>=6.1 in /usr/local/lib/python3.7/dist-packages (from notebook) (6.1)\n",
            "Requirement already satisfied: traitlets>=4.2.1 in /usr/local/lib/python3.7/dist-packages (from notebook) (5.0.5)\n",
            "Requirement already satisfied: jupyter-core>=4.6.1 in /usr/local/lib/python3.7/dist-packages (from notebook) (4.7.1)\n",
            "Requirement already satisfied: terminado>=0.8.3 in /usr/local/lib/python3.7/dist-packages (from notebook) (0.10.1)\n",
            "Requirement already satisfied: nbformat in /usr/local/lib/python3.7/dist-packages (from notebook) (5.1.3)\n",
            "Requirement already satisfied: Send2Trash>=1.5.0 in /usr/local/lib/python3.7/dist-packages (from notebook) (1.5.0)\n",
            "Requirement already satisfied: jupyter-client>=5.3.4 in /usr/local/lib/python3.7/dist-packages (from notebook) (5.3.5)\n",
            "Requirement already satisfied: prometheus-client in /usr/local/lib/python3.7/dist-packages (from notebook) (0.11.0)\n",
            "Requirement already satisfied: jinja2 in /usr/local/lib/python3.7/dist-packages (from notebook) (2.11.3)\n",
            "Requirement already satisfied: pyzmq>=17 in /usr/local/lib/python3.7/dist-packages (from notebook) (22.1.0)\n",
            "Requirement already satisfied: ipython-genutils in /usr/local/lib/python3.7/dist-packages (from notebook) (0.2.0)\n",
            "Requirement already satisfied: python-dateutil>=2.1 in /usr/local/lib/python3.7/dist-packages (from jupyter-client>=5.3.4->notebook) (2.8.1)\n",
            "Requirement already satisfied: six>=1.5 in /usr/local/lib/python3.7/dist-packages (from python-dateutil>=2.1->jupyter-client>=5.3.4->notebook) (1.15.0)\n",
            "Requirement already satisfied: ptyprocess in /usr/local/lib/python3.7/dist-packages (from terminado>=0.8.3->notebook) (0.7.0)\n",
            "Requirement already satisfied: cffi>=1.0.0 in /usr/local/lib/python3.7/dist-packages (from argon2-cffi->notebook) (1.14.5)\n",
            "Requirement already satisfied: pycparser in /usr/local/lib/python3.7/dist-packages (from cffi>=1.0.0->argon2-cffi->notebook) (2.20)\n",
            "Requirement already satisfied: ipython>=4.0.0 in /usr/local/lib/python3.7/dist-packages (from ipykernel->jupyter) (5.5.0)\n",
            "Requirement already satisfied: pickleshare in /usr/local/lib/python3.7/dist-packages (from ipython>=4.0.0->ipykernel->jupyter) (0.7.5)\n",
            "Requirement already satisfied: decorator in /usr/local/lib/python3.7/dist-packages (from ipython>=4.0.0->ipykernel->jupyter) (4.4.2)\n",
            "Requirement already satisfied: setuptools>=18.5 in /usr/local/lib/python3.7/dist-packages (from ipython>=4.0.0->ipykernel->jupyter) (57.0.0)\n",
            "Requirement already satisfied: pygments in /usr/local/lib/python3.7/dist-packages (from ipython>=4.0.0->ipykernel->jupyter) (2.6.1)\n",
            "Requirement already satisfied: pexpect in /usr/local/lib/python3.7/dist-packages (from ipython>=4.0.0->ipykernel->jupyter) (4.8.0)\n",
            "Requirement already satisfied: prompt-toolkit<2.0.0,>=1.0.4 in /usr/local/lib/python3.7/dist-packages (from ipython>=4.0.0->ipykernel->jupyter) (1.0.18)\n",
            "Requirement already satisfied: simplegeneric>0.8 in /usr/local/lib/python3.7/dist-packages (from ipython>=4.0.0->ipykernel->jupyter) (0.8.1)\n",
            "Requirement already satisfied: wcwidth in /usr/local/lib/python3.7/dist-packages (from prompt-toolkit<2.0.0,>=1.0.4->ipython>=4.0.0->ipykernel->jupyter) (0.2.5)\n",
            "Requirement already satisfied: jupyterlab-widgets>=1.0.0 in /usr/local/lib/python3.7/dist-packages (from ipywidgets->jupyter) (1.0.0)\n",
            "Requirement already satisfied: widgetsnbextension~=3.5.0 in /usr/local/lib/python3.7/dist-packages (from ipywidgets->jupyter) (3.5.1)\n",
            "Requirement already satisfied: jsonschema!=2.5.0,>=2.4 in /usr/local/lib/python3.7/dist-packages (from nbformat->notebook) (2.6.0)\n",
            "Requirement already satisfied: MarkupSafe>=0.23 in /usr/local/lib/python3.7/dist-packages (from jinja2->notebook) (2.0.1)\n",
            "Requirement already satisfied: testpath in /usr/local/lib/python3.7/dist-packages (from nbconvert->jupyter) (0.5.0)\n",
            "Requirement already satisfied: defusedxml in /usr/local/lib/python3.7/dist-packages (from nbconvert->jupyter) (0.7.1)\n",
            "Requirement already satisfied: mistune<2,>=0.8.1 in /usr/local/lib/python3.7/dist-packages (from nbconvert->jupyter) (0.8.4)\n",
            "Requirement already satisfied: bleach in /usr/local/lib/python3.7/dist-packages (from nbconvert->jupyter) (3.3.0)\n",
            "Requirement already satisfied: pandocfilters>=1.4.1 in /usr/local/lib/python3.7/dist-packages (from nbconvert->jupyter) (1.4.3)\n",
            "Requirement already satisfied: entrypoints>=0.2.2 in /usr/local/lib/python3.7/dist-packages (from nbconvert->jupyter) (0.3)\n",
            "Requirement already satisfied: packaging in /usr/local/lib/python3.7/dist-packages (from bleach->nbconvert->jupyter) (20.9)\n",
            "Requirement already satisfied: webencodings in /usr/local/lib/python3.7/dist-packages (from bleach->nbconvert->jupyter) (0.5.1)\n",
            "Requirement already satisfied: pyparsing>=2.0.2 in /usr/local/lib/python3.7/dist-packages (from packaging->bleach->nbconvert->jupyter) (2.4.7)\n",
            "Requirement already satisfied: qtpy in /usr/local/lib/python3.7/dist-packages (from qtconsole->jupyter) (1.9.0)\n",
            "\u001b[33mWARNING: Running pip as root will break packages and permissions. You should install packages reliably by using venv: https://pip.pypa.io/warnings/venv\u001b[0m\n",
            "Requirement already satisfied: pyLDAvis in /usr/local/lib/python3.7/dist-packages (3.3.1)\n",
            "Requirement already satisfied: jinja2 in /usr/local/lib/python3.7/dist-packages (from pyLDAvis) (2.11.3)\n",
            "Requirement already satisfied: numexpr in /usr/local/lib/python3.7/dist-packages (from pyLDAvis) (2.7.3)\n",
            "Requirement already satisfied: joblib in /usr/local/lib/python3.7/dist-packages (from pyLDAvis) (1.0.1)\n",
            "Requirement already satisfied: scikit-learn in /usr/local/lib/python3.7/dist-packages (from pyLDAvis) (0.22.2.post1)\n",
            "Requirement already satisfied: future in /usr/local/lib/python3.7/dist-packages (from pyLDAvis) (0.16.0)\n",
            "Requirement already satisfied: numpy>=1.20.0 in /usr/local/lib/python3.7/dist-packages (from pyLDAvis) (1.20.3)\n",
            "Requirement already satisfied: gensim in /usr/local/lib/python3.7/dist-packages (from pyLDAvis) (4.0.1)\n",
            "Requirement already satisfied: setuptools in /usr/local/lib/python3.7/dist-packages (from pyLDAvis) (57.0.0)\n",
            "Requirement already satisfied: sklearn in /usr/local/lib/python3.7/dist-packages (from pyLDAvis) (0.0)\n",
            "Requirement already satisfied: scipy in /usr/local/lib/python3.7/dist-packages (from pyLDAvis) (1.4.1)\n",
            "Requirement already satisfied: pandas>=1.2.0 in /usr/local/lib/python3.7/dist-packages (from pyLDAvis) (1.2.4)\n",
            "Requirement already satisfied: funcy in /usr/local/lib/python3.7/dist-packages (from pyLDAvis) (1.16)\n",
            "Requirement already satisfied: pytz>=2017.3 in /usr/local/lib/python3.7/dist-packages (from pandas>=1.2.0->pyLDAvis) (2018.9)\n",
            "Requirement already satisfied: python-dateutil>=2.7.3 in /usr/local/lib/python3.7/dist-packages (from pandas>=1.2.0->pyLDAvis) (2.8.1)\n",
            "Requirement already satisfied: six>=1.5 in /usr/local/lib/python3.7/dist-packages (from python-dateutil>=2.7.3->pandas>=1.2.0->pyLDAvis) (1.15.0)\n",
            "Requirement already satisfied: smart-open>=1.8.1 in /usr/local/lib/python3.7/dist-packages (from gensim->pyLDAvis) (5.1.0)\n",
            "Requirement already satisfied: MarkupSafe>=0.23 in /usr/local/lib/python3.7/dist-packages (from jinja2->pyLDAvis) (2.0.1)\n",
            "\u001b[33mWARNING: Running pip as root will break packages and permissions. You should install packages reliably by using venv: https://pip.pypa.io/warnings/venv\u001b[0m\n"
          ],
          "name": "stdout"
        }
      ]
    },
    {
      "cell_type": "code",
      "metadata": {
        "colab": {
          "base_uri": "https://localhost:8080/"
        },
        "id": "Koc4-5Ej-r7S",
        "outputId": "ed159724-15e5-4bef-b63a-fa72ffee27cf"
      },
      "source": [
        "nltk.download('averaged_perceptron_tagger')\n",
        "nltk.download('punkt')"
      ],
      "execution_count": null,
      "outputs": [
        {
          "output_type": "stream",
          "text": [
            "[nltk_data] Downloading package averaged_perceptron_tagger to\n",
            "[nltk_data]     /root/nltk_data...\n",
            "[nltk_data]   Package averaged_perceptron_tagger is already up-to-\n",
            "[nltk_data]       date!\n",
            "[nltk_data] Downloading package punkt to /root/nltk_data...\n",
            "[nltk_data]   Package punkt is already up-to-date!\n"
          ],
          "name": "stdout"
        },
        {
          "output_type": "execute_result",
          "data": {
            "text/plain": [
              "True"
            ]
          },
          "metadata": {
            "tags": []
          },
          "execution_count": 2
        }
      ]
    },
    {
      "cell_type": "code",
      "metadata": {
        "id": "LK7VVb42er3e",
        "colab": {
          "base_uri": "https://localhost:8080/"
        },
        "outputId": "8e38e3d3-dfb7-44a8-8331-0c5716eb9b09"
      },
      "source": [
        "nltk.download('stopwords')\n",
        "# TEXT CLENAING\n",
        "TEXT_CLEANING_RE = \"@\\S+|https?:\\S+|http?:\\S|[^A-Za-z0-9]+\"\n",
        "\n",
        "# WORD2VEC \n",
        "W2V_SIZE = 64\n",
        "W2V_WINDOW = 10\n",
        "W2V_EPOCH = 256\n",
        "W2V_MIN_COUNT = 10\n",
        "\n",
        "# KERAS\n",
        "SEQUENCE_LENGTH = 300\n",
        "EPOCHS = 10\n",
        "BATCH_SIZE = 64\n",
        "\n",
        "\n",
        "# EXPORT\n",
        "KERAS_MODEL = \"model.h5\"\n",
        "WORD2VEC_MODEL = \"model.pkl\"\n",
        "TOKENIZER_MODEL = \"tokenizer.pkl\"\n",
        "ENCODER_MODEL = \"encoder.pkl\""
      ],
      "execution_count": null,
      "outputs": [
        {
          "output_type": "stream",
          "text": [
            "[nltk_data] Downloading package stopwords to /root/nltk_data...\n",
            "[nltk_data]   Package stopwords is already up-to-date!\n"
          ],
          "name": "stdout"
        },
        {
          "output_type": "stream",
          "text": [
            "<input>:3: DeprecationWarning: invalid escape sequence \\S\n",
            "<input>:3: DeprecationWarning: invalid escape sequence \\S\n",
            "<input>:3: DeprecationWarning: invalid escape sequence \\S\n",
            "<input>:3: DeprecationWarning: invalid escape sequence \\S\n",
            "<input>:3: DeprecationWarning: invalid escape sequence \\S\n",
            "<input>:3: DeprecationWarning: invalid escape sequence \\S\n",
            "<input>:3: DeprecationWarning: invalid escape sequence \\S\n",
            "<input>:3: DeprecationWarning: invalid escape sequence \\S\n",
            "<input>:3: DeprecationWarning: invalid escape sequence \\S\n",
            "<input>:3: DeprecationWarning: invalid escape sequence \\S\n",
            "<input>:3: DeprecationWarning: invalid escape sequence \\S\n",
            "<input>:3: DeprecationWarning: invalid escape sequence \\S\n",
            "<input>:3: DeprecationWarning: invalid escape sequence \\S\n",
            "<input>:3: DeprecationWarning: invalid escape sequence \\S\n",
            "<input>:3: DeprecationWarning: invalid escape sequence \\S\n",
            "<input>:3: DeprecationWarning: invalid escape sequence \\S\n",
            "<input>:3: DeprecationWarning: invalid escape sequence \\S\n",
            "<input>:3: DeprecationWarning: invalid escape sequence \\S\n",
            "<input>:3: DeprecationWarning: invalid escape sequence \\S\n",
            "<ipython-input-3-ef901573b051>:3: DeprecationWarning: invalid escape sequence \\S\n",
            "  TEXT_CLEANING_RE = \"@\\S+|https?:\\S+|http?:\\S|[^A-Za-z0-9]+\"\n"
          ],
          "name": "stderr"
        }
      ]
    },
    {
      "cell_type": "code",
      "metadata": {
        "id": "vWog6J55ezZg"
      },
      "source": [
        "df = pd.read_csv('/content/drive/MyDrive/dataset/sentiment_analysis_dataset/Electronics_5.csv')"
      ],
      "execution_count": null,
      "outputs": []
    },
    {
      "cell_type": "code",
      "metadata": {
        "id": "fb2bgRoWezg7",
        "colab": {
          "base_uri": "https://localhost:8080/",
          "height": 138
        },
        "outputId": "d80be597-5ecb-4fba-e5bb-1fc780015b44"
      },
      "source": [
        "df.head(3)"
      ],
      "execution_count": null,
      "outputs": [
        {
          "output_type": "execute_result",
          "data": {
            "text/html": [
              "<div>\n",
              "<style scoped>\n",
              "    .dataframe tbody tr th:only-of-type {\n",
              "        vertical-align: middle;\n",
              "    }\n",
              "\n",
              "    .dataframe tbody tr th {\n",
              "        vertical-align: top;\n",
              "    }\n",
              "\n",
              "    .dataframe thead th {\n",
              "        text-align: right;\n",
              "    }\n",
              "</style>\n",
              "<table border=\"1\" class=\"dataframe\">\n",
              "  <thead>\n",
              "    <tr style=\"text-align: right;\">\n",
              "      <th></th>\n",
              "      <th>Unnamed: 0</th>\n",
              "      <th>overall</th>\n",
              "      <th>reviewText</th>\n",
              "      <th>target</th>\n",
              "    </tr>\n",
              "  </thead>\n",
              "  <tbody>\n",
              "    <tr>\n",
              "      <th>0</th>\n",
              "      <td>0</td>\n",
              "      <td>5</td>\n",
              "      <td>We got this GPS for my husband who is an (OTR)...</td>\n",
              "      <td>pos</td>\n",
              "    </tr>\n",
              "    <tr>\n",
              "      <th>1</th>\n",
              "      <td>1</td>\n",
              "      <td>1</td>\n",
              "      <td>I'm a professional OTR truck driver, and I bou...</td>\n",
              "      <td>neg</td>\n",
              "    </tr>\n",
              "    <tr>\n",
              "      <th>2</th>\n",
              "      <td>2</td>\n",
              "      <td>3</td>\n",
              "      <td>Well, what can I say.  I've had this unit in m...</td>\n",
              "      <td>natural</td>\n",
              "    </tr>\n",
              "  </tbody>\n",
              "</table>\n",
              "</div>"
            ],
            "text/plain": [
              "   Unnamed: 0  ...   target\n",
              "0           0  ...      pos\n",
              "1           1  ...      neg\n",
              "2           2  ...  natural\n",
              "\n",
              "[3 rows x 4 columns]"
            ]
          },
          "metadata": {
            "tags": []
          },
          "execution_count": 5
        }
      ]
    },
    {
      "cell_type": "code",
      "metadata": {
        "id": "csVSpEPVezng"
      },
      "source": [
        "df = df.drop(['Unnamed: 0' , 'overall'] , axis = 1)"
      ],
      "execution_count": null,
      "outputs": []
    },
    {
      "cell_type": "code",
      "metadata": {
        "id": "i5aqHZ_Ne5vY"
      },
      "source": [
        "df1 = df[df['target'] == 'pos'][:40000]\n",
        "df2 = df[df['target'] == 'natural'][:50000]\n",
        "df3 = df[df['target'] == 'neg'][:40000]\n"
      ],
      "execution_count": null,
      "outputs": []
    },
    {
      "cell_type": "code",
      "metadata": {
        "id": "fxe_DjXlesZv"
      },
      "source": [
        "df = df1.append([df2 ,df3 ] , sort = True )"
      ],
      "execution_count": null,
      "outputs": []
    },
    {
      "cell_type": "code",
      "metadata": {
        "id": "UQ3jKSA5esdJ",
        "colab": {
          "base_uri": "https://localhost:8080/"
        },
        "outputId": "df406d30-bdcd-479f-c500-cf47a5378af2"
      },
      "source": [
        "\n",
        "## download stopwords \n",
        "stop_words = stopwords.words(\"english\")\n",
        "## download steaming \n",
        "stemmer = SnowballStemmer(\"english\")\n",
        "\n",
        "## reg for remove special character \n",
        "TEXT_CLEANING_RE = \"@\\S+|https?:\\S+|http?:\\S|[^A-Za-z0-9]+\"\n",
        "\n",
        "\n",
        "\"\"\"\n",
        "  preprocess function \n",
        "\n",
        "  input  : each row from data \n",
        "\n",
        "  output : text cleaning \n",
        "\n",
        "\"\"\"\n",
        "\n",
        "\n",
        "\n",
        "def preprocess(text, stem=False):\n",
        "    # Remove link,user and special characters\n",
        "    text = re.sub(TEXT_CLEANING_RE, ' ', str(text).lower()).strip()\n",
        "    tokens = []\n",
        "    for token in text.split():\n",
        "        if token not in stop_words and len(token) > 3:\n",
        "            if stem:\n",
        "                tokens.append(stemmer.stem(token))\n",
        "            else:\n",
        "                tokens.append(token)\n",
        "    return \" \".join(tokens)\n"
      ],
      "execution_count": null,
      "outputs": [
        {
          "output_type": "stream",
          "text": [
            "<input>:8: DeprecationWarning: invalid escape sequence \\S\n",
            "<input>:8: DeprecationWarning: invalid escape sequence \\S\n",
            "<input>:8: DeprecationWarning: invalid escape sequence \\S\n",
            "<input>:8: DeprecationWarning: invalid escape sequence \\S\n",
            "<input>:8: DeprecationWarning: invalid escape sequence \\S\n",
            "<input>:8: DeprecationWarning: invalid escape sequence \\S\n",
            "<input>:8: DeprecationWarning: invalid escape sequence \\S\n",
            "<input>:8: DeprecationWarning: invalid escape sequence \\S\n",
            "<input>:8: DeprecationWarning: invalid escape sequence \\S\n",
            "<input>:8: DeprecationWarning: invalid escape sequence \\S\n",
            "<input>:8: DeprecationWarning: invalid escape sequence \\S\n",
            "<input>:8: DeprecationWarning: invalid escape sequence \\S\n",
            "<ipython-input-10-dc2440d51e03>:8: DeprecationWarning: invalid escape sequence \\S\n",
            "  TEXT_CLEANING_RE = \"@\\S+|https?:\\S+|http?:\\S|[^A-Za-z0-9]+\"\n"
          ],
          "name": "stderr"
        }
      ]
    },
    {
      "cell_type": "code",
      "metadata": {
        "id": "DOyeWSfJfC1N"
      },
      "source": [
        " df.reviewText  = df.reviewText.apply(lambda x: preprocess(x))\n"
      ],
      "execution_count": null,
      "outputs": []
    },
    {
      "cell_type": "code",
      "metadata": {
        "colab": {
          "base_uri": "https://localhost:8080/",
          "height": 199
        },
        "id": "IjUskXzpKHPP",
        "outputId": "c74d7d9f-65a2-4649-f682-95f8216481a4"
      },
      "source": [
        "df.reviewText[1]"
      ],
      "execution_count": null,
      "outputs": [
        {
          "output_type": "execute_result",
          "data": {
            "application/vnd.google.colaboratory.intrinsic+json": {
              "type": "string"
            },
            "text/plain": [
              "'professional truck driver bought truck stop hoping make life easier rand mcnally listening first thing charging connect laptop install software attempt update software detected problem update wanted home address could sent patch card hello think unusual home address friend checks weekly might check every months live truck truck stops need make patch available card send cards truck stops devices sold update program multiple times program said completely updated programmed height length weight told preferred highways parked truck stop cincinnati area next pickup miles freeway side couple blocks cell phone sprint said freeway pickup routed thru miles residential streets finally getting pickup exciting especially since every time refused turn street posted trucks took almost minutes figure route happened multiple times short trip decided give another chance pickup north side cincinnati needed head phoenix easy route drive west south intersection indeed cell phone advised however wanted route surface streets across city pick side city turned next time passed truck stop chain purchased returned money back spent cheap printer take minute route google print gotten lost several cross country trips'"
            ]
          },
          "metadata": {
            "tags": []
          },
          "execution_count": 13
        }
      ]
    },
    {
      "cell_type": "code",
      "metadata": {
        "id": "IA7l26QWeOME"
      },
      "source": [
        "pattern = r'\\b[^\\d\\W]+\\b'\n",
        "tokenizer = RegexpTokenizer(pattern)\n",
        "en_stop = stop_words\n",
        "lemmatizer = WordNetLemmatizer()"
      ],
      "execution_count": null,
      "outputs": []
    },
    {
      "cell_type": "code",
      "metadata": {
        "id": "XxIcMP2pecD0"
      },
      "source": [
        "# list for tokenized documents in loop\n",
        "texts = []\n",
        "\n",
        "# loop through document list\n",
        "for i in df['reviewText'].iteritems():\n",
        "    # clean and tokenize document string\n",
        "    raw = str(i[1]).lower()\n",
        "    tokens = tokenizer.tokenize(raw)\n",
        "    # add tokens to list\n",
        "    texts.append(tokens)\n",
        "\n",
        "\n",
        "\n",
        "#texts = [text for text in texts if len(text) > 2]\n",
        "\n",
        "\n"
      ],
      "execution_count": null,
      "outputs": []
    },
    {
      "cell_type": "code",
      "metadata": {
        "id": "nh3TnIn3-ni4"
      },
      "source": [
        "# turn our tokenized documents into a id <-> term dictionary\n",
        "dictionary = corpora.Dictionary(texts)\n",
        "# convert tokenized documents into a document-term matrix\n",
        "corpus = [dictionary.doc2bow(text) for text in texts]"
      ],
      "execution_count": null,
      "outputs": []
    },
    {
      "cell_type": "markdown",
      "metadata": {
        "id": "oC6hD8cUNjHW"
      },
      "source": [
        "## <a> Save Dictionary And Corbus Model </a>"
      ]
    },
    {
      "cell_type": "code",
      "metadata": {
        "id": "tQWHXRDSMJ-W"
      },
      "source": [
        "import pickle\n",
        "pickle.dump(corpus, open('corpus.pkl', 'wb'))\n",
        "dictionary.save('dictionary.gensim')"
      ],
      "execution_count": null,
      "outputs": []
    },
    {
      "cell_type": "markdown",
      "metadata": {
        "id": "1hfGR_w_Or7w"
      },
      "source": [
        "## <a> Upload Dictionary and Corpus  on curl </a> "
      ]
    },
    {
      "cell_type": "code",
      "metadata": {
        "colab": {
          "base_uri": "https://localhost:8080/"
        },
        "id": "N6z6ZMnwOset",
        "outputId": "6101dfa5-8433-493d-c462-4e37b599bc43"
      },
      "source": [
        "\n",
        "!wget https://transfer.sh/1XLvgMv/corpus.pkl"
      ],
      "execution_count": null,
      "outputs": [
        {
          "output_type": "stream",
          "text": [
            "https://transfer.sh/1XLvgMv/corpus.pkl"
          ],
          "name": "stdout"
        }
      ]
    },
    {
      "cell_type": "code",
      "metadata": {
        "colab": {
          "base_uri": "https://localhost:8080/"
        },
        "id": "v2w9ubP_O1vu",
        "outputId": "b6b42189-0e8e-44cf-f3b8-ca9833a08eda"
      },
      "source": [
        "\n",
        "!wget https://transfer.sh/1FJt6lA/dictionary.gensim"
      ],
      "execution_count": null,
      "outputs": [
        {
          "output_type": "stream",
          "text": [
            "https://transfer.sh/1FJt6lA/dictionary.gensim"
          ],
          "name": "stdout"
        }
      ]
    },
    {
      "cell_type": "code",
      "metadata": {
        "colab": {
          "base_uri": "https://localhost:8080/"
        },
        "id": "bKIKN0tqyfxV",
        "outputId": "4e8efa8f-4a3b-4b57-b0cb-acc346d29acc"
      },
      "source": [
        "print(len(corpus))"
      ],
      "execution_count": null,
      "outputs": [
        {
          "output_type": "stream",
          "text": [
            "130000\n"
          ],
          "name": "stdout"
        }
      ]
    },
    {
      "cell_type": "markdown",
      "metadata": {
        "id": "znkpWid3NrgF"
      },
      "source": [
        "## <a> Train LDA model  </a>"
      ]
    },
    {
      "cell_type": "code",
      "metadata": {
        "id": "YICwpV2AedGs",
        "colab": {
          "base_uri": "https://localhost:8080/"
        },
        "outputId": "f078e6fa-a851-47e0-eec9-58e39d4b3562"
      },
      "source": [
        "#import pprint\n",
        "ldamodel = gensim.models.ldamodel.LdaModel(corpus, num_topics=3, id2word = dictionary, passes=20)\n",
        "\n",
        "lda_viz = gensimvis.prepare(ldamodel, corpus, dictionary)\n",
        "\n",
        "lda_viz"
      ],
      "execution_count": null,
      "outputs": [
        {
          "output_type": "execute_result",
          "data": {
            "text/plain": [
              "PreparedData(topic_coordinates=              x         y  topics  cluster       Freq\n",
              "topic                                                \n",
              "0      0.124768  0.054488       1        1  41.452189\n",
              "1     -0.003123 -0.113284       2        1  32.956264\n",
              "2     -0.121645  0.058796       3        1  25.591547, topic_info=            Term          Freq         Total Category  logprob  loglift\n",
              "1401      camera  46717.000000  46717.000000  Default  30.0000  30.0000\n",
              "1329       sound  33090.000000  33090.000000  Default  29.0000  29.0000\n",
              "4628        lens  21344.000000  21344.000000  Default  28.0000  28.0000\n",
              "4373       canon  11945.000000  11945.000000  Default  27.0000  27.0000\n",
              "2758  headphones  13834.000000  13834.000000  Default  26.0000  26.0000\n",
              "...          ...           ...           ...      ...      ...      ...\n",
              "332         also   7375.460778  25721.689720   Topic3  -5.4508   0.1137\n",
              "149       bought   6589.571004  30734.095445   Topic3  -5.5635  -0.1770\n",
              "145         used   6001.564757  20671.156348   Topic3  -5.6569   0.1262\n",
              "152        price   5833.272154  19479.096747   Topic3  -5.6854   0.1571\n",
              "43          time   6157.654648  32630.086333   Topic3  -5.6313  -0.3046\n",
              "\n",
              "[205 rows x 6 columns], token_table=      Topic      Freq    Term\n",
              "term                         \n",
              "332       1  0.387883    also\n",
              "332       2  0.325367    also\n",
              "332       3  0.286723    also\n",
              "775       1  0.557148  amazon\n",
              "775       2  0.274403  amazon\n",
              "...     ...       ...     ...\n",
              "58        3  0.139581   works\n",
              "177       1  0.429855   would\n",
              "177       2  0.340371   would\n",
              "177       3  0.229767   would\n",
              "2722      3  0.999926    zoom\n",
              "\n",
              "[318 rows x 3 columns], R=30, lambda_step=0.01, plot_opts={'xlab': 'PC1', 'ylab': 'PC2'}, topic_order=[1, 2, 3])"
            ]
          },
          "metadata": {
            "tags": []
          },
          "execution_count": 24
        }
      ]
    },
    {
      "cell_type": "markdown",
      "metadata": {
        "id": "IqOwg-cGNXkZ"
      },
      "source": [
        "## <a> Save LDA model </a>"
      ]
    },
    {
      "cell_type": "code",
      "metadata": {
        "id": "b8tJ_QSmNbIW"
      },
      "source": [
        "ldamodel.save('lda.gensim')"
      ],
      "execution_count": null,
      "outputs": []
    },
    {
      "cell_type": "markdown",
      "metadata": {
        "id": "QHw9usBKOCco"
      },
      "source": [
        "## <a> Upload LDA model  on curl </a> "
      ]
    },
    {
      "cell_type": "code",
      "metadata": {
        "colab": {
          "base_uri": "https://localhost:8080/"
        },
        "id": "fvn3rUzfOG0Z",
        "outputId": "4066d9a5-2413-4483-c1a7-f9a3028387e0"
      },
      "source": [
        "!wget https://transfer.sh/1GxKt3Y/lda.gensim"
      ],
      "execution_count": null,
      "outputs": [
        {
          "output_type": "stream",
          "text": [
            "https://transfer.sh/1GxKt3Y/lda.gensim"
          ],
          "name": "stdout"
        }
      ]
    },
    {
      "cell_type": "markdown",
      "metadata": {
        "id": "DDTZPV8UN0Fu"
      },
      "source": [
        "## <a>  Visualize Topic Modeling </a>"
      ]
    },
    {
      "cell_type": "code",
      "metadata": {
        "id": "YWoYRUAoefMN",
        "colab": {
          "base_uri": "https://localhost:8080/",
          "height": 881
        },
        "outputId": "729eb59f-1244-4041-dca3-6a5f9874c0e9"
      },
      "source": [
        "pyLDAvis.enable_notebook()\n",
        "#pyLDAvis.gensim.prepare(ldamodel, corpus, dictionary)\n",
        "lda_viz = gensimvis.prepare(ldamodel, corpus, dictionary)\n",
        "lda_viz"
      ],
      "execution_count": null,
      "outputs": [
        {
          "output_type": "execute_result",
          "data": {
            "text/html": [
              "\n",
              "<link rel=\"stylesheet\" type=\"text/css\" href=\"https://cdn.jsdelivr.net/gh/bmabey/pyLDAvis@3.3.1/pyLDAvis/js/ldavis.v1.0.0.css\">\n",
              "\n",
              "\n",
              "<div id=\"ldavis_el13241399401107081761446909519\"></div>\n",
              "<script type=\"text/javascript\">\n",
              "\n",
              "var ldavis_el13241399401107081761446909519_data = {\"mdsDat\": {\"x\": [0.12476795209677818, -0.0031228917070268126, -0.12164506038975138], \"y\": [0.054488436333105426, -0.11328395262883856, 0.058795516295733104], \"topics\": [1, 2, 3], \"cluster\": [1, 1, 1], \"Freq\": [41.45230719129325, 32.95640408002059, 25.591288728686155]}, \"tinfo\": {\"Term\": [\"camera\", \"sound\", \"lens\", \"canon\", \"headphones\", \"drive\", \"pictures\", \"cable\", \"speakers\", \"quality\", \"radio\", \"software\", \"mouse\", \"image\", \"support\", \"case\", \"flash\", \"volume\", \"light\", \"focus\", \"cord\", \"photos\", \"unit\", \"cameras\", \"bass\", \"antenna\", \"ipod\", \"noise\", \"device\", \"picture\", \"drive\", \"mouse\", \"support\", \"keyboard\", \"router\", \"wireless\", \"windows\", \"service\", \"customer\", \"files\", \"drives\", \"data\", \"software\", \"tech\", \"network\", \"firmware\", \"port\", \"buttons\", \"garmin\", \"internet\", \"media\", \"linksys\", \"microsoft\", \"machine\", \"disk\", \"keys\", \"link\", \"computers\", \"vista\", \"program\", \"record\", \"remote\", \"charge\", \"device\", \"computer\", \"button\", \"unit\", \"card\", \"warranty\", \"work\", \"worked\", \"problems\", \"time\", \"player\", \"problem\", \"working\", \"product\", \"back\", \"would\", \"battery\", \"laptop\", \"another\", \"tried\", \"amazon\", \"first\", \"even\", \"bought\", \"like\", \"using\", \"works\", \"also\", \"could\", \"well\", \"good\", \"sound\", \"headphones\", \"speakers\", \"radio\", \"volume\", \"bass\", \"cord\", \"antenna\", \"speaker\", \"pair\", \"wire\", \"hdmi\", \"ears\", \"hear\", \"headset\", \"bose\", \"loud\", \"stereo\", \"sounds\", \"listen\", \"headphone\", \"reception\", \"wires\", \"listening\", \"earbuds\", \"stations\", \"jack\", \"phones\", \"buds\", \"earphones\", \"cables\", \"noise\", \"cable\", \"audio\", \"music\", \"ipod\", \"quality\", \"cheap\", \"good\", \"better\", \"like\", \"price\", \"would\", \"much\", \"bought\", \"even\", \"well\", \"great\", \"product\", \"work\", \"really\", \"also\", \"could\", \"back\", \"camera\", \"lens\", \"canon\", \"pictures\", \"image\", \"focus\", \"cameras\", \"photos\", \"nikon\", \"zoom\", \"tripod\", \"images\", \"shots\", \"lenses\", \"frame\", \"strap\", \"shoot\", \"photo\", \"filter\", \"sharp\", \"shot\", \"kodak\", \"shooting\", \"shutter\", \"body\", \"ring\", \"sensor\", \"olympus\", \"film\", \"blurry\", \"glass\", \"flash\", \"camcorder\", \"wide\", \"light\", \"case\", \"picture\", \"angle\", \"take\", \"quality\", \"digital\", \"good\", \"like\", \"would\", \"much\", \"better\", \"small\", \"screen\", \"well\", \"great\", \"even\", \"really\", \"also\", \"bought\", \"used\", \"price\", \"time\"], \"Freq\": [46716.0, 33090.0, 21344.0, 11945.0, 13834.0, 17167.0, 10954.0, 24656.0, 11428.0, 34725.0, 10462.0, 12776.0, 12741.0, 8036.0, 11399.0, 17986.0, 8389.0, 8221.0, 13798.0, 6490.0, 7882.0, 6220.0, 23353.0, 6060.0, 7307.0, 7239.0, 12727.0, 9808.0, 13115.0, 12405.0, 17166.606777359593, 12741.001738668852, 11398.33354223897, 7774.948579365324, 7092.359694410899, 7324.869204092546, 7004.8457901977845, 6338.638224664641, 5378.265393146888, 4711.969707233976, 4497.167210333942, 4412.903393068742, 12774.193316418814, 4345.234068790585, 3709.2624845933474, 3785.585424547911, 4198.141392666764, 4040.407856713973, 3502.5550756685443, 3184.739206875765, 3151.856698398959, 2879.635998752455, 2677.8076079133352, 2853.7107886415224, 2668.9756456594937, 2523.593055655544, 2567.4899636593796, 2457.0775575999746, 2283.3700969963375, 2450.17922213527, 2580.6866384736045, 7536.608869851673, 4965.0397749361955, 12045.515529013825, 12774.536726722321, 6032.432215906293, 18061.28003426459, 10843.361757563687, 5415.982859519493, 23867.5292654014, 9858.203125404281, 7615.641835456087, 19137.526629569464, 9885.623466223411, 13459.522356417643, 8167.9615854667345, 18058.02865142874, 15267.495963445066, 23202.337028067497, 10063.242402581198, 6575.243388173593, 10104.3414885274, 9460.492525528476, 9749.671862672534, 10670.03804177562, 13543.56716862136, 12756.871182354716, 13111.30949221269, 9663.029443097568, 9316.830388747901, 9977.000412379, 9580.959564111003, 9342.47665898023, 9863.794881855736, 33089.804894183224, 13833.290038063042, 11427.95025404483, 10461.2992071682, 8220.317630409121, 7306.968007894258, 7882.071568853885, 7238.950467693518, 5628.595691903732, 5669.4455730182635, 5054.41063252078, 5958.197638788965, 4569.587070616411, 4979.337681442784, 4067.2099802626794, 3629.869807494632, 4106.069345341163, 3685.89093408526, 4009.6714973096855, 3549.7476734644288, 3069.440635717942, 3278.1609752131835, 3169.827758123942, 3065.1935318206333, 2814.196877747139, 2867.660057294031, 2851.482220634073, 2512.9402089073287, 2251.61646503708, 2031.8636749577238, 7573.203648866919, 8876.132392450509, 19289.108010778767, 7682.619698437468, 8561.131684314176, 9987.604814115484, 20100.239174317197, 9581.805357014911, 20179.85569460791, 14432.393123113614, 17127.59716858623, 10162.408594268754, 18372.481557905387, 11701.796631020747, 11387.738121080565, 11832.265066420794, 10692.123856340148, 9947.736797277534, 10855.14835603786, 11388.799317518004, 9399.590716692233, 8369.29261047662, 7772.375281000828, 7633.128278372443, 46716.220307892785, 21343.65797006635, 11944.793470694838, 10953.959367931508, 8035.504461702171, 6489.936051784445, 6059.662936695493, 6219.42582832761, 4949.199874509954, 4861.69406162601, 4412.126017601097, 4520.344827692546, 3592.440154606619, 3331.335383966344, 4062.6571927576692, 3351.0409326712015, 3232.140408318803, 4343.554716301164, 2914.324307365592, 3204.7072875773565, 3446.887547115085, 2685.4838900618515, 2293.558021164511, 1840.9396302835573, 1966.1214570432724, 1767.9337154833847, 1831.823191381297, 1669.812791545039, 1568.3494066870987, 1430.6783786466938, 1561.8061916702493, 7703.674886083581, 2513.35400303253, 3052.474758487365, 10178.61003947722, 12254.935602192103, 8575.020836203708, 2727.226499720001, 6726.223027595646, 12230.063204734239, 5316.656365352414, 13134.753160169714, 11736.280232023735, 12401.524259563272, 8831.405179583513, 8769.326190849779, 5931.966388866929, 6172.416365101817, 8138.9414415769625, 7749.870710137493, 8725.265669597986, 7267.389081519426, 7375.3862809416405, 6589.504445409839, 6001.504136695509, 5833.213234490451, 6157.5924514186245], \"Total\": [46716.0, 33090.0, 21344.0, 11945.0, 13834.0, 17167.0, 10954.0, 24656.0, 11428.0, 34725.0, 10462.0, 12776.0, 12741.0, 8036.0, 11399.0, 17986.0, 8389.0, 8221.0, 13798.0, 6490.0, 7882.0, 6220.0, 23353.0, 6060.0, 7307.0, 7239.0, 12727.0, 9808.0, 13115.0, 12405.0, 17167.570080404865, 12741.922377843663, 11399.331452111108, 7775.872850427963, 7093.253318978463, 7325.81990504369, 7005.764774697121, 6339.660354550536, 5379.311804224004, 4712.928606556448, 4498.115204224538, 4413.839458192742, 12776.936669781844, 4346.22036408591, 3710.166308927729, 3786.518018585432, 4199.206534926408, 4041.4553640724516, 3503.574089685844, 3185.6975112073046, 3152.8141095261744, 2880.5198195109483, 2678.7237388367776, 2854.6882432650227, 2669.912185966683, 2524.5335998971277, 2568.4711286240326, 2458.036120748584, 2284.2858324356785, 2451.1619171422712, 2581.7878338858613, 7655.206148702314, 5018.315705369521, 13115.561765272741, 14923.6771796748, 6666.226506457034, 23353.952647972204, 13602.19769491892, 6220.880614179051, 38277.81004926427, 13420.752142533116, 9688.664377930576, 32630.109886845326, 13800.193283780936, 20903.910935098455, 10822.260729896723, 32522.018351692856, 27906.222031551326, 53976.34284553616, 15376.516715930567, 8116.058019270344, 17104.558574855542, 16290.997924982888, 17499.845814799355, 20928.149738546177, 34101.09790464014, 30734.11374884512, 41975.18689282266, 19620.54636394704, 17581.163368041452, 25721.67930379726, 21940.354482799543, 28173.541956897338, 43178.40373663336, 33090.620022876814, 13834.062314721157, 11428.728204158086, 10462.105581345639, 8221.166447665233, 7307.736892195278, 7882.928428182537, 7239.759789845283, 5629.384233418068, 5670.2828267298655, 5055.220608675398, 5959.194110336434, 4570.375272817355, 4980.297770194585, 4067.9988166419703, 3630.643472631227, 4106.946679701294, 3686.7079897017047, 4010.6215703733874, 3550.5994751691005, 3070.217355473333, 3278.9956733346116, 3170.6465052915537, 3066.00489523857, 2814.9712375187223, 2868.461446038761, 2852.30527484458, 2513.7869619717844, 2252.393208027322, 2032.6387718356063, 8239.998539885482, 9808.157777601044, 24656.15774726873, 8876.808671421071, 10441.112258961884, 12727.356308732355, 34725.614515831716, 14681.196100865427, 43178.40373663336, 28502.130999529232, 41975.18689282266, 19479.091066880355, 53976.34284553616, 27200.31523029376, 30734.11374884512, 34101.09790464014, 28173.541956897338, 24955.74366626445, 32522.018351692856, 38277.81004926427, 23122.59458729846, 25721.67930379726, 21940.354482799543, 27906.222031551326, 46716.83692627237, 21344.255816321718, 11945.401100278255, 10954.61225899913, 8036.200730706047, 6490.547306769185, 6060.281322679291, 6220.1091546528005, 4949.803500522808, 4862.310770985783, 4412.727205133731, 4520.995262376729, 3593.040356377041, 3331.9320594643696, 4063.387994452623, 3351.662450031774, 3232.7598214728946, 4344.387636352583, 2914.9408405748627, 3205.39750357318, 3447.631415179344, 2686.11370908857, 2294.1872030431496, 1841.5390025257727, 1966.8053448637295, 1768.6132556416806, 1832.5291348432577, 1670.4724833137266, 1568.9744444853266, 1431.2942963336898, 1562.4833726476502, 8389.018507079463, 2643.9112590300474, 3309.7416224332637, 13798.014215244933, 17986.42783134636, 12405.707237758375, 3151.0691321391005, 12596.720842868219, 34725.614515831716, 9173.63364687988, 43178.40373663336, 41975.18689282266, 53976.34284553616, 27200.31523029376, 28502.130999529232, 12310.458343302138, 13493.29180274926, 28173.541956897338, 24955.74366626445, 34101.09790464014, 23122.59458729846, 25721.67930379726, 30734.11374884512, 20671.14647059822, 19479.091066880355, 32630.109886845326], \"Category\": [\"Default\", \"Default\", \"Default\", \"Default\", \"Default\", \"Default\", \"Default\", \"Default\", \"Default\", \"Default\", \"Default\", \"Default\", \"Default\", \"Default\", \"Default\", \"Default\", \"Default\", \"Default\", \"Default\", \"Default\", \"Default\", \"Default\", \"Default\", \"Default\", \"Default\", \"Default\", \"Default\", \"Default\", \"Default\", \"Default\", \"Topic1\", \"Topic1\", \"Topic1\", \"Topic1\", \"Topic1\", \"Topic1\", \"Topic1\", \"Topic1\", \"Topic1\", \"Topic1\", \"Topic1\", \"Topic1\", \"Topic1\", \"Topic1\", \"Topic1\", \"Topic1\", \"Topic1\", \"Topic1\", \"Topic1\", \"Topic1\", \"Topic1\", \"Topic1\", \"Topic1\", \"Topic1\", \"Topic1\", \"Topic1\", \"Topic1\", \"Topic1\", \"Topic1\", \"Topic1\", \"Topic1\", \"Topic1\", \"Topic1\", \"Topic1\", \"Topic1\", \"Topic1\", \"Topic1\", \"Topic1\", \"Topic1\", \"Topic1\", \"Topic1\", \"Topic1\", \"Topic1\", \"Topic1\", \"Topic1\", \"Topic1\", \"Topic1\", \"Topic1\", \"Topic1\", \"Topic1\", \"Topic1\", \"Topic1\", \"Topic1\", \"Topic1\", \"Topic1\", \"Topic1\", \"Topic1\", \"Topic1\", \"Topic1\", \"Topic1\", \"Topic1\", \"Topic1\", \"Topic1\", \"Topic1\", \"Topic2\", \"Topic2\", \"Topic2\", \"Topic2\", \"Topic2\", \"Topic2\", \"Topic2\", \"Topic2\", \"Topic2\", \"Topic2\", \"Topic2\", \"Topic2\", \"Topic2\", \"Topic2\", \"Topic2\", \"Topic2\", \"Topic2\", \"Topic2\", \"Topic2\", \"Topic2\", \"Topic2\", \"Topic2\", \"Topic2\", \"Topic2\", \"Topic2\", \"Topic2\", \"Topic2\", \"Topic2\", \"Topic2\", \"Topic2\", \"Topic2\", \"Topic2\", \"Topic2\", \"Topic2\", \"Topic2\", \"Topic2\", \"Topic2\", \"Topic2\", \"Topic2\", \"Topic2\", \"Topic2\", \"Topic2\", \"Topic2\", \"Topic2\", \"Topic2\", \"Topic2\", \"Topic2\", \"Topic2\", \"Topic2\", \"Topic2\", \"Topic2\", \"Topic2\", \"Topic2\", \"Topic2\", \"Topic3\", \"Topic3\", \"Topic3\", \"Topic3\", \"Topic3\", \"Topic3\", \"Topic3\", \"Topic3\", \"Topic3\", \"Topic3\", \"Topic3\", \"Topic3\", \"Topic3\", \"Topic3\", \"Topic3\", \"Topic3\", \"Topic3\", \"Topic3\", \"Topic3\", \"Topic3\", \"Topic3\", \"Topic3\", \"Topic3\", \"Topic3\", \"Topic3\", \"Topic3\", \"Topic3\", \"Topic3\", \"Topic3\", \"Topic3\", \"Topic3\", \"Topic3\", \"Topic3\", \"Topic3\", \"Topic3\", \"Topic3\", \"Topic3\", \"Topic3\", \"Topic3\", \"Topic3\", \"Topic3\", \"Topic3\", \"Topic3\", \"Topic3\", \"Topic3\", \"Topic3\", \"Topic3\", \"Topic3\", \"Topic3\", \"Topic3\", \"Topic3\", \"Topic3\", \"Topic3\", \"Topic3\", \"Topic3\", \"Topic3\", \"Topic3\"], \"logprob\": [30.0, 29.0, 28.0, 27.0, 26.0, 25.0, 24.0, 23.0, 22.0, 21.0, 20.0, 19.0, 18.0, 17.0, 16.0, 15.0, 14.0, 13.0, 12.0, 11.0, 10.0, 9.0, 8.0, 7.0, 6.0, 5.0, 4.0, 3.0, 2.0, 1.0, -5.0883, -5.3864, -5.4978, -5.8803, -5.9722, -5.94, -5.9846, -6.0846, -6.2489, -6.3811, -6.4278, -6.4467, -5.3838, -6.4622, -6.6204, -6.6, -6.4966, -6.5349, -6.6778, -6.7729, -6.7833, -6.8736, -6.9462, -6.8826, -6.9496, -7.0056, -6.9883, -7.0323, -7.1056, -7.0351, -6.9832, -5.9115, -6.3288, -5.4426, -5.3838, -6.1341, -5.0375, -5.5477, -6.2419, -4.7587, -5.6429, -5.901, -4.9796, -5.6402, -5.3316, -5.831, -5.0377, -5.2055, -4.787, -5.6224, -6.0479, -5.6183, -5.6841, -5.654, -5.5638, -5.3253, -5.3852, -5.3578, -5.6629, -5.6994, -5.631, -5.6715, -5.6967, -5.6424, -4.2027, -5.0748, -5.2658, -5.3542, -5.5953, -5.7131, -5.6373, -5.7224, -5.974, -5.9668, -6.0816, -5.9171, -6.1825, -6.0966, -6.2989, -6.4127, -6.2894, -6.3974, -6.3132, -6.435, -6.5804, -6.5146, -6.5482, -6.5818, -6.6672, -6.6484, -6.6541, -6.7804, -6.8902, -6.9929, -5.6773, -5.5185, -4.7423, -5.6629, -5.5547, -5.4005, -4.7012, -5.442, -4.6972, -5.0324, -4.8612, -5.3832, -4.791, -5.2421, -5.2694, -5.2311, -5.3324, -5.4045, -5.3173, -5.2693, -5.4612, -5.5773, -5.6513, -5.6694, -3.6049, -4.3882, -4.9687, -5.0553, -5.3651, -5.5787, -5.6473, -5.6213, -5.8497, -5.8676, -5.9646, -5.9404, -6.1701, -6.2456, -6.0471, -6.2397, -6.2758, -5.9803, -6.3793, -6.2843, -6.2115, -6.4611, -6.6189, -6.8387, -6.7729, -6.8791, -6.8436, -6.9362, -6.9989, -7.0908, -7.0031, -5.4073, -6.5273, -6.333, -5.1287, -4.943, -5.3001, -6.4457, -5.5429, -4.9451, -5.7781, -4.8737, -4.9863, -4.9311, -5.2706, -5.2777, -5.6686, -5.6289, -5.3523, -5.4013, -5.2827, -5.4656, -5.4508, -5.5635, -5.6569, -5.6854, -5.6313], \"loglift\": [30.0, 29.0, 28.0, 27.0, 26.0, 25.0, 24.0, 23.0, 22.0, 21.0, 20.0, 19.0, 18.0, 17.0, 16.0, 15.0, 14.0, 13.0, 12.0, 11.0, 10.0, 9.0, 8.0, 7.0, 6.0, 5.0, 4.0, 3.0, 2.0, 1.0, 0.8806, 0.8806, 0.8805, 0.8805, 0.8805, 0.8805, 0.8805, 0.8805, 0.8804, 0.8804, 0.8804, 0.8804, 0.8804, 0.8804, 0.8804, 0.8804, 0.8804, 0.8804, 0.8803, 0.8803, 0.8803, 0.8803, 0.8803, 0.8803, 0.8803, 0.8803, 0.8802, 0.8802, 0.8802, 0.8802, 0.8802, 0.865, 0.87, 0.7955, 0.7251, 0.7807, 0.6236, 0.6539, 0.7421, 0.4083, 0.5721, 0.6399, 0.347, 0.547, 0.4404, 0.5992, 0.2923, 0.2775, 0.0363, 0.4567, 0.6701, 0.3542, 0.3371, 0.2957, 0.207, -0.0428, 0.0013, -0.283, 0.1724, 0.2456, -0.0664, 0.0521, -0.2232, -0.5958, 1.11, 1.1099, 1.1099, 1.1099, 1.1099, 1.1099, 1.1099, 1.1099, 1.1098, 1.1098, 1.1098, 1.1098, 1.1098, 1.1098, 1.1098, 1.1098, 1.1098, 1.1098, 1.1097, 1.1097, 1.1097, 1.1097, 1.1097, 1.1097, 1.1097, 1.1097, 1.1097, 1.1096, 1.1096, 1.1096, 1.0256, 1.0101, 0.8645, 0.9655, 0.9115, 0.8676, 0.5632, 0.6833, 0.3493, 0.4295, 0.2136, 0.4593, 0.0323, 0.2665, 0.1171, 0.0515, 0.1411, 0.1902, 0.0127, -0.1023, 0.2098, -0.0128, 0.0722, -0.1864, 1.3629, 1.3629, 1.3629, 1.3629, 1.3628, 1.3628, 1.3628, 1.3628, 1.3628, 1.3628, 1.3628, 1.3628, 1.3628, 1.3627, 1.3627, 1.3627, 1.3627, 1.3627, 1.3627, 1.3627, 1.3627, 1.3627, 1.3626, 1.3626, 1.3626, 1.3625, 1.3625, 1.3625, 1.3625, 1.3625, 1.3625, 1.2777, 1.3123, 1.282, 1.0587, 0.9792, 0.9936, 1.2185, 0.7355, 0.3193, 0.8174, 0.1728, 0.0885, -0.1078, 0.238, 0.1842, 0.6328, 0.5808, 0.1212, 0.1935, -0.0002, 0.2055, 0.1137, -0.177, 0.1262, 0.1571, -0.3046]}, \"token.table\": {\"Topic\": [1, 2, 3, 1, 2, 3, 2, 3, 1, 2, 3, 2, 3, 1, 2, 3, 1, 2, 3, 2, 3, 1, 2, 3, 1, 2, 3, 3, 3, 2, 3, 1, 2, 3, 2, 3, 1, 3, 1, 3, 1, 2, 3, 1, 2, 3, 1, 3, 3, 3, 3, 1, 3, 1, 2, 3, 1, 3, 1, 2, 3, 1, 2, 3, 1, 3, 2, 3, 1, 2, 3, 1, 3, 1, 3, 1, 2, 3, 1, 2, 3, 1, 3, 1, 3, 1, 3, 2, 3, 2, 3, 2, 3, 1, 2, 3, 1, 3, 3, 3, 1, 3, 1, 2, 3, 1, 3, 3, 3, 1, 3, 3, 1, 2, 3, 1, 2, 3, 2, 3, 2, 3, 2, 3, 2, 3, 2, 3, 3, 3, 1, 3, 1, 2, 3, 2, 3, 1, 3, 1, 3, 3, 1, 2, 3, 3, 3, 1, 2, 3, 1, 2, 3, 1, 3, 1, 3, 2, 3, 2, 3, 2, 3, 1, 3, 1, 3, 1, 3, 1, 3, 1, 2, 3, 1, 2, 3, 1, 3, 3, 2, 3, 3, 2, 3, 2, 3, 3, 3, 1, 2, 3, 3, 1, 2, 3, 1, 2, 3, 1, 2, 3, 1, 2, 3, 1, 2, 3, 1, 2, 3, 1, 3, 1, 2, 3, 2, 3, 1, 2, 3, 2, 3, 1, 3, 1, 3, 3, 1, 3, 1, 3, 3, 1, 3, 3, 3, 3, 3, 3, 3, 1, 2, 3, 1, 3, 2, 3, 2, 3, 2, 3, 2, 3, 2, 3, 2, 3, 3, 1, 3, 1, 2, 3, 1, 3, 1, 2, 3, 1, 2, 3, 3, 1, 2, 3, 1, 2, 3, 1, 2, 3, 1, 3, 2, 3, 1, 2, 3, 1, 2, 3, 2, 3, 1, 3, 2, 3, 1, 3, 2, 3, 1, 2, 3, 1, 2, 3, 1, 2, 3, 1, 2, 3, 1, 2, 3, 3], \"Freq\": [0.387882917058495, 0.3253675586711982, 0.2867231144939762, 0.5571477659394332, 0.274402417645247, 0.16845862707584092, 0.1345575048403232, 0.8654205558951918, 0.5907197169562345, 0.2593460673414347, 0.14990155921177606, 0.9998950531692572, 0.0001381261297374302, 0.1345077993901219, 0.865513754367091, 0.00011265309831668501, 0.5470822952221489, 0.2735232304598587, 0.17938651797223276, 0.999899162735858, 0.0001368412703894701, 0.6544395057675454, 0.031476569690101555, 0.3140503203171496, 0.18595100836802483, 0.5063481042957234, 0.3076612061092848, 0.9997943844711437, 0.999590531485064, 0.9998227662297118, 0.0002754332689338049, 0.4150762278114938, 0.3705328903595901, 0.21441971790215128, 0.9998254265614367, 0.00044397221428127734, 0.9048597424880913, 0.09495626939571647, 0.9996398910933448, 0.00024743561660726357, 0.21763326042130043, 0.7823197838737354, 4.055781968343281e-05, 0.08082525704054991, 0.9190535609130397, 0.00012135924480563048, 0.04916957766868929, 0.9504857590878167, 0.9999820851254615, 0.9999535792706127, 0.9999664222009049, 0.7971505960430487, 0.20276135238280257, 0.1338787235897608, 0.1848060121313808, 0.6813470754121755, 0.9893757769539142, 0.010561312422670182, 0.10591780051955957, 0.6526716170922313, 0.24139722510695763, 0.8560222689216853, 0.14399936249805884, 6.700761400561137e-05, 0.9995784761908754, 0.0004068288466385329, 0.9998822229339014, 0.00012685640991295374, 0.4366839199207635, 0.35423310986579415, 0.20906681355563533, 0.9997561390245172, 0.00018589738546383733, 0.9998098122506055, 0.00022656012060969985, 0.9184509375645108, 0.08150623047123212, 7.624530446326672e-05, 0.2116936510387582, 0.20875043343935218, 0.5795958509645094, 0.9996583460791417, 0.00037454415364523855, 0.9999667931802698, 5.824936175104968e-05, 0.9997520729963763, 0.00022231533755756645, 0.9996549742655352, 0.0003552434165833458, 0.9996857425704669, 0.000491971330005151, 0.9999178901523499, 0.00021880041360007656, 0.39717196313955233, 0.3469683009352616, 0.25585686491380644, 0.9998029661312593, 0.00021218229332157457, 0.9993789290266953, 0.9996772351048204, 0.9998631939468162, 0.0002640948742595922, 0.5098396243002615, 0.2825858986046623, 0.2075673222080915, 0.08165436748314847, 0.9183434264090157, 0.9999156763300048, 0.9999045145447216, 0.9998361417024022, 0.00028542282092560724, 0.9996906382134287, 0.22844753734217366, 0.4673632708399295, 0.3042030011140968, 0.29083485136976595, 0.3986256684246944, 0.31054975173817667, 0.9997996188218868, 0.0001678079252806121, 0.9996034953449915, 0.00032570983882208914, 0.9999232102113617, 7.228534737304719e-05, 0.9997544697805997, 0.00024582111378918117, 0.9997394191563501, 0.00020079120690025108, 0.9999750216908745, 0.9997798576819994, 0.9997810491407766, 0.0003139029981603694, 0.21520572957643586, 0.7847662749213002, 7.85709125872347e-05, 0.9995423789816289, 0.0003505936089027109, 0.9998877488810899, 0.0001286029259011048, 0.999788634266088, 0.00039611277110383834, 0.9995853827465302, 0.810122350578158, 0.18974728819625297, 0.00012321252480276167, 0.9999880147462662, 0.9997202645649025, 0.11617613773936415, 0.1461079810870606, 0.737714850935114, 0.3123512000905909, 0.408050595313221, 0.2795937521366162, 0.9994272356782065, 0.0003893366714757329, 0.9998195396860569, 0.000347159562390992, 0.9998311622661771, 0.0002816425809200499, 0.999672246042356, 0.0003261573396549286, 0.9997694930625779, 0.0002434898911501651, 0.9997589077312921, 0.00035030094874957673, 0.9997417832140136, 0.00031717696167957285, 0.9997298195307397, 0.00037331210587406266, 0.9999276107783182, 7.848109338186312e-05, 0.2451074534818175, 0.43021560231651845, 0.3246653549869402, 0.17996167011682154, 0.8199318030176207, 9.577523689027225e-05, 0.9996856451084356, 0.00026952969671297807, 0.9998376702180758, 0.904960972413207, 0.09502294122229708, 0.9997171558834724, 0.9997737631844714, 0.00017635804607240633, 0.9996869416606541, 0.0003978061845048365, 0.9999107730743593, 0.9998216824455611, 0.13453485303281884, 0.17427462687654544, 0.6912141190871309, 0.9999441094778478, 0.7163667781101877, 0.28361921601489726, 7.246275319746993e-05, 0.9997126754980084, 0.00023814022760791054, 0.00023814022760791054, 0.17880711107316644, 0.5216875861973923, 0.2994492905224748, 0.64389864852515, 0.1975706848743588, 0.15858276521997566, 0.7860732607631846, 0.11477330172907843, 0.0991880782029176, 0.5552545910503133, 0.33377387229212263, 0.1109709723723879, 0.9995259729134394, 0.00040796978486262834, 0.06896926183719797, 0.5788234500741875, 0.35218959176155784, 0.9998943251588275, 9.558305373853623e-05, 0.27920742093304546, 0.40652877273398813, 0.314281339516797, 0.9996963480791669, 0.00030497143016448044, 0.9996948494854918, 0.00038732849650735833, 0.9845587242974049, 0.015414346486280189, 0.999653256222227, 0.9998233083012685, 0.0001409790338834276, 0.5424917882905749, 0.4574124750450038, 0.9997112543352262, 0.9998958375506565, 0.0001577371568939354, 0.9998759893046847, 0.9997649619783543, 0.999918401147517, 0.999816855370164, 0.9997104523540364, 0.9997073086559484, 0.17245499239718234, 0.3456410704898779, 0.48186670508718116, 0.999770158539739, 0.00015653204298414578, 0.999981262881252, 3.0220044209164462e-05, 0.9998450189422061, 0.0002493379099606499, 0.9999317450360223, 0.00017763932226612584, 0.9999362830102285, 8.749879970338016e-05, 0.9998391311692899, 0.00034861894392234656, 0.9998079615462677, 0.00027124469928005093, 0.9998023518055145, 0.9998831991054299, 8.772444280623179e-05, 0.2934890791116563, 0.17258459777893986, 0.5339484842047606, 0.9997192125608738, 0.00023008497412218038, 0.5865135013754702, 0.22479237812671513, 0.1887213993870909, 0.5806887977987351, 0.3207906614478001, 0.09852066812547249, 0.9998352027895844, 0.7733594510635533, 0.2265997572132398, 4.2819304084134505e-05, 0.4028804116813453, 0.30680446336252304, 0.2903564158154941, 0.49249393063568625, 0.24938143460627268, 0.2580967882375158, 0.9994370965238148, 0.0004377735858623806, 0.999858116524868, 0.00012163724045314696, 0.8706162898634459, 0.08969791169567999, 0.03970498958572215, 0.3315877007687678, 0.37950499856772274, 0.28888806428569913, 0.07764956583259153, 0.922126361560581, 0.9998908363723711, 0.00014273959120233705, 0.9997585449241715, 0.00019781530370482223, 0.9998880800982938, 0.0001365034921635896, 0.9997960966981104, 0.00031539309044104427, 0.6235466441074197, 0.297535307932772, 0.07892301038413418, 0.7345340928216666, 0.24618590410659225, 0.01929847129649134, 0.7547406409675317, 0.2219499289427046, 0.023377740225855228, 0.5299421775999296, 0.3304673233718569, 0.13958120680800978, 0.4298549841807003, 0.34037133735746167, 0.22976732668774438, 0.9999360857418581], \"Term\": [\"also\", \"also\", \"also\", \"amazon\", \"amazon\", \"amazon\", \"angle\", \"angle\", \"another\", \"another\", \"another\", \"antenna\", \"antenna\", \"audio\", \"audio\", \"audio\", \"back\", \"back\", \"back\", \"bass\", \"bass\", \"battery\", \"battery\", \"battery\", \"better\", \"better\", \"better\", \"blurry\", \"body\", \"bose\", \"bose\", \"bought\", \"bought\", \"bought\", \"buds\", \"buds\", \"button\", \"button\", \"buttons\", \"buttons\", \"cable\", \"cable\", \"cable\", \"cables\", \"cables\", \"cables\", \"camcorder\", \"camcorder\", \"camera\", \"cameras\", \"canon\", \"card\", \"card\", \"case\", \"case\", \"case\", \"charge\", \"charge\", \"cheap\", \"cheap\", \"cheap\", \"computer\", \"computer\", \"computer\", \"computers\", \"computers\", \"cord\", \"cord\", \"could\", \"could\", \"could\", \"customer\", \"customer\", \"data\", \"data\", \"device\", \"device\", \"device\", \"digital\", \"digital\", \"digital\", \"disk\", \"disk\", \"drive\", \"drive\", \"drives\", \"drives\", \"earbuds\", \"earbuds\", \"earphones\", \"earphones\", \"ears\", \"ears\", \"even\", \"even\", \"even\", \"files\", \"files\", \"film\", \"filter\", \"firmware\", \"firmware\", \"first\", \"first\", \"first\", \"flash\", \"flash\", \"focus\", \"frame\", \"garmin\", \"garmin\", \"glass\", \"good\", \"good\", \"good\", \"great\", \"great\", \"great\", \"hdmi\", \"hdmi\", \"headphone\", \"headphone\", \"headphones\", \"headphones\", \"headset\", \"headset\", \"hear\", \"hear\", \"image\", \"images\", \"internet\", \"internet\", \"ipod\", \"ipod\", \"ipod\", \"jack\", \"jack\", \"keyboard\", \"keyboard\", \"keys\", \"keys\", \"kodak\", \"laptop\", \"laptop\", \"laptop\", \"lens\", \"lenses\", \"light\", \"light\", \"light\", \"like\", \"like\", \"like\", \"link\", \"link\", \"linksys\", \"linksys\", \"listen\", \"listen\", \"listening\", \"listening\", \"loud\", \"loud\", \"machine\", \"machine\", \"media\", \"media\", \"microsoft\", \"microsoft\", \"mouse\", \"mouse\", \"much\", \"much\", \"much\", \"music\", \"music\", \"music\", \"network\", \"network\", \"nikon\", \"noise\", \"noise\", \"olympus\", \"pair\", \"pair\", \"phones\", \"phones\", \"photo\", \"photos\", \"picture\", \"picture\", \"picture\", \"pictures\", \"player\", \"player\", \"player\", \"port\", \"port\", \"port\", \"price\", \"price\", \"price\", \"problem\", \"problem\", \"problem\", \"problems\", \"problems\", \"problems\", \"product\", \"product\", \"product\", \"program\", \"program\", \"quality\", \"quality\", \"quality\", \"radio\", \"radio\", \"really\", \"really\", \"really\", \"reception\", \"reception\", \"record\", \"record\", \"remote\", \"remote\", \"ring\", \"router\", \"router\", \"screen\", \"screen\", \"sensor\", \"service\", \"service\", \"sharp\", \"shoot\", \"shooting\", \"shot\", \"shots\", \"shutter\", \"small\", \"small\", \"small\", \"software\", \"software\", \"sound\", \"sound\", \"sounds\", \"sounds\", \"speaker\", \"speaker\", \"speakers\", \"speakers\", \"stations\", \"stations\", \"stereo\", \"stereo\", \"strap\", \"support\", \"support\", \"take\", \"take\", \"take\", \"tech\", \"tech\", \"time\", \"time\", \"time\", \"tried\", \"tried\", \"tried\", \"tripod\", \"unit\", \"unit\", \"unit\", \"used\", \"used\", \"used\", \"using\", \"using\", \"using\", \"vista\", \"vista\", \"volume\", \"volume\", \"warranty\", \"warranty\", \"warranty\", \"well\", \"well\", \"well\", \"wide\", \"wide\", \"windows\", \"windows\", \"wire\", \"wire\", \"wireless\", \"wireless\", \"wires\", \"wires\", \"work\", \"work\", \"work\", \"worked\", \"worked\", \"worked\", \"working\", \"working\", \"working\", \"works\", \"works\", \"works\", \"would\", \"would\", \"would\", \"zoom\"]}, \"R\": 30, \"lambda.step\": 0.01, \"plot.opts\": {\"xlab\": \"PC1\", \"ylab\": \"PC2\"}, \"topic.order\": [1, 2, 3]};\n",
              "\n",
              "function LDAvis_load_lib(url, callback){\n",
              "  var s = document.createElement('script');\n",
              "  s.src = url;\n",
              "  s.async = true;\n",
              "  s.onreadystatechange = s.onload = callback;\n",
              "  s.onerror = function(){console.warn(\"failed to load library \" + url);};\n",
              "  document.getElementsByTagName(\"head\")[0].appendChild(s);\n",
              "}\n",
              "\n",
              "if(typeof(LDAvis) !== \"undefined\"){\n",
              "   // already loaded: just create the visualization\n",
              "   !function(LDAvis){\n",
              "       new LDAvis(\"#\" + \"ldavis_el13241399401107081761446909519\", ldavis_el13241399401107081761446909519_data);\n",
              "   }(LDAvis);\n",
              "}else if(typeof define === \"function\" && define.amd){\n",
              "   // require.js is available: use it to load d3/LDAvis\n",
              "   require.config({paths: {d3: \"https://d3js.org/d3.v5\"}});\n",
              "   require([\"d3\"], function(d3){\n",
              "      window.d3 = d3;\n",
              "      LDAvis_load_lib(\"https://cdn.jsdelivr.net/gh/bmabey/pyLDAvis@3.3.1/pyLDAvis/js/ldavis.v3.0.0.js\", function(){\n",
              "        new LDAvis(\"#\" + \"ldavis_el13241399401107081761446909519\", ldavis_el13241399401107081761446909519_data);\n",
              "      });\n",
              "    });\n",
              "}else{\n",
              "    // require.js not available: dynamically load d3 & LDAvis\n",
              "    LDAvis_load_lib(\"https://d3js.org/d3.v5.js\", function(){\n",
              "         LDAvis_load_lib(\"https://cdn.jsdelivr.net/gh/bmabey/pyLDAvis@3.3.1/pyLDAvis/js/ldavis.v3.0.0.js\", function(){\n",
              "                 new LDAvis(\"#\" + \"ldavis_el13241399401107081761446909519\", ldavis_el13241399401107081761446909519_data);\n",
              "            })\n",
              "         });\n",
              "}\n",
              "</script>"
            ],
            "text/plain": [
              "PreparedData(topic_coordinates=              x         y  topics  cluster       Freq\n",
              "topic                                                \n",
              "0      0.124768  0.054488       1        1  41.452307\n",
              "1     -0.003123 -0.113284       2        1  32.956404\n",
              "2     -0.121645  0.058796       3        1  25.591289, topic_info=            Term          Freq         Total Category  logprob  loglift\n",
              "1401      camera  46716.000000  46716.000000  Default  30.0000  30.0000\n",
              "1329       sound  33090.000000  33090.000000  Default  29.0000  29.0000\n",
              "4628        lens  21344.000000  21344.000000  Default  28.0000  28.0000\n",
              "4373       canon  11945.000000  11945.000000  Default  27.0000  27.0000\n",
              "2758  headphones  13834.000000  13834.000000  Default  26.0000  26.0000\n",
              "...          ...           ...           ...      ...      ...      ...\n",
              "332         also   7375.386281  25721.679304   Topic3  -5.4508   0.1137\n",
              "149       bought   6589.504445  30734.113749   Topic3  -5.5635  -0.1770\n",
              "145         used   6001.504137  20671.146471   Topic3  -5.6569   0.1262\n",
              "152        price   5833.213234  19479.091067   Topic3  -5.6854   0.1571\n",
              "43          time   6157.592451  32630.109887   Topic3  -5.6313  -0.3046\n",
              "\n",
              "[205 rows x 6 columns], token_table=      Topic      Freq    Term\n",
              "term                         \n",
              "332       1  0.387883    also\n",
              "332       2  0.325368    also\n",
              "332       3  0.286723    also\n",
              "775       1  0.557148  amazon\n",
              "775       2  0.274402  amazon\n",
              "...     ...       ...     ...\n",
              "58        3  0.139581   works\n",
              "177       1  0.429855   would\n",
              "177       2  0.340371   would\n",
              "177       3  0.229767   would\n",
              "2722      3  0.999936    zoom\n",
              "\n",
              "[318 rows x 3 columns], R=30, lambda_step=0.01, plot_opts={'xlab': 'PC1', 'ylab': 'PC2'}, topic_order=[1, 2, 3])"
            ]
          },
          "metadata": {
            "tags": []
          },
          "execution_count": 25
        }
      ]
    },
    {
      "cell_type": "markdown",
      "metadata": {
        "id": "nmtfs-NCMYq2"
      },
      "source": [
        "## <a> load corpus and Dictionary model </a> "
      ]
    },
    {
      "cell_type": "code",
      "metadata": {
        "colab": {
          "base_uri": "https://localhost:8080/",
          "height": 881
        },
        "id": "XuTT8oyvMlvX",
        "outputId": "4c067ce8-ee5d-45fd-acd1-af4a8599b205"
      },
      "source": [
        "dictionary1 = gensim.corpora.Dictionary.load('/content/dictionary.gensim')\n",
        "corpus1 = pickle.load(open('/content/corpus.pkl', 'rb'))\n",
        "lda10 = gensim.models.ldamodel.LdaModel.load('/content/lda.gensim')\n",
        "\n",
        "\n",
        "pyLDAvis.enable_notebook()\n",
        "#pyLDAvis.gensim.prepare(ldamodel, corpus, dictionary)\n",
        "lda_viz = gensimvis.prepare(lda10, corpus1, dictionary1)\n",
        "lda_viz"
      ],
      "execution_count": null,
      "outputs": [
        {
          "output_type": "execute_result",
          "data": {
            "text/html": [
              "\n",
              "<link rel=\"stylesheet\" type=\"text/css\" href=\"https://cdn.jsdelivr.net/gh/bmabey/pyLDAvis@3.3.1/pyLDAvis/js/ldavis.v1.0.0.css\">\n",
              "\n",
              "\n",
              "<div id=\"ldavis_el13241399394518083363678084143\"></div>\n",
              "<script type=\"text/javascript\">\n",
              "\n",
              "var ldavis_el13241399394518083363678084143_data = {\"mdsDat\": {\"x\": [0.12476795209677818, -0.0031228917070268126, -0.12164506038975138], \"y\": [0.054488436333105426, -0.11328395262883856, 0.058795516295733104], \"topics\": [1, 2, 3], \"cluster\": [1, 1, 1], \"Freq\": [41.45241800132991, 32.95638232850819, 25.591199670161902]}, \"tinfo\": {\"Term\": [\"camera\", \"sound\", \"lens\", \"canon\", \"headphones\", \"drive\", \"pictures\", \"cable\", \"speakers\", \"quality\", \"radio\", \"software\", \"mouse\", \"image\", \"support\", \"case\", \"flash\", \"volume\", \"light\", \"focus\", \"cord\", \"photos\", \"unit\", \"cameras\", \"bass\", \"antenna\", \"ipod\", \"noise\", \"device\", \"picture\", \"drive\", \"mouse\", \"support\", \"keyboard\", \"router\", \"wireless\", \"windows\", \"service\", \"customer\", \"files\", \"drives\", \"data\", \"software\", \"tech\", \"network\", \"firmware\", \"port\", \"buttons\", \"garmin\", \"internet\", \"media\", \"linksys\", \"microsoft\", \"machine\", \"disk\", \"keys\", \"link\", \"computers\", \"vista\", \"program\", \"record\", \"remote\", \"charge\", \"device\", \"computer\", \"button\", \"unit\", \"card\", \"warranty\", \"work\", \"worked\", \"problems\", \"time\", \"player\", \"problem\", \"working\", \"product\", \"back\", \"would\", \"battery\", \"laptop\", \"another\", \"tried\", \"amazon\", \"first\", \"even\", \"bought\", \"like\", \"using\", \"works\", \"also\", \"could\", \"well\", \"good\", \"sound\", \"headphones\", \"speakers\", \"radio\", \"volume\", \"bass\", \"cord\", \"antenna\", \"speaker\", \"pair\", \"wire\", \"hdmi\", \"ears\", \"hear\", \"headset\", \"bose\", \"loud\", \"stereo\", \"sounds\", \"listen\", \"headphone\", \"reception\", \"wires\", \"listening\", \"earbuds\", \"stations\", \"jack\", \"phones\", \"buds\", \"earphones\", \"cables\", \"noise\", \"cable\", \"audio\", \"music\", \"ipod\", \"quality\", \"cheap\", \"good\", \"better\", \"like\", \"price\", \"would\", \"much\", \"bought\", \"even\", \"well\", \"great\", \"product\", \"work\", \"really\", \"also\", \"could\", \"back\", \"camera\", \"lens\", \"canon\", \"pictures\", \"image\", \"focus\", \"cameras\", \"photos\", \"nikon\", \"zoom\", \"tripod\", \"images\", \"shots\", \"lenses\", \"frame\", \"strap\", \"shoot\", \"photo\", \"filter\", \"sharp\", \"shot\", \"kodak\", \"shooting\", \"shutter\", \"body\", \"ring\", \"sensor\", \"olympus\", \"film\", \"blurry\", \"glass\", \"flash\", \"camcorder\", \"wide\", \"light\", \"case\", \"picture\", \"angle\", \"take\", \"quality\", \"digital\", \"good\", \"like\", \"would\", \"much\", \"better\", \"small\", \"screen\", \"well\", \"great\", \"even\", \"really\", \"also\", \"bought\", \"used\", \"price\", \"time\"], \"Freq\": [46716.0, 33090.0, 21344.0, 11945.0, 13834.0, 17167.0, 10954.0, 24656.0, 11428.0, 34725.0, 10462.0, 12776.0, 12741.0, 8036.0, 11399.0, 17986.0, 8388.0, 8221.0, 13797.0, 6490.0, 7882.0, 6220.0, 23353.0, 6060.0, 7307.0, 7239.0, 12727.0, 9808.0, 13115.0, 12405.0, 17166.65266077324, 12741.035793194633, 11398.364008041537, 7774.9693604775375, 7092.378651079379, 7324.888782219312, 7004.864512956517, 6338.655166764113, 5378.27976833349, 4711.982301525788, 4497.179230495296, 4412.915188007276, 12774.227459660025, 4345.245682860551, 3709.2723988196776, 3785.59554277245, 4198.15261358308, 4040.418656035435, 3502.5644374012068, 3184.747719140785, 3151.8651227746395, 2879.643695528609, 2677.814765236605, 2853.7184161240093, 2668.9827793764334, 2523.5998007896033, 2567.496826122391, 2457.084124949446, 2283.376200055377, 2450.185771046666, 2580.6935362090785, 7536.629013922472, 4965.05304564116, 12045.547724623522, 12774.570870881409, 6032.448339569301, 18061.328308987348, 10843.390740021277, 5415.997335518454, 23867.593059238603, 9858.22947470078, 7615.66219076853, 19137.57778091591, 9885.649888809805, 13459.558331426555, 8167.983417035719, 18058.076917461105, 15267.536770859237, 23202.399043959238, 10063.269299912732, 6575.260962678336, 10104.368495709785, 9460.517811812335, 9749.697921883468, 10670.066560968462, 13543.60336826773, 12756.905279296816, 13111.344536507973, 9663.055270728082, 9316.855291047357, 9977.027079200396, 9580.985172382721, 9342.501629827795, 9863.821246098045, 33089.7830425829, 13833.280902937404, 11427.942707339667, 10461.292298812896, 8220.312201936636, 7306.963182572834, 7882.06636374983, 7238.945687289013, 5628.591974933389, 5669.441829071779, 5054.407294726515, 5958.19370415853, 4569.58405298634, 4979.334393224638, 4067.2072943886706, 3629.8674104280876, 4106.066633805494, 3685.8885000238993, 4009.668849432514, 3549.7453293083468, 3069.438608743464, 3278.158810405514, 3169.8256648565603, 3065.1915076508267, 2814.195019328644, 2867.6581635699176, 2851.4803375933598, 2512.938549430482, 2251.614978131272, 2031.8623331706362, 7573.198647730774, 8876.126530895928, 19289.095272780454, 7682.614625045962, 8561.12603077743, 9987.598218574976, 20100.225900670095, 9581.799029453245, 20179.84236838424, 14432.383592356717, 17127.585857990445, 10162.401883292621, 18372.46942522207, 11701.78890347494, 11387.730600930392, 11832.257252717209, 10692.116795554572, 9947.730228064771, 10855.141187595373, 11388.791796667045, 9399.58450946012, 8369.287083625142, 7772.370148337195, 7633.1232376637145, 46716.05771691249, 21343.583685668993, 11944.751898074728, 10953.921243807168, 8035.476494958737, 6489.913464232247, 6059.641846664436, 6219.4041822583085, 4949.1826493309045, 4861.677141001906, 4412.110661652143, 4520.3290950992, 3592.42765148966, 3331.323789597575, 4062.6430530988696, 3351.029269719305, 3232.129159187902, 4343.539599007543, 2914.314164360809, 3204.696133924599, 3446.8755505789445, 2685.4745435125083, 2293.5500386726794, 1840.933223083292, 1966.1146141605868, 1767.9275623726664, 1831.8168159098557, 1669.8069799340633, 1568.3439482089557, 1430.6733993183461, 1561.8007559650905, 7703.648074238717, 2513.3452555634817, 3052.4641346642034, 10178.574613876144, 12254.892950154335, 8574.99099172925, 2727.2170078898152, 6726.199617671031, 12230.02063926228, 5316.637861278997, 13134.707446017796, 11736.239385112418, 12401.48109733882, 8831.374442789824, 8769.2956701156, 5931.945743270519, 6172.394882644097, 8138.913114831801, 7749.843737512832, 8725.2353022119, 7267.363788122248, 7375.360611671362, 6589.481511320129, 6001.48324908015, 5833.192932594197, 6157.571020554005], \"Total\": [46716.0, 33090.0, 21344.0, 11945.0, 13834.0, 17167.0, 10954.0, 24656.0, 11428.0, 34725.0, 10462.0, 12776.0, 12741.0, 8036.0, 11399.0, 17986.0, 8388.0, 8221.0, 13797.0, 6490.0, 7882.0, 6220.0, 23353.0, 6060.0, 7307.0, 7239.0, 12727.0, 9808.0, 13115.0, 12405.0, 17167.61596158427, 12741.956430206996, 11399.361915535936, 7775.893629382719, 7093.272273572527, 7325.8394810316295, 7005.78349530172, 6339.67729427789, 5379.326177001645, 4712.941198575412, 4498.127222157662, 4413.851250934068, 12776.970804506971, 4346.231975812934, 3710.1762210604893, 3786.5281345842873, 4199.217753586495, 4041.4661608510055, 3503.583449008062, 3185.7060212432625, 3152.8225316831226, 2880.5275142202718, 2678.7308940395455, 2854.6958684883375, 2669.919317460236, 2524.5403428082054, 2568.477988792463, 2458.04268592086, 2284.291933337056, 2451.1684636970117, 2581.7947290863735, 7655.225881177669, 5018.328791934919, 13115.593252594734, 14923.709902919945, 6666.2404255140145, 23353.9974259009, 13602.217076604928, 6220.893861653647, 38277.8558062963, 13420.775409847769, 9688.680655369453, 32630.134763500242, 13800.21711974174, 20903.93264653255, 10822.280096133014, 32522.04688908313, 27906.2403767906, 53976.34956652013, 15376.526485417542, 8116.074574271201, 17104.573728870193, 16291.01417471377, 17499.85844192315, 20928.15923301641, 34101.09592319684, 30734.117391547337, 41975.169779610835, 19620.551334222804, 17581.175891485924, 25721.674774496903, 21940.35899375949, 28173.531540214168, 43178.37106050008, 33090.59817007787, 13834.053178422246, 11428.720656288344, 10462.098671868142, 8221.161018131987, 7307.73206569589, 7882.923221890221, 7239.755008336485, 5629.38051527901, 5670.279081483448, 5055.217269737952, 5959.190174866088, 4570.372253953082, 4980.29448070745, 4067.996129614472, 3630.641074401507, 4106.943966899226, 3686.7055544459145, 4010.618921230643, 3550.5971299705857, 3070.215327322814, 3278.9935074433597, 3170.644410915974, 3066.002869937371, 2814.969377918766, 2868.459551195424, 2852.3033906593387, 2513.7853014156613, 2252.391719949885, 2032.6374288725378, 8239.995317588986, 9808.148673871437, 24656.15935107905, 8876.806786423658, 10441.111626986682, 12727.357032665013, 34725.56507897369, 14681.181594967999, 43178.37106050008, 28502.10511513507, 41975.169779610835, 19479.07336472744, 53976.34956652013, 27200.294586011943, 30734.117391547337, 34101.09592319684, 28173.531540214168, 24955.729524187736, 32522.04688908313, 38277.8558062963, 23122.580341427056, 25721.674774496903, 21940.35899375949, 27906.2403767906, 46716.674335743315, 21344.181532338956, 11945.359528095954, 10954.574135387342, 8036.172764528273, 6490.524719639123, 6060.260233101058, 6220.087509174046, 4949.786275772046, 4862.293850819498, 4412.711849596258, 4520.979530297004, 3593.0278536818273, 3331.92046550888, 4063.3738553725675, 3351.650787495923, 3232.748572793626, 4344.372519900572, 2914.9306979849493, 3205.386350400095, 3447.6194192054763, 2686.10436303452, 2294.179221027538, 1841.5325957445432, 1966.7985023926326, 1768.6071030267776, 1832.5227599321038, 1670.4666722096931, 1568.9689864562858, 1431.2893174367105, 1562.4779373930103, 8388.993525816697, 2643.9028592776317, 3309.7308296918836, 13797.9817428381, 17986.389420389096, 12405.680427323736, 3151.0593613514234, 12596.705877626237, 34725.56507897369, 9173.619067946645, 43178.37106050008, 41975.169779610835, 53976.34956652013, 27200.294586011943, 28502.10511513507, 12310.440563448396, 13493.289886358729, 28173.531540214168, 24955.729524187736, 34101.09592319684, 23122.580341427056, 25721.674774496903, 30734.117391547337, 20671.143654209445, 19479.07336472744, 32630.134763500242], \"Category\": [\"Default\", \"Default\", \"Default\", \"Default\", \"Default\", \"Default\", \"Default\", \"Default\", \"Default\", \"Default\", \"Default\", \"Default\", \"Default\", \"Default\", \"Default\", \"Default\", \"Default\", \"Default\", \"Default\", \"Default\", \"Default\", \"Default\", \"Default\", \"Default\", \"Default\", \"Default\", \"Default\", \"Default\", \"Default\", \"Default\", \"Topic1\", \"Topic1\", \"Topic1\", \"Topic1\", \"Topic1\", \"Topic1\", \"Topic1\", \"Topic1\", \"Topic1\", \"Topic1\", \"Topic1\", \"Topic1\", \"Topic1\", \"Topic1\", \"Topic1\", \"Topic1\", \"Topic1\", \"Topic1\", \"Topic1\", \"Topic1\", \"Topic1\", \"Topic1\", \"Topic1\", \"Topic1\", \"Topic1\", \"Topic1\", \"Topic1\", \"Topic1\", \"Topic1\", \"Topic1\", \"Topic1\", \"Topic1\", \"Topic1\", \"Topic1\", \"Topic1\", \"Topic1\", \"Topic1\", \"Topic1\", \"Topic1\", \"Topic1\", \"Topic1\", \"Topic1\", \"Topic1\", \"Topic1\", \"Topic1\", \"Topic1\", \"Topic1\", \"Topic1\", \"Topic1\", \"Topic1\", \"Topic1\", \"Topic1\", \"Topic1\", \"Topic1\", \"Topic1\", \"Topic1\", \"Topic1\", \"Topic1\", \"Topic1\", \"Topic1\", \"Topic1\", \"Topic1\", \"Topic1\", \"Topic1\", \"Topic2\", \"Topic2\", \"Topic2\", \"Topic2\", \"Topic2\", \"Topic2\", \"Topic2\", \"Topic2\", \"Topic2\", \"Topic2\", \"Topic2\", \"Topic2\", \"Topic2\", \"Topic2\", \"Topic2\", \"Topic2\", \"Topic2\", \"Topic2\", \"Topic2\", \"Topic2\", \"Topic2\", \"Topic2\", \"Topic2\", \"Topic2\", \"Topic2\", \"Topic2\", \"Topic2\", \"Topic2\", \"Topic2\", \"Topic2\", \"Topic2\", \"Topic2\", \"Topic2\", \"Topic2\", \"Topic2\", \"Topic2\", \"Topic2\", \"Topic2\", \"Topic2\", \"Topic2\", \"Topic2\", \"Topic2\", \"Topic2\", \"Topic2\", \"Topic2\", \"Topic2\", \"Topic2\", \"Topic2\", \"Topic2\", \"Topic2\", \"Topic2\", \"Topic2\", \"Topic2\", \"Topic2\", \"Topic3\", \"Topic3\", \"Topic3\", \"Topic3\", \"Topic3\", \"Topic3\", \"Topic3\", \"Topic3\", \"Topic3\", \"Topic3\", \"Topic3\", \"Topic3\", \"Topic3\", \"Topic3\", \"Topic3\", \"Topic3\", \"Topic3\", \"Topic3\", \"Topic3\", \"Topic3\", \"Topic3\", \"Topic3\", \"Topic3\", \"Topic3\", \"Topic3\", \"Topic3\", \"Topic3\", \"Topic3\", \"Topic3\", \"Topic3\", \"Topic3\", \"Topic3\", \"Topic3\", \"Topic3\", \"Topic3\", \"Topic3\", \"Topic3\", \"Topic3\", \"Topic3\", \"Topic3\", \"Topic3\", \"Topic3\", \"Topic3\", \"Topic3\", \"Topic3\", \"Topic3\", \"Topic3\", \"Topic3\", \"Topic3\", \"Topic3\", \"Topic3\", \"Topic3\", \"Topic3\", \"Topic3\", \"Topic3\", \"Topic3\", \"Topic3\"], \"logprob\": [30.0, 29.0, 28.0, 27.0, 26.0, 25.0, 24.0, 23.0, 22.0, 21.0, 20.0, 19.0, 18.0, 17.0, 16.0, 15.0, 14.0, 13.0, 12.0, 11.0, 10.0, 9.0, 8.0, 7.0, 6.0, 5.0, 4.0, 3.0, 2.0, 1.0, -5.0883, -5.3864, -5.4978, -5.8803, -5.9722, -5.94, -5.9846, -6.0846, -6.2489, -6.3811, -6.4278, -6.4467, -5.3838, -6.4622, -6.6204, -6.6, -6.4966, -6.5349, -6.6778, -6.7729, -6.7833, -6.8736, -6.9462, -6.8826, -6.9496, -7.0056, -6.9883, -7.0323, -7.1056, -7.0351, -6.9832, -5.9115, -6.3288, -5.4426, -5.3838, -6.1341, -5.0375, -5.5477, -6.2419, -4.7587, -5.6429, -5.901, -4.9796, -5.6402, -5.3316, -5.831, -5.0377, -5.2055, -4.787, -5.6224, -6.0479, -5.6183, -5.6841, -5.654, -5.5638, -5.3253, -5.3852, -5.3578, -5.6629, -5.6994, -5.631, -5.6715, -5.6967, -5.6424, -4.2027, -5.0748, -5.2658, -5.3542, -5.5953, -5.7131, -5.6373, -5.7224, -5.974, -5.9668, -6.0816, -5.9171, -6.1825, -6.0966, -6.2989, -6.4127, -6.2894, -6.3974, -6.3132, -6.435, -6.5804, -6.5146, -6.5482, -6.5818, -6.6672, -6.6484, -6.6541, -6.7804, -6.8902, -6.9929, -5.6773, -5.5185, -4.7423, -5.6629, -5.5547, -5.4005, -4.7012, -5.442, -4.6972, -5.0324, -4.8612, -5.3832, -4.791, -5.2421, -5.2694, -5.2311, -5.3324, -5.4045, -5.3173, -5.2693, -5.4612, -5.5773, -5.6513, -5.6694, -3.6049, -4.3882, -4.9687, -5.0553, -5.3651, -5.5787, -5.6473, -5.6213, -5.8497, -5.8676, -5.9646, -5.9404, -6.1701, -6.2456, -6.0471, -6.2397, -6.2758, -5.9803, -6.3793, -6.2843, -6.2115, -6.4611, -6.6189, -6.8387, -6.7729, -6.8791, -6.8436, -6.9362, -6.9989, -7.0908, -7.0031, -5.4073, -6.5273, -6.333, -5.1287, -4.943, -5.3001, -6.4457, -5.5429, -4.9451, -5.7781, -4.8737, -4.9863, -4.9311, -5.2706, -5.2777, -5.6686, -5.6289, -5.3523, -5.4013, -5.2827, -5.4656, -5.4508, -5.5635, -5.6569, -5.6854, -5.6313], \"loglift\": [30.0, 29.0, 28.0, 27.0, 26.0, 25.0, 24.0, 23.0, 22.0, 21.0, 20.0, 19.0, 18.0, 17.0, 16.0, 15.0, 14.0, 13.0, 12.0, 11.0, 10.0, 9.0, 8.0, 7.0, 6.0, 5.0, 4.0, 3.0, 2.0, 1.0, 0.8806, 0.8806, 0.8805, 0.8805, 0.8805, 0.8805, 0.8805, 0.8805, 0.8804, 0.8804, 0.8804, 0.8804, 0.8804, 0.8804, 0.8804, 0.8804, 0.8804, 0.8804, 0.8803, 0.8803, 0.8803, 0.8803, 0.8803, 0.8803, 0.8803, 0.8803, 0.8802, 0.8802, 0.8802, 0.8802, 0.8802, 0.865, 0.87, 0.7955, 0.7251, 0.7807, 0.6236, 0.6539, 0.7421, 0.4083, 0.5721, 0.6399, 0.347, 0.547, 0.4404, 0.5992, 0.2923, 0.2775, 0.0363, 0.4567, 0.6701, 0.3542, 0.3371, 0.2957, 0.207, -0.0428, 0.0013, -0.283, 0.1724, 0.2456, -0.0664, 0.0521, -0.2232, -0.5958, 1.11, 1.1099, 1.1099, 1.1099, 1.1099, 1.1099, 1.1099, 1.1099, 1.1098, 1.1098, 1.1098, 1.1098, 1.1098, 1.1098, 1.1098, 1.1098, 1.1098, 1.1098, 1.1097, 1.1097, 1.1097, 1.1097, 1.1097, 1.1097, 1.1097, 1.1097, 1.1097, 1.1096, 1.1096, 1.1096, 1.0256, 1.0101, 0.8645, 0.9655, 0.9115, 0.8676, 0.5632, 0.6833, 0.3493, 0.4295, 0.2136, 0.4593, 0.0323, 0.2665, 0.1171, 0.0515, 0.1411, 0.1902, 0.0127, -0.1023, 0.2098, -0.0128, 0.0722, -0.1864, 1.3629, 1.3629, 1.3629, 1.3629, 1.3628, 1.3628, 1.3628, 1.3628, 1.3628, 1.3628, 1.3628, 1.3628, 1.3628, 1.3627, 1.3627, 1.3627, 1.3627, 1.3627, 1.3627, 1.3627, 1.3627, 1.3627, 1.3626, 1.3626, 1.3626, 1.3625, 1.3625, 1.3625, 1.3625, 1.3625, 1.3625, 1.2777, 1.3123, 1.282, 1.0587, 0.9792, 0.9936, 1.2185, 0.7355, 0.3193, 0.8174, 0.1728, 0.0885, -0.1078, 0.238, 0.1842, 0.6328, 0.5808, 0.1212, 0.1935, -0.0002, 0.2055, 0.1137, -0.177, 0.1262, 0.1571, -0.3046]}, \"token.table\": {\"Topic\": [1, 2, 3, 1, 2, 3, 2, 3, 1, 2, 3, 2, 3, 1, 2, 3, 1, 2, 3, 2, 3, 1, 2, 3, 1, 2, 3, 3, 3, 2, 3, 1, 2, 3, 2, 3, 1, 3, 1, 3, 1, 2, 3, 1, 2, 3, 1, 3, 3, 3, 3, 1, 3, 1, 2, 3, 1, 3, 1, 2, 3, 1, 2, 3, 1, 3, 2, 3, 1, 2, 3, 1, 3, 1, 3, 1, 2, 3, 1, 2, 3, 1, 3, 1, 3, 1, 3, 2, 3, 2, 3, 2, 3, 1, 2, 3, 1, 3, 3, 3, 1, 3, 1, 2, 3, 1, 3, 3, 3, 1, 3, 3, 1, 2, 3, 1, 2, 3, 2, 3, 2, 3, 2, 3, 2, 3, 2, 3, 3, 3, 1, 3, 1, 2, 3, 2, 3, 1, 3, 1, 3, 3, 1, 2, 3, 3, 3, 1, 2, 3, 1, 2, 3, 1, 3, 1, 3, 2, 3, 2, 3, 2, 3, 1, 3, 1, 3, 1, 3, 1, 3, 1, 2, 3, 1, 2, 3, 1, 3, 3, 2, 3, 3, 2, 3, 2, 3, 3, 3, 1, 2, 3, 3, 1, 2, 3, 1, 2, 3, 1, 2, 3, 1, 2, 3, 1, 2, 3, 1, 2, 3, 1, 3, 1, 2, 3, 2, 3, 1, 2, 3, 2, 3, 1, 3, 1, 3, 3, 1, 3, 1, 3, 3, 1, 3, 3, 3, 3, 3, 3, 3, 1, 2, 3, 1, 3, 2, 3, 2, 3, 2, 3, 2, 3, 2, 3, 2, 3, 3, 1, 3, 1, 2, 3, 1, 3, 1, 2, 3, 1, 2, 3, 3, 1, 2, 3, 1, 2, 3, 1, 2, 3, 1, 3, 2, 3, 1, 2, 3, 1, 2, 3, 2, 3, 1, 3, 2, 3, 1, 3, 2, 3, 1, 2, 3, 1, 2, 3, 1, 2, 3, 1, 2, 3, 1, 2, 3, 3], \"Freq\": [0.3878829853603552, 0.3253676159648003, 0.2867231649827222, 0.5571473639262492, 0.27440221964859984, 0.16845850552354694, 0.13455792207550013, 0.8654232393865302, 0.5907191936005878, 0.2593458375704877, 0.14990142640458307, 0.9998957135516857, 0.00013812622096307303, 0.13450782795296662, 0.8655139381596672, 0.00011265312223866551, 0.5471177698554577, 0.27352305064885435, 0.17938640004561313, 0.9998998231340026, 0.00013684136076830473, 0.6544390899689426, 0.031476549691440744, 0.31405012078505656, 0.1859511772407862, 0.506348564139439, 0.3076614855140479, 0.9997978623656406, 0.9995940090499046, 0.9998234266653272, 0.00027543345087199095, 0.4150761786153813, 0.37053284644289114, 0.2143871553575878, 0.9998260871115732, 0.00044397250759838953, 0.9048578531481468, 0.09495607112778133, 0.9996372205549541, 0.0002474349555829094, 0.2176738040819451, 0.7823197329861448, 4.0557817045266464e-05, 0.0808252886477211, 0.9190539203141018, 0.00012135929226384548, 0.04916973388179574, 0.9504887788073284, 0.999985565416355, 0.999957059088051, 0.9999699022791981, 0.7971494601897928, 0.20276106346983755, 0.133879009495387, 0.18480640679512722, 0.6813485304675946, 0.9893731969055864, 0.010561284881368798, 0.1059179051727675, 0.6526722619713557, 0.24139746362205017, 0.8560203919201396, 0.14399904675040157, 6.700746707789743e-05, 0.9995758064223895, 0.00040682776004167257, 0.9998828833081036, 0.00012685649369552192, 0.4366838301381089, 0.35423303703510933, 0.2090667705712875, 0.9997534678214318, 0.0001858968887730442, 0.9998071410009823, 0.0002265595152959398, 0.9184487325891164, 0.08150603479476717, 7.624512141699455e-05, 0.21169398746733473, 0.20875076519049743, 0.5795967720719973, 0.9996556759396346, 0.00037454315321829696, 0.9999641207267422, 5.8249206077167955e-05, 0.9997494018950578, 0.00022231474358351295, 0.9996556346486857, 0.0003552436512610823, 0.9996864030626006, 0.0004919716550504924, 0.9999185506273018, 0.00021880055812413605, 0.39717198621721905, 0.34696832109584586, 0.255856879780363, 0.9998002948613709, 0.0002121817264137035, 0.9993824056022456, 0.9996807135121282, 0.9998605227359957, 0.00026409416870998303, 0.5098393930015084, 0.28258577040402255, 0.20756722804110145, 0.08165461063856441, 0.9183461611087594, 0.9999191560525862, 0.9999079938529227, 0.9998334707831129, 0.00028542205845935283, 0.9996941157493668, 0.22844771022461444, 0.4673636245268369, 0.3042032313260655, 0.2908350161819697, 0.3986258943205063, 0.31054992772254963, 0.9998002790931044, 0.00016780803610156166, 0.9996041556720799, 0.0003257100539824307, 0.9999238705816247, 7.22853951118069e-05, 0.9997551301469487, 0.00024582127616103975, 0.9997400794847645, 0.00020079133952294927, 0.9998540642961972, 0.999783336710454, 0.9997783784069985, 0.0003139021596254312, 0.21520571733552396, 0.7847662302837581, 7.857090811811756e-05, 0.9995430392630718, 0.00035059384049914826, 0.9998850769538125, 0.00012860258224486334, 0.9997859638845762, 0.0003961117131079937, 0.9995888607122948, 0.8101206981073625, 0.1897469011536636, 0.00012321227347640495, 0.999991494996485, 0.9997237432530552, 0.11617641115027884, 0.14610832494008866, 0.7377165870858942, 0.31235132743569227, 0.4080507616748179, 0.2795938661265567, 0.9994245662999987, 0.0003893356315932991, 0.9998168688833321, 0.00034715863502893474, 0.9998318226628571, 0.0002816427669472837, 0.99967290639314, 0.0003261575551037977, 0.9997701534506352, 0.00024349005198505484, 0.9997562372594507, 0.00035030001305516844, 0.9997391125967742, 0.0003171761144025299, 0.9997271491357449, 0.0003733111087138704, 0.9999249385122109, 7.848088364431448e-05, 0.24510763951169043, 0.4302159288384283, 0.32466560139909073, 0.17996168100946563, 0.8199318526461071, 9.57752426873154e-05, 0.9996829743412692, 0.00026952897663555384, 0.9998411495510635, 0.9049618123800827, 0.0950230294207117, 0.9997206336304358, 0.9997744235398175, 0.00017635816255773813, 0.9996876020337858, 0.00039780644728761873, 0.9999142523117284, 0.9998251617565762, 0.1345351437817145, 0.17427500350872782, 0.6912156128988626, 0.9999475894379602, 0.7163655407897676, 0.2836187261431469, 7.246262803861699e-05, 0.9997100046584975, 0.00023813959139078073, 0.00023813959139078073, 0.1788072735691314, 0.5216880602955823, 0.29944956265539574, 0.6438979797532348, 0.19757047967168348, 0.15858260051129075, 0.7860719401231605, 0.11477310890453708, 0.09918791156228429, 0.5552541038264611, 0.33377357941279406, 0.1109708749977682, 0.99952330339007, 0.00040796869526125306, 0.06896936002490485, 0.5788242741129802, 0.3521900931543158, 0.9998949855184318, 9.55831168643946e-05, 0.27920759295333714, 0.40652902319723805, 0.3142815331462052, 0.999697008413983, 0.0003049716316089027, 0.9996921795999426, 0.00038732746206894325, 0.9845561864518776, 0.01541430675352548, 0.9996567338072212, 0.9998206365802047, 0.00014097865716020935, 0.5424918653382137, 0.45741254000921516, 0.9997147320930829, 0.9998931658116887, 0.00015773673541752463, 0.9998794683829464, 0.9997684407627844, 0.9999218801103701, 0.9998203342277208, 0.9997139310565673, 0.999710786686169, 0.17245524147230895, 0.3456415696960313, 0.48186740104273984, 0.9997674875717864, 0.00015653162479595842, 0.9999819232618644, 3.0220064166269698e-05, 0.9998456793719875, 0.000249338074656356, 0.9999324054790794, 0.00017763943959479115, 0.9999369433981268, 8.74988574902106e-05, 0.9998397916417429, 0.0003486191742126021, 0.9998086219700775, 0.0002712448784509163, 0.9998058307570852, 0.9998805270377389, 8.772420837320046e-05, 0.2934894277849627, 0.1725848028143113, 0.5339491185506245, 0.999716541634273, 0.00023008435940949896, 0.5865130542276394, 0.22479220674886274, 0.18872125550913385, 0.5807496021140887, 0.3207903414700589, 0.098520569854467, 0.9998386820575372, 0.7733579682581164, 0.22659932274082012, 4.2819221984281954e-05, 0.4028804665727383, 0.30680450516382163, 0.2903080787587659, 0.4924938058771815, 0.2493813714329969, 0.2580967228564677, 0.9994344272208813, 0.00043777241665391206, 0.9998587768650407, 0.00012163732078650129, 0.8706144358747042, 0.08969772068280742, 0.039704905033429085, 0.3316233176754588, 0.3795051388832286, 0.2888881710971378, 0.07764981904100195, 0.9221293685336107, 0.9998881644997671, 0.00014273920977869625, 0.9997592052580532, 0.00019781543436051704, 0.9998854082137886, 0.0001365031274011998, 0.9997967571154447, 0.0003153932987745882, 0.623545898724922, 0.29753495226152743, 0.07892291604022077, 0.7345328193754357, 0.2461854772992939, 0.019298437839139565, 0.7547392903754696, 0.22194953176810456, 0.023377698391894443, 0.5299418001108768, 0.33046708797297353, 0.13958110738135576, 0.42985493065636077, 0.3403712949753754, 0.22974877144511377, 0.9999395653926904], \"Term\": [\"also\", \"also\", \"also\", \"amazon\", \"amazon\", \"amazon\", \"angle\", \"angle\", \"another\", \"another\", \"another\", \"antenna\", \"antenna\", \"audio\", \"audio\", \"audio\", \"back\", \"back\", \"back\", \"bass\", \"bass\", \"battery\", \"battery\", \"battery\", \"better\", \"better\", \"better\", \"blurry\", \"body\", \"bose\", \"bose\", \"bought\", \"bought\", \"bought\", \"buds\", \"buds\", \"button\", \"button\", \"buttons\", \"buttons\", \"cable\", \"cable\", \"cable\", \"cables\", \"cables\", \"cables\", \"camcorder\", \"camcorder\", \"camera\", \"cameras\", \"canon\", \"card\", \"card\", \"case\", \"case\", \"case\", \"charge\", \"charge\", \"cheap\", \"cheap\", \"cheap\", \"computer\", \"computer\", \"computer\", \"computers\", \"computers\", \"cord\", \"cord\", \"could\", \"could\", \"could\", \"customer\", \"customer\", \"data\", \"data\", \"device\", \"device\", \"device\", \"digital\", \"digital\", \"digital\", \"disk\", \"disk\", \"drive\", \"drive\", \"drives\", \"drives\", \"earbuds\", \"earbuds\", \"earphones\", \"earphones\", \"ears\", \"ears\", \"even\", \"even\", \"even\", \"files\", \"files\", \"film\", \"filter\", \"firmware\", \"firmware\", \"first\", \"first\", \"first\", \"flash\", \"flash\", \"focus\", \"frame\", \"garmin\", \"garmin\", \"glass\", \"good\", \"good\", \"good\", \"great\", \"great\", \"great\", \"hdmi\", \"hdmi\", \"headphone\", \"headphone\", \"headphones\", \"headphones\", \"headset\", \"headset\", \"hear\", \"hear\", \"image\", \"images\", \"internet\", \"internet\", \"ipod\", \"ipod\", \"ipod\", \"jack\", \"jack\", \"keyboard\", \"keyboard\", \"keys\", \"keys\", \"kodak\", \"laptop\", \"laptop\", \"laptop\", \"lens\", \"lenses\", \"light\", \"light\", \"light\", \"like\", \"like\", \"like\", \"link\", \"link\", \"linksys\", \"linksys\", \"listen\", \"listen\", \"listening\", \"listening\", \"loud\", \"loud\", \"machine\", \"machine\", \"media\", \"media\", \"microsoft\", \"microsoft\", \"mouse\", \"mouse\", \"much\", \"much\", \"much\", \"music\", \"music\", \"music\", \"network\", \"network\", \"nikon\", \"noise\", \"noise\", \"olympus\", \"pair\", \"pair\", \"phones\", \"phones\", \"photo\", \"photos\", \"picture\", \"picture\", \"picture\", \"pictures\", \"player\", \"player\", \"player\", \"port\", \"port\", \"port\", \"price\", \"price\", \"price\", \"problem\", \"problem\", \"problem\", \"problems\", \"problems\", \"problems\", \"product\", \"product\", \"product\", \"program\", \"program\", \"quality\", \"quality\", \"quality\", \"radio\", \"radio\", \"really\", \"really\", \"really\", \"reception\", \"reception\", \"record\", \"record\", \"remote\", \"remote\", \"ring\", \"router\", \"router\", \"screen\", \"screen\", \"sensor\", \"service\", \"service\", \"sharp\", \"shoot\", \"shooting\", \"shot\", \"shots\", \"shutter\", \"small\", \"small\", \"small\", \"software\", \"software\", \"sound\", \"sound\", \"sounds\", \"sounds\", \"speaker\", \"speaker\", \"speakers\", \"speakers\", \"stations\", \"stations\", \"stereo\", \"stereo\", \"strap\", \"support\", \"support\", \"take\", \"take\", \"take\", \"tech\", \"tech\", \"time\", \"time\", \"time\", \"tried\", \"tried\", \"tried\", \"tripod\", \"unit\", \"unit\", \"unit\", \"used\", \"used\", \"used\", \"using\", \"using\", \"using\", \"vista\", \"vista\", \"volume\", \"volume\", \"warranty\", \"warranty\", \"warranty\", \"well\", \"well\", \"well\", \"wide\", \"wide\", \"windows\", \"windows\", \"wire\", \"wire\", \"wireless\", \"wireless\", \"wires\", \"wires\", \"work\", \"work\", \"work\", \"worked\", \"worked\", \"worked\", \"working\", \"working\", \"working\", \"works\", \"works\", \"works\", \"would\", \"would\", \"would\", \"zoom\"]}, \"R\": 30, \"lambda.step\": 0.01, \"plot.opts\": {\"xlab\": \"PC1\", \"ylab\": \"PC2\"}, \"topic.order\": [1, 2, 3]};\n",
              "\n",
              "function LDAvis_load_lib(url, callback){\n",
              "  var s = document.createElement('script');\n",
              "  s.src = url;\n",
              "  s.async = true;\n",
              "  s.onreadystatechange = s.onload = callback;\n",
              "  s.onerror = function(){console.warn(\"failed to load library \" + url);};\n",
              "  document.getElementsByTagName(\"head\")[0].appendChild(s);\n",
              "}\n",
              "\n",
              "if(typeof(LDAvis) !== \"undefined\"){\n",
              "   // already loaded: just create the visualization\n",
              "   !function(LDAvis){\n",
              "       new LDAvis(\"#\" + \"ldavis_el13241399394518083363678084143\", ldavis_el13241399394518083363678084143_data);\n",
              "   }(LDAvis);\n",
              "}else if(typeof define === \"function\" && define.amd){\n",
              "   // require.js is available: use it to load d3/LDAvis\n",
              "   require.config({paths: {d3: \"https://d3js.org/d3.v5\"}});\n",
              "   require([\"d3\"], function(d3){\n",
              "      window.d3 = d3;\n",
              "      LDAvis_load_lib(\"https://cdn.jsdelivr.net/gh/bmabey/pyLDAvis@3.3.1/pyLDAvis/js/ldavis.v3.0.0.js\", function(){\n",
              "        new LDAvis(\"#\" + \"ldavis_el13241399394518083363678084143\", ldavis_el13241399394518083363678084143_data);\n",
              "      });\n",
              "    });\n",
              "}else{\n",
              "    // require.js not available: dynamically load d3 & LDAvis\n",
              "    LDAvis_load_lib(\"https://d3js.org/d3.v5.js\", function(){\n",
              "         LDAvis_load_lib(\"https://cdn.jsdelivr.net/gh/bmabey/pyLDAvis@3.3.1/pyLDAvis/js/ldavis.v3.0.0.js\", function(){\n",
              "                 new LDAvis(\"#\" + \"ldavis_el13241399394518083363678084143\", ldavis_el13241399394518083363678084143_data);\n",
              "            })\n",
              "         });\n",
              "}\n",
              "</script>"
            ],
            "text/plain": [
              "PreparedData(topic_coordinates=              x         y  topics  cluster       Freq\n",
              "topic                                                \n",
              "0      0.124768  0.054488       1        1  41.452418\n",
              "1     -0.003123 -0.113284       2        1  32.956382\n",
              "2     -0.121645  0.058796       3        1  25.591200, topic_info=            Term          Freq         Total Category  logprob  loglift\n",
              "1401      camera  46716.000000  46716.000000  Default  30.0000  30.0000\n",
              "1329       sound  33090.000000  33090.000000  Default  29.0000  29.0000\n",
              "4628        lens  21344.000000  21344.000000  Default  28.0000  28.0000\n",
              "4373       canon  11945.000000  11945.000000  Default  27.0000  27.0000\n",
              "2758  headphones  13834.000000  13834.000000  Default  26.0000  26.0000\n",
              "...          ...           ...           ...      ...      ...      ...\n",
              "332         also   7375.360612  25721.674774   Topic3  -5.4508   0.1137\n",
              "149       bought   6589.481511  30734.117392   Topic3  -5.5635  -0.1770\n",
              "145         used   6001.483249  20671.143654   Topic3  -5.6569   0.1262\n",
              "152        price   5833.192933  19479.073365   Topic3  -5.6854   0.1571\n",
              "43          time   6157.571021  32630.134764   Topic3  -5.6313  -0.3046\n",
              "\n",
              "[205 rows x 6 columns], token_table=      Topic      Freq    Term\n",
              "term                         \n",
              "332       1  0.387883    also\n",
              "332       2  0.325368    also\n",
              "332       3  0.286723    also\n",
              "775       1  0.557147  amazon\n",
              "775       2  0.274402  amazon\n",
              "...     ...       ...     ...\n",
              "58        3  0.139581   works\n",
              "177       1  0.429855   would\n",
              "177       2  0.340371   would\n",
              "177       3  0.229749   would\n",
              "2722      3  0.999940    zoom\n",
              "\n",
              "[318 rows x 3 columns], R=30, lambda_step=0.01, plot_opts={'xlab': 'PC1', 'ylab': 'PC2'}, topic_order=[1, 2, 3])"
            ]
          },
          "metadata": {
            "tags": []
          },
          "execution_count": 38
        }
      ]
    },
    {
      "cell_type": "code",
      "metadata": {
        "id": "7PJogNZLOPP_"
      },
      "source": [
        ""
      ],
      "execution_count": null,
      "outputs": []
    }
  ]
}