{
  "nbformat": 4,
  "nbformat_minor": 0,
  "metadata": {
    "kernelspec": {
      "display_name": "Python 3",
      "language": "python",
      "name": "python3"
    },
    "language_info": {
      "codemirror_mode": {
        "name": "ipython",
        "version": 3
      },
      "file_extension": ".py",
      "mimetype": "text/x-python",
      "name": "python",
      "nbconvert_exporter": "python",
      "pygments_lexer": "ipython3",
      "version": "3.6.6"
    },
    "colab": {
      "name": "sentiment-analysis-using-naive-bayes.ipynb",
      "provenance": [],
      "collapsed_sections": []
    }
  },
  "cells": [
    {
      "cell_type": "markdown",
      "metadata": {
        "id": "Ioo_E5SRdDX-"
      },
      "source": [
        "## <a> download data from Curl </a> "
      ]
    },
    {
      "cell_type": "code",
      "metadata": {
        "id": "C90hAGbxgWc1",
        "colab": {
          "base_uri": "https://localhost:8080/"
        },
        "outputId": "4f516b88-b35d-46e0-891f-576bcb340b0e"
      },
      "source": [
        "!wget https://transfer.sh/R/dataset.zip"
      ],
      "execution_count": null,
      "outputs": [
        {
          "output_type": "stream",
          "text": [
            "--2021-06-17 18:18:50--  https://transfer.sh/R/dataset.zip\n",
            "Resolving transfer.sh (transfer.sh)... 144.76.136.153\n",
            "Connecting to transfer.sh (transfer.sh)|144.76.136.153|:443... connected.\n",
            "HTTP request sent, awaiting response... 200 OK\n",
            "Length: 403911810 (385M) [application/zip]\n",
            "Saving to: ‘dataset.zip.2’\n",
            "\n",
            "dataset.zip.2        25%[====>               ]  98.68M  11.8MB/s    eta 25s    ^C\n"
          ],
          "name": "stdout"
        }
      ]
    },
    {
      "cell_type": "code",
      "metadata": {
        "colab": {
          "base_uri": "https://localhost:8080/"
        },
        "id": "5dii78Q1gcu2",
        "outputId": "2c2c2751-2573-424e-b567-fdb2ef425626"
      },
      "source": [
        "!unzip /content/dataset.zip"
      ],
      "execution_count": null,
      "outputs": [
        {
          "output_type": "stream",
          "text": [
            "Archive:  /content/dataset.zip\n",
            "replace content/drive/MyDrive/dataset/sentiment_analysis_dataset/Electronics_5.csv? [y]es, [n]o, [A]ll, [N]one, [r]ename: "
          ],
          "name": "stdout"
        }
      ]
    },
    {
      "cell_type": "markdown",
      "metadata": {
        "id": "bU0f6itEdWWY"
      },
      "source": [
        "## <a> Import library </a> "
      ]
    },
    {
      "cell_type": "code",
      "metadata": {
        "id": "hNYQ6-QvdZ92"
      },
      "source": [
        "from nltk.corpus import stopwords\n",
        "from nltk import word_tokenize\n",
        "import nltk\n",
        "import string\n",
        "import re\n",
        "import numpy as np\n",
        "import pandas as pd\n",
        "import matplotlib.pyplot as plt \n"
      ],
      "execution_count": null,
      "outputs": []
    },
    {
      "cell_type": "code",
      "metadata": {
        "colab": {
          "base_uri": "https://localhost:8080/"
        },
        "id": "8kRNPQ7xeo3g",
        "outputId": "a746a2a8-0e6e-47dc-ec09-1677b87f7626"
      },
      "source": [
        "nltk.download('punkt')"
      ],
      "execution_count": null,
      "outputs": [
        {
          "output_type": "stream",
          "text": [
            "[nltk_data] Downloading package punkt to /root/nltk_data...\n",
            "[nltk_data]   Package punkt is already up-to-date!\n"
          ],
          "name": "stdout"
        },
        {
          "output_type": "execute_result",
          "data": {
            "text/plain": [
              "True"
            ]
          },
          "metadata": {
            "tags": []
          },
          "execution_count": 4
        }
      ]
    },
    {
      "cell_type": "code",
      "metadata": {
        "colab": {
          "base_uri": "https://localhost:8080/"
        },
        "id": "Z2UXg7P_eT9V",
        "outputId": "7be6cd98-a343-4b1b-ba3a-386e89b70b3f"
      },
      "source": [
        "nltk.download('stopwords')"
      ],
      "execution_count": null,
      "outputs": [
        {
          "output_type": "stream",
          "text": [
            "[nltk_data] Downloading package stopwords to /root/nltk_data...\n",
            "[nltk_data]   Package stopwords is already up-to-date!\n"
          ],
          "name": "stdout"
        },
        {
          "output_type": "execute_result",
          "data": {
            "text/plain": [
              "True"
            ]
          },
          "metadata": {
            "tags": []
          },
          "execution_count": 5
        }
      ]
    },
    {
      "cell_type": "markdown",
      "metadata": {
        "id": "KukkGBwumucV"
      },
      "source": [
        "## <a> Read Data as A dataframe </a>"
      ]
    },
    {
      "cell_type": "code",
      "metadata": {
        "_cell_guid": "79c7e3d0-c299-4dcb-8224-4455121ee9b0",
        "_uuid": "d629ff2d2480ee46fbb7e2d37f6b5fab8052498a",
        "id": "DKlyGBLudAVJ"
      },
      "source": [
        "df=pd.read_csv(\"/content/content/drive/MyDrive/dataset/sentiment_analysis_dataset/Electronics_5.csv\")\n"
      ],
      "execution_count": null,
      "outputs": []
    },
    {
      "cell_type": "code",
      "metadata": {
        "colab": {
          "base_uri": "https://localhost:8080/",
          "height": 168
        },
        "id": "DSYrcYljdjC1",
        "outputId": "09a55259-4dcd-41d5-885c-06788aa936dc"
      },
      "source": [
        "df.head(4)"
      ],
      "execution_count": null,
      "outputs": [
        {
          "output_type": "execute_result",
          "data": {
            "text/html": [
              "<div>\n",
              "<style scoped>\n",
              "    .dataframe tbody tr th:only-of-type {\n",
              "        vertical-align: middle;\n",
              "    }\n",
              "\n",
              "    .dataframe tbody tr th {\n",
              "        vertical-align: top;\n",
              "    }\n",
              "\n",
              "    .dataframe thead th {\n",
              "        text-align: right;\n",
              "    }\n",
              "</style>\n",
              "<table border=\"1\" class=\"dataframe\">\n",
              "  <thead>\n",
              "    <tr style=\"text-align: right;\">\n",
              "      <th></th>\n",
              "      <th>Unnamed: 0</th>\n",
              "      <th>overall</th>\n",
              "      <th>reviewText</th>\n",
              "      <th>target</th>\n",
              "    </tr>\n",
              "  </thead>\n",
              "  <tbody>\n",
              "    <tr>\n",
              "      <th>0</th>\n",
              "      <td>0</td>\n",
              "      <td>5</td>\n",
              "      <td>We got this GPS for my husband who is an (OTR)...</td>\n",
              "      <td>pos</td>\n",
              "    </tr>\n",
              "    <tr>\n",
              "      <th>1</th>\n",
              "      <td>1</td>\n",
              "      <td>1</td>\n",
              "      <td>I'm a professional OTR truck driver, and I bou...</td>\n",
              "      <td>neg</td>\n",
              "    </tr>\n",
              "    <tr>\n",
              "      <th>2</th>\n",
              "      <td>2</td>\n",
              "      <td>3</td>\n",
              "      <td>Well, what can I say.  I've had this unit in m...</td>\n",
              "      <td>natural</td>\n",
              "    </tr>\n",
              "    <tr>\n",
              "      <th>3</th>\n",
              "      <td>3</td>\n",
              "      <td>2</td>\n",
              "      <td>Not going to write a long review, even thought...</td>\n",
              "      <td>neg</td>\n",
              "    </tr>\n",
              "  </tbody>\n",
              "</table>\n",
              "</div>"
            ],
            "text/plain": [
              "   Unnamed: 0  ...   target\n",
              "0           0  ...      pos\n",
              "1           1  ...      neg\n",
              "2           2  ...  natural\n",
              "3           3  ...      neg\n",
              "\n",
              "[4 rows x 4 columns]"
            ]
          },
          "metadata": {
            "tags": []
          },
          "execution_count": 7
        }
      ]
    },
    {
      "cell_type": "code",
      "metadata": {
        "colab": {
          "base_uri": "https://localhost:8080/"
        },
        "id": "0l9yVfv6djLr",
        "outputId": "67e83abb-1035-4aaa-f8ce-cc69fbc0bc77"
      },
      "source": [
        "df.shape"
      ],
      "execution_count": null,
      "outputs": [
        {
          "output_type": "execute_result",
          "data": {
            "text/plain": [
              "(1689188, 4)"
            ]
          },
          "metadata": {
            "tags": []
          },
          "execution_count": 8
        }
      ]
    },
    {
      "cell_type": "code",
      "metadata": {
        "colab": {
          "base_uri": "https://localhost:8080/"
        },
        "id": "5N9uV850dth4",
        "outputId": "b3c00295-1ca7-4a16-d381-3c582b2de153"
      },
      "source": [
        "df.columns"
      ],
      "execution_count": null,
      "outputs": [
        {
          "output_type": "execute_result",
          "data": {
            "text/plain": [
              "Index(['Unnamed: 0', 'overall', 'reviewText', 'target'], dtype='object')"
            ]
          },
          "metadata": {
            "tags": []
          },
          "execution_count": 9
        }
      ]
    },
    {
      "cell_type": "markdown",
      "metadata": {
        "id": "IzvkRnx4m2ag"
      },
      "source": [
        "## <a> drop unnecessary column </a>"
      ]
    },
    {
      "cell_type": "code",
      "metadata": {
        "id": "jaKl3U0odnKU"
      },
      "source": [
        "df = df.drop('Unnamed: 0' , axis =1)"
      ],
      "execution_count": null,
      "outputs": []
    },
    {
      "cell_type": "code",
      "metadata": {
        "colab": {
          "base_uri": "https://localhost:8080/",
          "height": 138
        },
        "id": "UIA5MK79d643",
        "outputId": "c15b8ba8-4468-45af-d052-22e2449d805f"
      },
      "source": [
        "df.head(3)"
      ],
      "execution_count": null,
      "outputs": [
        {
          "output_type": "execute_result",
          "data": {
            "text/html": [
              "<div>\n",
              "<style scoped>\n",
              "    .dataframe tbody tr th:only-of-type {\n",
              "        vertical-align: middle;\n",
              "    }\n",
              "\n",
              "    .dataframe tbody tr th {\n",
              "        vertical-align: top;\n",
              "    }\n",
              "\n",
              "    .dataframe thead th {\n",
              "        text-align: right;\n",
              "    }\n",
              "</style>\n",
              "<table border=\"1\" class=\"dataframe\">\n",
              "  <thead>\n",
              "    <tr style=\"text-align: right;\">\n",
              "      <th></th>\n",
              "      <th>overall</th>\n",
              "      <th>reviewText</th>\n",
              "      <th>target</th>\n",
              "    </tr>\n",
              "  </thead>\n",
              "  <tbody>\n",
              "    <tr>\n",
              "      <th>0</th>\n",
              "      <td>5</td>\n",
              "      <td>We got this GPS for my husband who is an (OTR)...</td>\n",
              "      <td>pos</td>\n",
              "    </tr>\n",
              "    <tr>\n",
              "      <th>1</th>\n",
              "      <td>1</td>\n",
              "      <td>I'm a professional OTR truck driver, and I bou...</td>\n",
              "      <td>neg</td>\n",
              "    </tr>\n",
              "    <tr>\n",
              "      <th>2</th>\n",
              "      <td>3</td>\n",
              "      <td>Well, what can I say.  I've had this unit in m...</td>\n",
              "      <td>natural</td>\n",
              "    </tr>\n",
              "  </tbody>\n",
              "</table>\n",
              "</div>"
            ],
            "text/plain": [
              "   overall                                         reviewText   target\n",
              "0        5  We got this GPS for my husband who is an (OTR)...      pos\n",
              "1        1  I'm a professional OTR truck driver, and I bou...      neg\n",
              "2        3  Well, what can I say.  I've had this unit in m...  natural"
            ]
          },
          "metadata": {
            "tags": []
          },
          "execution_count": 11
        }
      ]
    },
    {
      "cell_type": "code",
      "metadata": {
        "colab": {
          "base_uri": "https://localhost:8080/"
        },
        "id": "Vinz1rW3gx4b",
        "outputId": "4b74812a-0c76-4e8b-b17b-3140fb2b4314"
      },
      "source": [
        "df.target.value_counts()"
      ],
      "execution_count": null,
      "outputs": [
        {
          "output_type": "execute_result",
          "data": {
            "text/plain": [
              "pos        1009026\n",
              "natural     489298\n",
              "neg         190864\n",
              "Name: target, dtype: int64"
            ]
          },
          "metadata": {
            "tags": []
          },
          "execution_count": 12
        }
      ]
    },
    {
      "cell_type": "code",
      "metadata": {
        "id": "u-UukFRshKS-"
      },
      "source": [
        "df1 = df[df['target'] == 'pos'][:40000]\n",
        "df2 = df[df['target'] == 'natural'][:40000]\n",
        "df3 = df[df['target'] == 'neg'][:40000]\n"
      ],
      "execution_count": null,
      "outputs": []
    },
    {
      "cell_type": "code",
      "metadata": {
        "id": "PebytHebhQmG"
      },
      "source": [
        "df = df1.append([df2 ,df3 ] , sort = True )"
      ],
      "execution_count": null,
      "outputs": []
    },
    {
      "cell_type": "markdown",
      "metadata": {
        "id": "LDjLrZ1dm9Xc"
      },
      "source": [
        "## <a> clean Dataset  </a>"
      ]
    },
    {
      "cell_type": "code",
      "metadata": {
        "id": "A7DyBzW-dAVR"
      },
      "source": [
        "\n",
        "\n",
        "## download stopwords \n",
        "stop_words = stopwords.words(\"english\")\n",
        "\n",
        "## reg for remove special character \n",
        "TEXT_CLEANING_RE = \"@\\S+|https?:\\S+|http?:\\S|[^A-Za-z0-9]+\"\n",
        "\n",
        "\n",
        "\"\"\"\n",
        "  preprocess function \n",
        "\n",
        "  input  : each row from data \n",
        "\n",
        "  output : text cleaning \n",
        "\n",
        "\"\"\"\n",
        "def preprocess_text(text , stem =False):\n",
        "    # Remove link,user and special characters\n",
        "    text = re.sub(TEXT_CLEANING_RE, ' ', str(text).lower()).strip()\n",
        "    text = re.sub(r'[0-9]+', '', text)\n",
        "    tokens = []\n",
        "    for token in text.split():\n",
        "        if token not in stop_words and len(token) >2:\n",
        "            tokens.append(token)\n",
        "    return \" \".join(tokens)"
      ],
      "execution_count": null,
      "outputs": []
    },
    {
      "cell_type": "code",
      "metadata": {
        "id": "80vNj0PefUYB"
      },
      "source": [
        "df.reviewText = df.reviewText.apply(lambda x: preprocess_text(x))\n"
      ],
      "execution_count": null,
      "outputs": []
    },
    {
      "cell_type": "code",
      "metadata": {
        "colab": {
          "base_uri": "https://localhost:8080/",
          "height": 168
        },
        "id": "ej86tGvEexas",
        "outputId": "7b64a2d0-6c40-46b0-ffa5-48fd1040de60"
      },
      "source": [
        "df.head(4)"
      ],
      "execution_count": null,
      "outputs": [
        {
          "output_type": "execute_result",
          "data": {
            "text/html": [
              "<div>\n",
              "<style scoped>\n",
              "    .dataframe tbody tr th:only-of-type {\n",
              "        vertical-align: middle;\n",
              "    }\n",
              "\n",
              "    .dataframe tbody tr th {\n",
              "        vertical-align: top;\n",
              "    }\n",
              "\n",
              "    .dataframe thead th {\n",
              "        text-align: right;\n",
              "    }\n",
              "</style>\n",
              "<table border=\"1\" class=\"dataframe\">\n",
              "  <thead>\n",
              "    <tr style=\"text-align: right;\">\n",
              "      <th></th>\n",
              "      <th>overall</th>\n",
              "      <th>reviewText</th>\n",
              "      <th>target</th>\n",
              "    </tr>\n",
              "  </thead>\n",
              "  <tbody>\n",
              "    <tr>\n",
              "      <th>0</th>\n",
              "      <td>5</td>\n",
              "      <td>got gps husband otr road trucker impressed shi...</td>\n",
              "      <td>pos</td>\n",
              "    </tr>\n",
              "    <tr>\n",
              "      <th>5</th>\n",
              "      <td>5</td>\n",
              "      <td>using nook works described picture samsung exc...</td>\n",
              "      <td>pos</td>\n",
              "    </tr>\n",
              "    <tr>\n",
              "      <th>7</th>\n",
              "      <td>5</td>\n",
              "      <td>adaptor real easy setup use right box problem ...</td>\n",
              "      <td>pos</td>\n",
              "    </tr>\n",
              "    <tr>\n",
              "      <th>9</th>\n",
              "      <td>5</td>\n",
              "      <td>product really works great found following ite...</td>\n",
              "      <td>pos</td>\n",
              "    </tr>\n",
              "  </tbody>\n",
              "</table>\n",
              "</div>"
            ],
            "text/plain": [
              "   overall                                         reviewText target\n",
              "0        5  got gps husband otr road trucker impressed shi...    pos\n",
              "5        5  using nook works described picture samsung exc...    pos\n",
              "7        5  adaptor real easy setup use right box problem ...    pos\n",
              "9        5  product really works great found following ite...    pos"
            ]
          },
          "metadata": {
            "tags": []
          },
          "execution_count": 17
        }
      ]
    },
    {
      "cell_type": "code",
      "metadata": {
        "colab": {
          "base_uri": "https://localhost:8080/",
          "height": 309
        },
        "id": "CE6cVLYlf3qO",
        "outputId": "acdc91ac-dcd2-4bce-ee38-6fac775bb546"
      },
      "source": [
        "df.target.value_counts().plot(kind ='bar')"
      ],
      "execution_count": null,
      "outputs": [
        {
          "output_type": "execute_result",
          "data": {
            "text/plain": [
              "<matplotlib.axes._subplots.AxesSubplot at 0x7faf7b88da90>"
            ]
          },
          "metadata": {
            "tags": []
          },
          "execution_count": 18
        },
        {
          "output_type": "display_data",
          "data": {
            "image/png": "[encoded data removed]",
            "text/plain": [
              "<Figure size 432x288 with 1 Axes>"
            ]
          },
          "metadata": {
            "tags": [],
            "needs_background": "light"
          }
        }
      ]
    },
    {
      "cell_type": "markdown",
      "metadata": {
        "id": "WeWUXeVxnCJ7"
      },
      "source": [
        "## <a> split Dataset into train and test  </a>"
      ]
    },
    {
      "cell_type": "code",
      "metadata": {
        "colab": {
          "base_uri": "https://localhost:8080/"
        },
        "id": "ZEPP88o3dAVS",
        "outputId": "a63f0872-1e85-42c7-a6d4-9b610a0ced9f"
      },
      "source": [
        "from sklearn.model_selection import train_test_split\n",
        "\n",
        "X_train, X_test, y_train, y_test = train_test_split(df['reviewText'], df['target'], test_size=0.1, stratify=df['target'])\n",
        "\n",
        "## print output shape\n",
        "print(\"X_train size:\", X_train.shape)\n",
        "print(\"y_train size:\", y_train.shape)\n",
        "print(\"X_test size:\", X_test.shape)\n",
        "print(\"y_test size:\", y_test.shape)"
      ],
      "execution_count": null,
      "outputs": [
        {
          "output_type": "stream",
          "text": [
            "X_train size: (108000,)\n",
            "y_train size: (108000,)\n",
            "X_test size: (12000,)\n",
            "y_test size: (12000,)\n"
          ],
          "name": "stdout"
        }
      ]
    },
    {
      "cell_type": "markdown",
      "metadata": {
        "id": "Mupsr1BYH8uG"
      },
      "source": [
        "## Convert text data to numerical data"
      ]
    },
    {
      "cell_type": "code",
      "metadata": {
        "id": "uwAZrOVrH-HD"
      },
      "source": [
        "from sklearn.feature_extraction.text import CountVectorizer, TfidfVectorizer\n",
        "vect = CountVectorizer()\n",
        "tf_train=vect.fit_transform(X_train)  #train the vectorizer, build the vocablury\n",
        "tf_test=vect.transform(X_test)  #get same encodings on test data as of vocabulary built"
      ],
      "execution_count": null,
      "outputs": []
    },
    {
      "cell_type": "markdown",
      "metadata": {
        "id": "93rZCh9LnIeC"
      },
      "source": [
        "## <a> implement Naive Bayes Classifier </a>"
      ]
    },
    {
      "cell_type": "code",
      "metadata": {
        "id": "jKH3HeULdAVW"
      },
      "source": [
        "from sklearn.naive_bayes import MultinomialNB\n",
        "from sklearn.metrics import accuracy_score\n",
        "from sklearn.model_selection import GridSearchCV\n",
        "from sklearn.metrics import accuracy_score\n",
        "from sklearn.metrics import precision_score\n",
        "from sklearn.metrics import recall_score\n",
        "from sklearn.metrics import make_scorer\n",
        "from sklearn import svm\n",
        "\n",
        "##import libraries\n",
        "from sklearn.metrics import classification_report\n",
        "from sklearn.metrics import confusion_matrix\n",
        "import seaborn as sns\n"
      ],
      "execution_count": null,
      "outputs": []
    },
    {
      "cell_type": "code",
      "metadata": {
        "colab": {
          "base_uri": "https://localhost:8080/"
        },
        "id": "TxWwcd5gI3rh",
        "outputId": "80e8b8de-27fb-4991-de65-70a134ad8c0f"
      },
      "source": [
        "labels = list(np.unique(y_test))\n",
        "labels"
      ],
      "execution_count": null,
      "outputs": [
        {
          "output_type": "execute_result",
          "data": {
            "text/plain": [
              "['natural', 'neg', 'pos']"
            ]
          },
          "metadata": {
            "tags": []
          },
          "execution_count": 22
        }
      ]
    },
    {
      "cell_type": "markdown",
      "metadata": {
        "id": "mxBzJsZkFdlj"
      },
      "source": [
        "## <a> Accuracy on Naive Bayes </a> "
      ]
    },
    {
      "cell_type": "code",
      "metadata": {
        "colab": {
          "base_uri": "https://localhost:8080/",
          "height": 859
        },
        "id": "EdTf1_P6FRhz",
        "outputId": "7b7afd31-ed81-433c-e653-b73db06ec186"
      },
      "source": [
        "clf = MultinomialNB( alpha=0.1)\n",
        "clf.fit(tf_train, y_train)\n",
        "y_pred = clf.predict(tf_test)\n",
        "train_pred = clf.predict(tf_train)\n",
        "print(\"accuracy on test data is : \" , accuracy_score(y_test, y_pred))\n",
        "\n",
        "print(classification_report(y_test, y_pred))\n",
        "\n",
        "cm = confusion_matrix(y_test, y_pred, labels)\n",
        "\n",
        "\n",
        "plt.figure(figsize=(10,10))\n",
        "plt.title(\" confusion matrix for SVC \")\n",
        "sns.heatmap(cm , annot =True , fmt=\"0.1f\" ,)\n",
        "\n",
        "\n",
        "ax= plt.subplot()\n",
        "\n",
        "# labels, title and ticks\n",
        "ax.set_xlabel('Predicted labels');ax.set_ylabel('True labels'); \n",
        "ax.set_title('Confusion Matrix'); \n",
        "ax.xaxis.set_ticklabels(['natural', 'negative', 'positive']); ax.yaxis.set_ticklabels(['natural', 'negative', 'positive' ]);\n"
      ],
      "execution_count": null,
      "outputs": [
        {
          "output_type": "stream",
          "text": [
            "accuracy on test data is :  0.64075\n",
            "              precision    recall  f1-score   support\n",
            "\n",
            "     natural       0.56      0.47      0.51      4000\n",
            "         neg       0.69      0.75      0.72      4000\n",
            "         pos       0.65      0.70      0.67      4000\n",
            "\n",
            "    accuracy                           0.64     12000\n",
            "   macro avg       0.63      0.64      0.64     12000\n",
            "weighted avg       0.63      0.64      0.64     12000\n",
            "\n"
          ],
          "name": "stdout"
        },
        {
          "output_type": "stream",
          "text": [
            "/usr/local/lib/python3.7/dist-packages/ipykernel_launcher.py:17: MatplotlibDeprecationWarning: Adding an axes using the same arguments as a previous axes currently reuses the earlier instance.  In a future version, a new instance will always be created and returned.  Meanwhile, this warning can be suppressed, and the future behavior ensured, by passing a unique label to each axes instance.\n"
          ],
          "name": "stderr"
        },
        {
          "output_type": "display_data",
          "data": {
            "image/png": "[encoded data removed]",
            "text/plain": [
              "<Figure size 720x720 with 2 Axes>"
            ]
          },
          "metadata": {
            "tags": [],
            "needs_background": "light"
          }
        }
      ]
    },
    {
      "cell_type": "code",
      "metadata": {
        "id": "_rGllaq6FQ8r"
      },
      "source": [
        ""
      ],
      "execution_count": null,
      "outputs": []
    },
    {
      "cell_type": "markdown",
      "metadata": {
        "id": "3AJ0G5iQFlF4"
      },
      "source": [
        "## <a> Accuracy on logistic regression </a> "
      ]
    },
    {
      "cell_type": "code",
      "metadata": {
        "colab": {
          "base_uri": "https://localhost:8080/",
          "height": 859
        },
        "id": "-ca0Ti6NFns5",
        "outputId": "1dbe628b-4491-4455-f0b9-dfe7de884e1c"
      },
      "source": [
        "\n",
        "from sklearn.linear_model import LogisticRegression\n",
        "\n",
        "lg = LogisticRegression( C = 0.001 ,random_state=0)\n",
        "lg.fit(tf_train, y_train)\n",
        "y_pred = lg.predict(tf_test)\n",
        "train_pred = lg.predict(tf_train)\n",
        "print(\"accuracy on test data is : \" , accuracy_score(y_test, y_pred))\n",
        "\n",
        "print(classification_report(y_test, y_pred))\n",
        "\n",
        "cm = confusion_matrix(y_test, y_pred, labels)\n",
        "\n",
        "\n",
        "plt.figure(figsize=(10,10))\n",
        "plt.title(\" confusion matrix for LogisticRegression \")\n",
        "sns.heatmap(cm , annot =True , fmt=\"0.1f\" ,)\n",
        "\n",
        "\n",
        "ax= plt.subplot()\n",
        "\n",
        "# labels, title and ticks\n",
        "ax.set_xlabel('Predicted labels');ax.set_ylabel('True labels'); \n",
        "ax.set_title('Confusion Matrix'); \n",
        "ax.xaxis.set_ticklabels(['natural', 'negative', 'positive']); ax.yaxis.set_ticklabels(['natural', 'negative', 'positive' ]);\n"
      ],
      "execution_count": null,
      "outputs": [
        {
          "output_type": "stream",
          "text": [
            "accuracy on test data is :  0.6660833333333334\n",
            "              precision    recall  f1-score   support\n",
            "\n",
            "     natural       0.61      0.47      0.53      4000\n",
            "         neg       0.74      0.78      0.76      4000\n",
            "         pos       0.63      0.75      0.69      4000\n",
            "\n",
            "    accuracy                           0.67     12000\n",
            "   macro avg       0.66      0.67      0.66     12000\n",
            "weighted avg       0.66      0.67      0.66     12000\n",
            "\n"
          ],
          "name": "stdout"
        },
        {
          "output_type": "stream",
          "text": [
            "/usr/local/lib/python3.7/dist-packages/ipykernel_launcher.py:20: MatplotlibDeprecationWarning: Adding an axes using the same arguments as a previous axes currently reuses the earlier instance.  In a future version, a new instance will always be created and returned.  Meanwhile, this warning can be suppressed, and the future behavior ensured, by passing a unique label to each axes instance.\n"
          ],
          "name": "stderr"
        },
        {
          "output_type": "display_data",
          "data": {
            "image/png": "[encoded data removed]",
            "text/plain": [
              "<Figure size 720x720 with 2 Axes>"
            ]
          },
          "metadata": {
            "tags": [],
            "needs_background": "light"
          }
        }
      ]
    },
    {
      "cell_type": "markdown",
      "metadata": {
        "id": "jnKKFPKVFur-"
      },
      "source": [
        "## <a> Accuracy on decision Tree </a> "
      ]
    },
    {
      "cell_type": "code",
      "metadata": {
        "colab": {
          "base_uri": "https://localhost:8080/",
          "height": 859
        },
        "id": "DjPzciiAFw9k",
        "outputId": "c05951a4-0a16-48df-a931-6c6bb746d6ad"
      },
      "source": [
        "## random forest \n",
        "from sklearn.tree import DecisionTreeClassifier\n",
        "\n",
        "clf = DecisionTreeClassifier(criterion='entropy' , max_depth=120, random_state=0)\n",
        "clf.fit(tf_train, y_train)\n",
        "y_pred = clf.predict(tf_test)\n",
        "train_pred = clf.predict(tf_train)\n",
        "print(\"accuracy on test data is : \" , accuracy_score(y_test, y_pred))\n",
        "\n",
        "print(classification_report(y_test, y_pred))\n",
        "\n",
        "cm = confusion_matrix(y_test, y_pred, labels)\n",
        "\n",
        "\n",
        "plt.figure(figsize=(10,10))\n",
        "plt.title(\" confusion matrix for LogisticRegression \")\n",
        "sns.heatmap(cm , annot =True , fmt=\"0.1f\" ,)\n",
        "\n",
        "\n",
        "ax= plt.subplot()\n",
        "\n",
        "# labels, title and ticks\n",
        "ax.set_xlabel('Predicted labels');ax.set_ylabel('True labels'); \n",
        "ax.set_title('Confusion Matrix'); \n",
        "ax.xaxis.set_ticklabels(['natural', 'negative', 'positive']); ax.yaxis.set_ticklabels(['natural', 'negative', 'positive' ]);\n"
      ],
      "execution_count": null,
      "outputs": [
        {
          "output_type": "stream",
          "text": [
            "accuracy on test data is :  0.51\n",
            "              precision    recall  f1-score   support\n",
            "\n",
            "     natural       0.43      0.41      0.42      4000\n",
            "         neg       0.59      0.60      0.59      4000\n",
            "         pos       0.51      0.52      0.51      4000\n",
            "\n",
            "    accuracy                           0.51     12000\n",
            "   macro avg       0.51      0.51      0.51     12000\n",
            "weighted avg       0.51      0.51      0.51     12000\n",
            "\n"
          ],
          "name": "stdout"
        },
        {
          "output_type": "stream",
          "text": [
            "/usr/local/lib/python3.7/dist-packages/ipykernel_launcher.py:20: MatplotlibDeprecationWarning: Adding an axes using the same arguments as a previous axes currently reuses the earlier instance.  In a future version, a new instance will always be created and returned.  Meanwhile, this warning can be suppressed, and the future behavior ensured, by passing a unique label to each axes instance.\n"
          ],
          "name": "stderr"
        },
        {
          "output_type": "display_data",
          "data": {
            "image/png": "[encoded data removed]",
            "text/plain": [
              "<Figure size 720x720 with 2 Axes>"
            ]
          },
          "metadata": {
            "tags": [],
            "needs_background": "light"
          }
        }
      ]
    },
    {
      "cell_type": "markdown",
      "metadata": {
        "id": "8YlGgx_xFKez"
      },
      "source": [
        "## <a> Accuracy on Gradiant boosting classifier </a> "
      ]
    },
    {
      "cell_type": "code",
      "metadata": {
        "colab": {
          "base_uri": "https://localhost:8080/",
          "height": 859
        },
        "id": "f3b_szr4FMr4",
        "outputId": "e9d0621c-573b-4437-ad18-bd15027dcad0"
      },
      "source": [
        "from sklearn.ensemble import GradientBoostingClassifier\n",
        "\n",
        "clf = GradientBoostingClassifier(learning_rate = 0.01 ,max_depth = 5 , random_state=0)\n",
        "clf.fit(tf_train, y_train)\n",
        "y_pred = clf.predict(tf_test)\n",
        "train_pred = clf.predict(tf_train)\n",
        "print(\"accuracy on test data is : \" , accuracy_score(y_test, y_pred))\n",
        "\n",
        "print(classification_report(y_test, y_pred))\n",
        "\n",
        "cm = confusion_matrix(y_test, y_pred, labels)\n",
        "\n",
        "\n",
        "plt.figure(figsize=(10,10))\n",
        "plt.title(\" confusion matrix for LogisticRegression \")\n",
        "sns.heatmap(cm , annot =True , fmt=\"0.1f\" ,)\n",
        "\n",
        "\n",
        "ax= plt.subplot()\n",
        "\n",
        "# labels, title and ticks\n",
        "ax.set_xlabel('Predicted labels');ax.set_ylabel('True labels'); \n",
        "ax.set_title('Confusion Matrix'); \n",
        "ax.xaxis.set_ticklabels(['natural', 'negative', 'positive']); ax.yaxis.set_ticklabels(['natural', 'negative', 'positive' ]);\n"
      ],
      "execution_count": null,
      "outputs": [
        {
          "output_type": "stream",
          "text": [
            "accuracy on test data is :  0.5561666666666667\n",
            "              precision    recall  f1-score   support\n",
            "\n",
            "     natural       0.51      0.46      0.48      4000\n",
            "         neg       0.65      0.58      0.61      4000\n",
            "         pos       0.52      0.63      0.57      4000\n",
            "\n",
            "    accuracy                           0.56     12000\n",
            "   macro avg       0.56      0.56      0.56     12000\n",
            "weighted avg       0.56      0.56      0.56     12000\n",
            "\n"
          ],
          "name": "stdout"
        },
        {
          "output_type": "stream",
          "text": [
            "/usr/local/lib/python3.7/dist-packages/ipykernel_launcher.py:19: MatplotlibDeprecationWarning: Adding an axes using the same arguments as a previous axes currently reuses the earlier instance.  In a future version, a new instance will always be created and returned.  Meanwhile, this warning can be suppressed, and the future behavior ensured, by passing a unique label to each axes instance.\n"
          ],
          "name": "stderr"
        },
        {
          "output_type": "display_data",
          "data": {
            "image/png": "[encoded data removed]",
            "text/plain": [
              "<Figure size 720x720 with 2 Axes>"
            ]
          },
          "metadata": {
            "tags": [],
            "needs_background": "light"
          }
        }
      ]
    },
    {
      "cell_type": "markdown",
      "metadata": {
        "id": "Uhu283_SFM6R"
      },
      "source": [
        "## <a> </a>"
      ]
    },
    {
      "cell_type": "code",
      "metadata": {
        "id": "_OGk20zDdAVh"
      },
      "source": [
        "gg=X_test.reset_index(drop=True)\n",
        "# print(gg)\n",
        "for i, p in enumerate(predicted):\n",
        "#     print(i)\n",
        "    print (gg[i] + \" - \" + str(p))\n",
        "    if i>5:\n",
        "        break #to avoid a lot of printing and slowing down the notebook"
      ],
      "execution_count": null,
      "outputs": []
    },
    {
      "cell_type": "markdown",
      "metadata": {
        "id": "NOiwyWQ3k5b2"
      },
      "source": [
        "## <a>Predict Output  </a>"
      ]
    },
    {
      "cell_type": "code",
      "metadata": {
        "colab": {
          "base_uri": "https://localhost:8080/"
        },
        "id": "clWbpV0wdAVj",
        "outputId": "b99e8446-1f50-45db-ad4b-4e20510f2bf6"
      },
      "source": [
        "test_custom=pd.DataFrame([\"i  love this electronics\", \"this phone is bad \", \"it is a horrible incident\"])\n",
        "tf_custom = vect.transform(test_custom[0])\n",
        "lg.predict(tf_custom)"
      ],
      "execution_count": null,
      "outputs": [
        {
          "output_type": "execute_result",
          "data": {
            "text/plain": [
              "array(['pos', 'neg', 'neg'], dtype=object)"
            ]
          },
          "metadata": {
            "tags": []
          },
          "execution_count": 35
        }
      ]
    }
  ]
}