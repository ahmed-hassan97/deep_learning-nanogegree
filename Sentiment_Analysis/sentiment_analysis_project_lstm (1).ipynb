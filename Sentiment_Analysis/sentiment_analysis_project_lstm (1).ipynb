{
  "nbformat": 4,
  "nbformat_minor": 0,
  "metadata": {
    "accelerator": "GPU",
    "colab": {
      "name": "sentiment_analysis_project_lstm.ipynb",
      "provenance": [],
      "collapsed_sections": []
    },
    "kernelspec": {
      "display_name": "Python 3",
      "name": "python3"
    },
    "language_info": {
      "name": "python"
    }
  },
  "cells": [
    {
      "cell_type": "markdown",
      "metadata": {
        "id": "Jna40fnJTpaT"
      },
      "source": [
        "<h1> <a> Introduction  </a> </h1>\n",
        "\n",
        "# Sentiment Analysis with an RNN\n",
        "\n",
        "you'll implement a recurrent neural network that performs sentiment analysis. \n",
        ">Using an RNN rather than a strictly feedforward network is more accurate since we can include information about the *sequence* of words. \n",
        "\n",
        "Here we'll use a dataset of electronics reviews, accompanied by sentiment labels: positive, negative or neutral.\n",
        "\n",
        "<img align=\"middle\" src=\"https://th.bing.com/th/id/OIP.ga-SiZtiielm5ovfr9b2jAHaFj?pid=ImgDet&rs=1\" width=\"600\" height=\"300\">\n",
        "\n",
        "### Network Architecture\n",
        "\n",
        "The architecture for this network is shown below.\n",
        "\n",
        "<img align=\"middle\" src=\"https://th.bing.com/th/id/R186da34c5bacad0287a83c0b0b8683b7?rik=hlrz7baAq3AUow&pid=ImgRaw\" width=\"600\" height=\"300\">\n",
        "\n",
        ">**First, we'll pass in words to an embedding layer.** We need an embedding layer because we have tens of thousands of words, so we'll need a more efficient representation for our input data than one-hot encoded vectors. You should have seen this before from the Word2Vec lesson. You can actually train an embedding with the Skip-gram Word2Vec model and use those embeddings as input, here. However, it's good enough to just have an embedding layer and let the network learn a different embedding table on its own. *In this case, the embedding layer is for dimensionality reduction, rather than for learning semantic representations.*\n",
        "\n",
        ">**After input words are passed to an embedding layer, the new embeddings will be passed to LSTM cells.** The LSTM cells will add *recurrent* connections to the network and give us the ability to include information about the *sequence* of words in the movie review data. \n",
        "\n",
        ">**Finally, the LSTM outputs will go to a softmax output layer.** We're using a softmax function \n"
      ]
    },
    {
      "cell_type": "markdown",
      "metadata": {
        "id": "t6HbE05mRNTz"
      },
      "source": [
        "<h1 color ='red'> <a> Table of contents </a> </h1>\n",
        "\n",
        "*           <h1> <a>Getting Dataset  </a> </h1>\n",
        "*           <h1> <a>Data Exploration  </a> </h1>\n",
        "*           <h1> <a>Data Analysis  </a> </h1>\n",
        "*           <h1> <a> implement word Embeddings </a> </h1>\n",
        "*           <h1> <a> Visualize word meanings  </a> </h1>\n",
        "\n",
        "*           <h1> <a> Apply Deep learning model (Lstm)  </a> </h1>\n",
        "*           <h1> <a> Test models   </a> </h1>\n",
        "*           <h1> <a> Deploy model   </a> </h1>\n",
        "*           <h1> <a> Summary    </a> </h1>\n",
        "\n"
      ]
    },
    {
      "cell_type": "markdown",
      "metadata": {
        "id": "tVw3ZbRAUpHy"
      },
      "source": [
        "*  <h1> <a href = \"http://jmcauley.ucsd.edu/data/amazon/\" > Link Dataset </a> </h1>\n"
      ]
    },
    {
      "cell_type": "code",
      "metadata": {
        "id": "yRiFsbzQek0k",
        "colab": {
          "base_uri": "https://localhost:8080/"
        },
        "outputId": "ad794850-899d-4c99-e2da-0f382e2855c3"
      },
      "source": [
        "from google.colab import drive\n",
        "drive.mount('/content/drive')"
      ],
      "execution_count": null,
      "outputs": [
        {
          "output_type": "stream",
          "text": [
            "Drive already mounted at /content/drive; to attempt to forcibly remount, call drive.mount(\"/content/drive\", force_remount=True).\n"
          ],
          "name": "stdout"
        }
      ]
    },
    {
      "cell_type": "code",
      "metadata": {
        "id": "8SqxvkoR-Sri"
      },
      "source": [
        "#!pip install gensim==3.8.0"
      ],
      "execution_count": null,
      "outputs": []
    },
    {
      "cell_type": "markdown",
      "metadata": {
        "id": "CdhxsbxvfmXf"
      },
      "source": [
        "<h1> <a> import Library </a> </h1>"
      ]
    },
    {
      "cell_type": "code",
      "metadata": {
        "id": "4qO2NQqjgCh_"
      },
      "source": [
        "# DataFrame\n",
        "\n",
        "import pandas as pd\n",
        "import tensorflow as tf\n",
        "# Matplot\n",
        "import matplotlib.pyplot as plt\n",
        "%matplotlib inline\n",
        "import math\n",
        "\n",
        "# Scikit-learn\n",
        "from sklearn.model_selection import train_test_split\n",
        "from sklearn.preprocessing import LabelEncoder\n",
        "from sklearn.metrics import confusion_matrix, classification_report, accuracy_score\n",
        "from sklearn.manifold import TSNE\n",
        "from sklearn.feature_extraction.text import TfidfVectorizer\n",
        "\n",
        "# Keras\n",
        "from tensorflow.keras.preprocessing.text import Tokenizer\n",
        "from tensorflow.keras.preprocessing.sequence import pad_sequences\n",
        "from tensorflow.keras.models import Sequential\n",
        "from tensorflow.keras.layers import Activation, Dense, Dropout, Embedding, Flatten, Conv1D, MaxPooling1D, LSTM\n",
        "from tensorflow.keras import utils\n",
        "from tensorflow.keras.callbacks import ReduceLROnPlateau, EarlyStopping\n",
        "from keras.callbacks import LearningRateScheduler\n",
        "# nltk\n",
        "import nltk\n",
        "from nltk.corpus import stopwords\n",
        "from  nltk.stem import SnowballStemmer\n",
        "\n",
        "# Word2vec\n",
        "import gensim\n",
        "\n",
        "# Utility\n",
        "import re\n",
        "import numpy as np\n",
        "import os\n",
        "from collections import Counter\n",
        "import logging\n",
        "import time\n",
        "import pickle\n",
        "import itertools\n"
      ],
      "execution_count": null,
      "outputs": []
    },
    {
      "cell_type": "code",
      "metadata": {
        "id": "Yx-OjPUv5vWr",
        "colab": {
          "base_uri": "https://localhost:8080/"
        },
        "outputId": "da34c826-50ee-4fd2-e83e-de5a3a88e8e8"
      },
      "source": [
        "nltk.download('stopwords')\n"
      ],
      "execution_count": null,
      "outputs": [
        {
          "output_type": "stream",
          "text": [
            "[nltk_data] Downloading package stopwords to /root/nltk_data...\n",
            "[nltk_data]   Package stopwords is already up-to-date!\n"
          ],
          "name": "stdout"
        },
        {
          "output_type": "execute_result",
          "data": {
            "text/plain": [
              "True"
            ]
          },
          "metadata": {
            "tags": []
          },
          "execution_count": 4
        }
      ]
    },
    {
      "cell_type": "code",
      "metadata": {
        "id": "qsCqns4t5w5G"
      },
      "source": [
        "# TEXT CLENAING\n",
        "TEXT_CLEANING_RE = \"@\\S+|https?:\\S+|http?:\\S|[^A-Za-z0-9]+\"\n",
        "\n",
        "# WORD2VEC \n",
        "W2V_SIZE = 128\n",
        "W2V_WINDOW = 10\n",
        "W2V_EPOCH = 256\n",
        "W2V_MIN_COUNT = 10\n",
        "\n",
        "# KERAS\n",
        "SEQUENCE_LENGTH = 300\n",
        "EPOCHS = 10\n",
        "BATCH_SIZE = 64\n",
        "\n",
        "\n",
        "# EXPORT\n",
        "KERAS_MODEL = \"model.h5\"\n",
        "WORD2VEC_MODEL = \"model.pkl\"\n",
        "TOKENIZER_MODEL = \"tokenizer.pkl\"\n",
        "ENCODER_MODEL = \"encoder.pkl\""
      ],
      "execution_count": null,
      "outputs": []
    },
    {
      "cell_type": "code",
      "metadata": {
        "id": "yDRY2YRJVPnC"
      },
      "source": [
        "df = pd.read_csv('/content/drive/MyDrive/dataset/sentiment_analysis_dataset/Electronics_5.csv')"
      ],
      "execution_count": null,
      "outputs": []
    },
    {
      "cell_type": "markdown",
      "metadata": {
        "id": "Z7sMaLdJ61_g"
      },
      "source": [
        "## <a> Data Exploration </a> "
      ]
    },
    {
      "cell_type": "code",
      "metadata": {
        "id": "i76SwOgV6Z0V",
        "colab": {
          "base_uri": "https://localhost:8080/",
          "height": 138
        },
        "outputId": "dfa1fcf8-2a2e-48ee-8074-40fb8abed619"
      },
      "source": [
        "df.head(3)"
      ],
      "execution_count": null,
      "outputs": [
        {
          "output_type": "execute_result",
          "data": {
            "text/html": [
              "<div>\n",
              "<style scoped>\n",
              "    .dataframe tbody tr th:only-of-type {\n",
              "        vertical-align: middle;\n",
              "    }\n",
              "\n",
              "    .dataframe tbody tr th {\n",
              "        vertical-align: top;\n",
              "    }\n",
              "\n",
              "    .dataframe thead th {\n",
              "        text-align: right;\n",
              "    }\n",
              "</style>\n",
              "<table border=\"1\" class=\"dataframe\">\n",
              "  <thead>\n",
              "    <tr style=\"text-align: right;\">\n",
              "      <th></th>\n",
              "      <th>Unnamed: 0</th>\n",
              "      <th>overall</th>\n",
              "      <th>reviewText</th>\n",
              "      <th>target</th>\n",
              "    </tr>\n",
              "  </thead>\n",
              "  <tbody>\n",
              "    <tr>\n",
              "      <th>0</th>\n",
              "      <td>0</td>\n",
              "      <td>5</td>\n",
              "      <td>We got this GPS for my husband who is an (OTR)...</td>\n",
              "      <td>pos</td>\n",
              "    </tr>\n",
              "    <tr>\n",
              "      <th>1</th>\n",
              "      <td>1</td>\n",
              "      <td>1</td>\n",
              "      <td>I'm a professional OTR truck driver, and I bou...</td>\n",
              "      <td>neg</td>\n",
              "    </tr>\n",
              "    <tr>\n",
              "      <th>2</th>\n",
              "      <td>2</td>\n",
              "      <td>3</td>\n",
              "      <td>Well, what can I say.  I've had this unit in m...</td>\n",
              "      <td>natural</td>\n",
              "    </tr>\n",
              "  </tbody>\n",
              "</table>\n",
              "</div>"
            ],
            "text/plain": [
              "   Unnamed: 0  ...   target\n",
              "0           0  ...      pos\n",
              "1           1  ...      neg\n",
              "2           2  ...  natural\n",
              "\n",
              "[3 rows x 4 columns]"
            ]
          },
          "metadata": {
            "tags": []
          },
          "execution_count": 7
        }
      ]
    },
    {
      "cell_type": "code",
      "metadata": {
        "id": "QI0LRPu4kZ0y",
        "colab": {
          "base_uri": "https://localhost:8080/"
        },
        "outputId": "18e50eb9-c530-4f4c-8f48-a77fa6ba4d0f"
      },
      "source": [
        "df.shape"
      ],
      "execution_count": null,
      "outputs": [
        {
          "output_type": "execute_result",
          "data": {
            "text/plain": [
              "(1689188, 4)"
            ]
          },
          "metadata": {
            "tags": []
          },
          "execution_count": 8
        }
      ]
    },
    {
      "cell_type": "code",
      "metadata": {
        "id": "pHaZPAzg6DYB",
        "colab": {
          "base_uri": "https://localhost:8080/"
        },
        "outputId": "10deb30d-4815-4ee0-c756-79b2ea19ccb3"
      },
      "source": [
        "df.columns"
      ],
      "execution_count": null,
      "outputs": [
        {
          "output_type": "execute_result",
          "data": {
            "text/plain": [
              "Index(['Unnamed: 0', 'overall', 'reviewText', 'target'], dtype='object')"
            ]
          },
          "metadata": {
            "tags": []
          },
          "execution_count": 9
        }
      ]
    },
    {
      "cell_type": "code",
      "metadata": {
        "id": "DHkhQZOLfZZd",
        "colab": {
          "base_uri": "https://localhost:8080/",
          "height": 646
        },
        "outputId": "acfeb826-197c-40b3-b957-5b33481ba0a4"
      },
      "source": [
        "## draw output of target value \n",
        " \n",
        "plt.figure(figsize = (10 ,10))\n",
        "df.target.value_counts().plot(kind = 'bar')"
      ],
      "execution_count": null,
      "outputs": [
        {
          "output_type": "execute_result",
          "data": {
            "text/plain": [
              "<matplotlib.axes._subplots.AxesSubplot at 0x7fc712a1e210>"
            ]
          },
          "metadata": {
            "tags": []
          },
          "execution_count": 10
        },
        {
          "output_type": "display_data",
          "data": {
            "image/png": "[encoded data removed]",
            "text/plain": [
              "<Figure size 720x720 with 1 Axes>"
            ]
          },
          "metadata": {
            "tags": [],
            "needs_background": "light"
          }
        }
      ]
    },
    {
      "cell_type": "code",
      "metadata": {
        "id": "ySbklH6f6sIB",
        "colab": {
          "base_uri": "https://localhost:8080/"
        },
        "outputId": "4852c29d-7353-4d7e-c74e-3b56702ebecf"
      },
      "source": [
        "## count output target in Dataset \n",
        "df.target.value_counts()"
      ],
      "execution_count": null,
      "outputs": [
        {
          "output_type": "execute_result",
          "data": {
            "text/plain": [
              "pos        1009026\n",
              "natural     489298\n",
              "neg         190864\n",
              "Name: target, dtype: int64"
            ]
          },
          "metadata": {
            "tags": []
          },
          "execution_count": 11
        }
      ]
    },
    {
      "cell_type": "code",
      "metadata": {
        "id": "tZclk8igkoW4",
        "colab": {
          "base_uri": "https://localhost:8080/"
        },
        "outputId": "4d09cf9a-a62c-42dc-d417-7d41c75936a6"
      },
      "source": [
        "df.overall.value_counts()"
      ],
      "execution_count": null,
      "outputs": [
        {
          "output_type": "execute_result",
          "data": {
            "text/plain": [
              "5    1009026\n",
              "4     347041\n",
              "3     142257\n",
              "1     108725\n",
              "2      82139\n",
              "Name: overall, dtype: int64"
            ]
          },
          "metadata": {
            "tags": []
          },
          "execution_count": 12
        }
      ]
    },
    {
      "cell_type": "code",
      "metadata": {
        "id": "rtbb_i7mTVfG",
        "colab": {
          "base_uri": "https://localhost:8080/"
        },
        "outputId": "bae5606e-acb4-463b-c3a8-aa40f40e3ae3"
      },
      "source": [
        "df.isnull().sum()"
      ],
      "execution_count": null,
      "outputs": [
        {
          "output_type": "execute_result",
          "data": {
            "text/plain": [
              "Unnamed: 0       0\n",
              "overall          0\n",
              "reviewText    1071\n",
              "target           0\n",
              "dtype: int64"
            ]
          },
          "metadata": {
            "tags": []
          },
          "execution_count": 13
        }
      ]
    },
    {
      "cell_type": "markdown",
      "metadata": {
        "id": "i-t5QjMQk4mG"
      },
      "source": [
        "## <a> Data Cleaning </a>"
      ]
    },
    {
      "cell_type": "markdown",
      "metadata": {
        "id": "dSg7D6VIlT8l"
      },
      "source": [
        "## 1.<a> drop null value  <a/>"
      ]
    },
    {
      "cell_type": "code",
      "metadata": {
        "id": "LeOqPr3QlazX",
        "colab": {
          "base_uri": "https://localhost:8080/"
        },
        "outputId": "a9fa5cae-6e5b-4268-c193-ee46a5f6d383"
      },
      "source": [
        "df.dropna(axis = 0 , inplace=True)\n",
        "df.isnull().sum()"
      ],
      "execution_count": null,
      "outputs": [
        {
          "output_type": "execute_result",
          "data": {
            "text/plain": [
              "Unnamed: 0    0\n",
              "overall       0\n",
              "reviewText    0\n",
              "target        0\n",
              "dtype: int64"
            ]
          },
          "metadata": {
            "tags": []
          },
          "execution_count": 14
        }
      ]
    },
    {
      "cell_type": "code",
      "metadata": {
        "id": "mg6ZWz1Qlmap",
        "colab": {
          "base_uri": "https://localhost:8080/"
        },
        "outputId": "c0f187d2-f9da-4c4a-b78d-35d284f45610"
      },
      "source": [
        "df.shape"
      ],
      "execution_count": null,
      "outputs": [
        {
          "output_type": "execute_result",
          "data": {
            "text/plain": [
              "(1688117, 4)"
            ]
          },
          "metadata": {
            "tags": []
          },
          "execution_count": 15
        }
      ]
    },
    {
      "cell_type": "markdown",
      "metadata": {
        "id": "-kzpNEzvmLB5"
      },
      "source": [
        "## <a> drop unnecessary column </a>"
      ]
    },
    {
      "cell_type": "code",
      "metadata": {
        "id": "WaS1VPf0lTXD"
      },
      "source": [
        "df = df.drop(['Unnamed: 0' , 'overall'] , axis = 1)"
      ],
      "execution_count": null,
      "outputs": []
    },
    {
      "cell_type": "code",
      "metadata": {
        "id": "My_DYmMTk_Jx",
        "colab": {
          "base_uri": "https://localhost:8080/"
        },
        "outputId": "2bcc2933-4047-4c59-a5ce-394a5af788ce"
      },
      "source": [
        "df.columns"
      ],
      "execution_count": null,
      "outputs": [
        {
          "output_type": "execute_result",
          "data": {
            "text/plain": [
              "Index(['reviewText', 'target'], dtype='object')"
            ]
          },
          "metadata": {
            "tags": []
          },
          "execution_count": 17
        }
      ]
    },
    {
      "cell_type": "code",
      "metadata": {
        "id": "ybMnjAXmTOZA",
        "colab": {
          "base_uri": "https://localhost:8080/",
          "height": 108
        },
        "outputId": "e16e2f57-3e27-4bc5-9f1b-596124316602"
      },
      "source": [
        "df.head(2)"
      ],
      "execution_count": null,
      "outputs": [
        {
          "output_type": "execute_result",
          "data": {
            "text/html": [
              "<div>\n",
              "<style scoped>\n",
              "    .dataframe tbody tr th:only-of-type {\n",
              "        vertical-align: middle;\n",
              "    }\n",
              "\n",
              "    .dataframe tbody tr th {\n",
              "        vertical-align: top;\n",
              "    }\n",
              "\n",
              "    .dataframe thead th {\n",
              "        text-align: right;\n",
              "    }\n",
              "</style>\n",
              "<table border=\"1\" class=\"dataframe\">\n",
              "  <thead>\n",
              "    <tr style=\"text-align: right;\">\n",
              "      <th></th>\n",
              "      <th>reviewText</th>\n",
              "      <th>target</th>\n",
              "    </tr>\n",
              "  </thead>\n",
              "  <tbody>\n",
              "    <tr>\n",
              "      <th>0</th>\n",
              "      <td>We got this GPS for my husband who is an (OTR)...</td>\n",
              "      <td>pos</td>\n",
              "    </tr>\n",
              "    <tr>\n",
              "      <th>1</th>\n",
              "      <td>I'm a professional OTR truck driver, and I bou...</td>\n",
              "      <td>neg</td>\n",
              "    </tr>\n",
              "  </tbody>\n",
              "</table>\n",
              "</div>"
            ],
            "text/plain": [
              "                                          reviewText target\n",
              "0  We got this GPS for my husband who is an (OTR)...    pos\n",
              "1  I'm a professional OTR truck driver, and I bou...    neg"
            ]
          },
          "metadata": {
            "tags": []
          },
          "execution_count": 18
        }
      ]
    },
    {
      "cell_type": "markdown",
      "metadata": {
        "id": "Pjpd6OZ-xM7V"
      },
      "source": [
        "## <a> Handle implanced data for each category </a> "
      ]
    },
    {
      "cell_type": "code",
      "metadata": {
        "id": "P0KsM3lixVbF"
      },
      "source": [
        "df1 = df[df['target'] == 'pos'][:3000]\n",
        "df2 = df[df['target'] == 'natural'][:3000]\n",
        "df3 = df[df['target'] == 'neg'][:3000]\n"
      ],
      "execution_count": null,
      "outputs": []
    },
    {
      "cell_type": "code",
      "metadata": {
        "id": "EJezccijyih5"
      },
      "source": [
        "df = df1.append([df2 ,df3 ] , sort = True )"
      ],
      "execution_count": null,
      "outputs": []
    },
    {
      "cell_type": "code",
      "metadata": {
        "id": "cPMUJeySuCvF"
      },
      "source": [
        "# shuffle the DataFrame rows\n",
        "df = df.sample(frac = 1)"
      ],
      "execution_count": null,
      "outputs": []
    },
    {
      "cell_type": "code",
      "metadata": {
        "id": "zsLof-VEzAT3",
        "colab": {
          "base_uri": "https://localhost:8080/",
          "height": 665
        },
        "outputId": "9de6ac0a-4c84-479e-8cd1-00b918a09e91"
      },
      "source": [
        "## draw output of target value \n",
        "\n",
        "plt.figure(figsize = (10 ,10))\n",
        "df.target.value_counts().plot(kind = 'bar')\n",
        "plt.title('Handle Implanced Category Data ')\n",
        "plt.xlabel('Output Target') \n",
        "plt.ylabel('count each category ') "
      ],
      "execution_count": null,
      "outputs": [
        {
          "output_type": "execute_result",
          "data": {
            "text/plain": [
              "Text(0, 0.5, 'count each category ')"
            ]
          },
          "metadata": {
            "tags": []
          },
          "execution_count": 22
        },
        {
          "output_type": "display_data",
          "data": {
            "image/png": "[encoded data removed]",
            "text/plain": [
              "<Figure size 720x720 with 1 Axes>"
            ]
          },
          "metadata": {
            "tags": [],
            "needs_background": "light"
          }
        }
      ]
    },
    {
      "cell_type": "code",
      "metadata": {
        "id": "M8p7kiTLzqjQ",
        "colab": {
          "base_uri": "https://localhost:8080/"
        },
        "outputId": "e1349b93-1606-42a7-e3a9-b9e02ec2c160"
      },
      "source": [
        "df.target.value_counts()"
      ],
      "execution_count": null,
      "outputs": [
        {
          "output_type": "execute_result",
          "data": {
            "text/plain": [
              "natural    3000\n",
              "pos        3000\n",
              "neg        3000\n",
              "Name: target, dtype: int64"
            ]
          },
          "metadata": {
            "tags": []
          },
          "execution_count": 23
        }
      ]
    },
    {
      "cell_type": "markdown",
      "metadata": {
        "id": "02FQAoZZm6jQ"
      },
      "source": [
        "## <a> 1. Remove Stop words </a> \n",
        "\n",
        "## <a> 2. Remove special character  </a> "
      ]
    },
    {
      "cell_type": "code",
      "metadata": {
        "id": "7FtgrWnUnHw2"
      },
      "source": [
        "\n",
        "## download stopwords \n",
        "stop_words = stopwords.words(\"english\")\n",
        "## download steaming \n",
        "stemmer = SnowballStemmer(\"english\")\n",
        "\n",
        "## reg for remove special character \n",
        "TEXT_CLEANING_RE = \"@\\S+|https?:\\S+|http?:\\S|[^A-Za-z0-9]+\"\n",
        "\n",
        "\n",
        "\"\"\"\n",
        "  preprocess function \n",
        "\n",
        "  input  : each row from data \n",
        "\n",
        "  output : text cleaning \n",
        "\n",
        "\"\"\"\n",
        "def preprocess_text(text , stem =False):\n",
        "  # Remove link,user and special characters\n",
        "  text = re.sub(TEXT_CLEANING_RE, ' ', str(text).lower()).strip()\n",
        "  text = re.sub(r'[0-9]+', '', text)\n",
        "  tokens = []\n",
        "  for token in text.split():\n",
        "    if token not in stop_words and len(token) >2:\n",
        "\n",
        "      tokens.append(token)\n",
        "  return \" \".join(tokens)"
      ],
      "execution_count": null,
      "outputs": []
    },
    {
      "cell_type": "code",
      "metadata": {
        "id": "OKXknKQVSd5e"
      },
      "source": [
        "df.reviewText = df.reviewText.apply(lambda x: preprocess_text(x))\n"
      ],
      "execution_count": null,
      "outputs": []
    },
    {
      "cell_type": "markdown",
      "metadata": {
        "id": "UysYhrpHv6w-"
      },
      "source": [
        "## <a> Save Clean Text </a>"
      ]
    },
    {
      "cell_type": "code",
      "metadata": {
        "id": "QZpgwRFFv_G-"
      },
      "source": [
        "df.to_csv('clean_data.csv')"
      ],
      "execution_count": null,
      "outputs": []
    },
    {
      "cell_type": "markdown",
      "metadata": {
        "id": "_T8vedQA1_Vz"
      },
      "source": [
        "## <a> Upload Clean Data on Curl </a> "
      ]
    },
    {
      "cell_type": "code",
      "metadata": {
        "id": "faeZ-1b94t7u"
      },
      "source": [
        "#!wget https://transfer.sh/1xhQPpb/clean_data.csv"
      ],
      "execution_count": null,
      "outputs": []
    },
    {
      "cell_type": "code",
      "metadata": {
        "id": "DE1wRIId1MRk",
        "colab": {
          "base_uri": "https://localhost:8080/",
          "height": 199
        },
        "outputId": "ef3b6ba3-61ad-4145-9e6c-e4353189c05e"
      },
      "source": [
        "df.reviewText[1]"
      ],
      "execution_count": null,
      "outputs": [
        {
          "output_type": "execute_result",
          "data": {
            "application/vnd.google.colaboratory.intrinsic+json": {
              "type": "string"
            },
            "text/plain": [
              "'professional otr truck driver bought tnd truck stop hoping make life easier rand mcnally listening first thing charging connect laptop install software attempt update software detected problem update wanted home address could sent patch card hello think unusual home address box friend checks weekly might get check every six months live truck truck stops need make patch available card send cards truck stops devices sold ran update program multiple times program said tnd completely updated programmed height length weight rig told preferred highways parked truck stop cincinnati area next pickup miles freeway side couple blocks cell phone gps sprint said get freeway get pickup tnd routed thru miles residential streets finally getting pickup exciting especially since every time refused turn street posted trucks tnd took almost minutes figure route happened multiple times short trip decided give another chance pickup north side cincinnati needed head phoenix via easy route hop drive west south intersection indeed cell phone advised tnd however wanted route surface streets across city pick side city turned next time passed truck stop chain purchased returned got money back spent cheap printer take minute set route google print gotten lost yet several cross country trips'"
            ]
          },
          "metadata": {
            "tags": []
          },
          "execution_count": 28
        }
      ]
    },
    {
      "cell_type": "code",
      "metadata": {
        "id": "-2chBvUerjbo",
        "colab": {
          "base_uri": "https://localhost:8080/",
          "height": 35
        },
        "outputId": "b6b0fbfc-2c53-41c8-bba3-5cb5bb8279a5"
      },
      "source": [
        "df.target[1]"
      ],
      "execution_count": null,
      "outputs": [
        {
          "output_type": "execute_result",
          "data": {
            "application/vnd.google.colaboratory.intrinsic+json": {
              "type": "string"
            },
            "text/plain": [
              "'neg'"
            ]
          },
          "metadata": {
            "tags": []
          },
          "execution_count": 29
        }
      ]
    },
    {
      "cell_type": "code",
      "metadata": {
        "id": "GoDRwKlySZ2O"
      },
      "source": [
        "## convert output target to one hot encoder \n",
        "\n",
        "y = pd.get_dummies(df.target)\n",
        "\n",
        "x = df.drop('target' , axis =1 )"
      ],
      "execution_count": null,
      "outputs": []
    },
    {
      "cell_type": "code",
      "metadata": {
        "id": "XqRQJaiPSRtT",
        "colab": {
          "base_uri": "https://localhost:8080/"
        },
        "outputId": "a96b5520-6b80-4fa5-f412-4803b6a4b02a"
      },
      "source": [
        "y.columns"
      ],
      "execution_count": null,
      "outputs": [
        {
          "output_type": "execute_result",
          "data": {
            "text/plain": [
              "Index(['natural', 'neg', 'pos'], dtype='object')"
            ]
          },
          "metadata": {
            "tags": []
          },
          "execution_count": 31
        }
      ]
    },
    {
      "cell_type": "code",
      "metadata": {
        "id": "K8wkUO7zRX0H",
        "colab": {
          "base_uri": "https://localhost:8080/",
          "height": 138
        },
        "outputId": "edee275b-1680-43c1-acad-b5274dbf84ce"
      },
      "source": [
        "x[:3]"
      ],
      "execution_count": null,
      "outputs": [
        {
          "output_type": "execute_result",
          "data": {
            "text/html": [
              "<div>\n",
              "<style scoped>\n",
              "    .dataframe tbody tr th:only-of-type {\n",
              "        vertical-align: middle;\n",
              "    }\n",
              "\n",
              "    .dataframe tbody tr th {\n",
              "        vertical-align: top;\n",
              "    }\n",
              "\n",
              "    .dataframe thead th {\n",
              "        text-align: right;\n",
              "    }\n",
              "</style>\n",
              "<table border=\"1\" class=\"dataframe\">\n",
              "  <thead>\n",
              "    <tr style=\"text-align: right;\">\n",
              "      <th></th>\n",
              "      <th>reviewText</th>\n",
              "    </tr>\n",
              "  </thead>\n",
              "  <tbody>\n",
              "    <tr>\n",
              "      <th>4005</th>\n",
              "      <td>comfortable sturdy decent sound certainly woul...</td>\n",
              "    </tr>\n",
              "    <tr>\n",
              "      <th>6079</th>\n",
              "      <td>running phone line behind stereo cabinet could...</td>\n",
              "    </tr>\n",
              "    <tr>\n",
              "      <th>6816</th>\n",
              "      <td>appears work advertised currently used connect...</td>\n",
              "    </tr>\n",
              "  </tbody>\n",
              "</table>\n",
              "</div>"
            ],
            "text/plain": [
              "                                             reviewText\n",
              "4005  comfortable sturdy decent sound certainly woul...\n",
              "6079  running phone line behind stereo cabinet could...\n",
              "6816  appears work advertised currently used connect..."
            ]
          },
          "metadata": {
            "tags": []
          },
          "execution_count": 32
        }
      ]
    },
    {
      "cell_type": "markdown",
      "metadata": {
        "id": "_WwXKMcg6LT2"
      },
      "source": [
        "## <a> Split Dataset into [training - testing - validation]  </a>"
      ]
    },
    {
      "cell_type": "code",
      "metadata": {
        "id": "BAUE3wIC6Yuk",
        "colab": {
          "base_uri": "https://localhost:8080/"
        },
        "outputId": "16a865e3-49e9-4e72-e707-69c7f024718f"
      },
      "source": [
        "X_train,X_test, y_train,y_test= train_test_split(x,y, test_size=0.2, random_state=42 , shuffle = True)\n",
        "X_test,X_valid, y_test,y_valid= train_test_split(X_test,y_test, test_size=0.5, random_state=42 , shuffle = True)\n",
        "\n",
        "## print output shape\n",
        "print(\"X_train size:\", X_train.shape)\n",
        "print(\"y_train size:\", y_train.shape)\n",
        "print(\"X_test size:\", X_test.shape)\n",
        "print(\"y_test size:\", y_test.shape)\n",
        "print(\"X_valid size:\", X_valid.shape)\n",
        "print(\"y_valid size:\", y_valid.shape)"
      ],
      "execution_count": null,
      "outputs": [
        {
          "output_type": "stream",
          "text": [
            "X_train size: (7200, 1)\n",
            "y_train size: (7200, 3)\n",
            "X_test size: (900, 1)\n",
            "y_test size: (900, 3)\n",
            "X_valid size: (900, 1)\n",
            "y_valid size: (900, 3)\n"
          ],
          "name": "stdout"
        }
      ]
    },
    {
      "cell_type": "markdown",
      "metadata": {
        "id": "-_1EnkRK7TO4"
      },
      "source": [
        "## <a> build vocabulary from train dataset </a>"
      ]
    },
    {
      "cell_type": "code",
      "metadata": {
        "id": "WqLbvfxY7Xnv"
      },
      "source": [
        "#documents = [_text.split() for _text in X_train.reviewText]\n"
      ],
      "execution_count": null,
      "outputs": []
    },
    {
      "cell_type": "code",
      "metadata": {
        "id": "K_dyhWFP7j_u"
      },
      "source": [
        "#w2v_model = gensim.models.word2vec.Word2Vec(size=W2V_SIZE, \n",
        "#                                            window=W2V_WINDOW, \n",
        "#                                            min_count=W2V_MIN_COUNT, \n",
        "#                                            workers=8)"
      ],
      "execution_count": null,
      "outputs": []
    },
    {
      "cell_type": "code",
      "metadata": {
        "id": "l9UyQuKr7kE0"
      },
      "source": [
        "#w2v_model.build_vocab(documents)\n"
      ],
      "execution_count": null,
      "outputs": []
    },
    {
      "cell_type": "code",
      "metadata": {
        "id": "RzCdTN307kQm"
      },
      "source": [
        "#words = w2v_model.wv.vocab.keys()\n",
        "#vocab_size = len(words)\n",
        "#print(\"Vocab size\", vocab_size)"
      ],
      "execution_count": null,
      "outputs": []
    },
    {
      "cell_type": "code",
      "metadata": {
        "id": "Q0gQJofr8TOW"
      },
      "source": [
        "#w2v_model.train(documents, total_examples=len(documents), epochs=W2V_EPOCH)\n"
      ],
      "execution_count": null,
      "outputs": []
    },
    {
      "cell_type": "code",
      "metadata": {
        "id": "APoMyJ2vAlBj"
      },
      "source": [
        "#w2v_model.save('w2vec.pkl')"
      ],
      "execution_count": null,
      "outputs": []
    },
    {
      "cell_type": "markdown",
      "metadata": {
        "id": "pQhCJD2-xwiZ"
      },
      "source": [
        "## <a> Upload word2vec model on curl  </a>"
      ]
    },
    {
      "cell_type": "code",
      "metadata": {
        "id": "aZytWa9ax4Et",
        "colab": {
          "base_uri": "https://localhost:8080/"
        },
        "outputId": "2a0ab295-2541-4254-c971-d1a4a7cddae0"
      },
      "source": [
        "!wget https://transfer.sh/1R9UsvH/w2vec.pkl"
      ],
      "execution_count": null,
      "outputs": [
        {
          "output_type": "stream",
          "text": [
            "--2021-06-17 20:39:21--  https://transfer.sh/1R9UsvH/w2vec.pkl\n",
            "Resolving transfer.sh (transfer.sh)... 144.76.136.153\n",
            "Connecting to transfer.sh (transfer.sh)|144.76.136.153|:443... connected.\n",
            "HTTP request sent, awaiting response... 200 OK\n",
            "Length: 26562578 (25M) []\n",
            "Saving to: ‘w2vec.pkl.1’\n",
            "\n",
            "w2vec.pkl.1         100%[===================>]  25.33M  14.3MB/s    in 1.8s    \n",
            "\n",
            "2021-06-17 20:39:24 (14.3 MB/s) - ‘w2vec.pkl.1’ saved [26562578/26562578]\n",
            "\n"
          ],
          "name": "stdout"
        }
      ]
    },
    {
      "cell_type": "code",
      "metadata": {
        "id": "tu5pWY4U2F7W"
      },
      "source": [
        "with open('/content/w2vec.pkl', 'rb') as f:\n",
        "  w2v_model = pickle.load(f)"
      ],
      "execution_count": null,
      "outputs": []
    },
    {
      "cell_type": "code",
      "metadata": {
        "id": "igI1GY-IBl6_",
        "colab": {
          "base_uri": "https://localhost:8080/"
        },
        "outputId": "cc56fe2b-9472-41c0-b715-91a51eb0b488"
      },
      "source": [
        "w2v_model.most_similar(\"good\")\n"
      ],
      "execution_count": null,
      "outputs": [
        {
          "output_type": "stream",
          "text": [
            "/usr/local/lib/python3.7/dist-packages/ipykernel_launcher.py:1: DeprecationWarning: Call to deprecated `most_similar` (Method will be removed in 4.0.0, use self.wv.most_similar() instead).\n",
            "  \"\"\"Entry point for launching an IPython kernel.\n"
          ],
          "name": "stderr"
        },
        {
          "output_type": "execute_result",
          "data": {
            "text/plain": [
              "[('decent', 0.8462110161781311),\n",
              " ('great', 0.7545416951179504),\n",
              " ('excellent', 0.7314164042472839),\n",
              " ('fantastic', 0.6389633417129517),\n",
              " ('exceptional', 0.6380005478858948),\n",
              " ('nice', 0.59938645362854),\n",
              " ('reasonable', 0.5827001333236694),\n",
              " ('impressive', 0.581800103187561),\n",
              " ('terrific', 0.5753396153450012),\n",
              " ('awesome', 0.5731416344642639)]"
            ]
          },
          "metadata": {
            "tags": []
          },
          "execution_count": 42
        }
      ]
    },
    {
      "cell_type": "code",
      "metadata": {
        "colab": {
          "base_uri": "https://localhost:8080/"
        },
        "id": "2rzdci-t1uxu",
        "outputId": "b80bbf33-ff2c-4284-9966-305f95c626fb"
      },
      "source": [
        "w2v_model.most_similar(\"bad\")\n"
      ],
      "execution_count": null,
      "outputs": [
        {
          "output_type": "stream",
          "text": [
            "/usr/local/lib/python3.7/dist-packages/ipykernel_launcher.py:1: DeprecationWarning: Call to deprecated `most_similar` (Method will be removed in 4.0.0, use self.wv.most_similar() instead).\n",
            "  \"\"\"Entry point for launching an IPython kernel.\n"
          ],
          "name": "stderr"
        },
        {
          "output_type": "execute_result",
          "data": {
            "text/plain": [
              "[('terrible', 0.6275604367256165),\n",
              " ('horrible', 0.6093299388885498),\n",
              " ('poor', 0.6064659357070923),\n",
              " ('lousy', 0.6006596088409424),\n",
              " ('awful', 0.5818268060684204),\n",
              " ('lemon', 0.536183774471283),\n",
              " ('defective', 0.5345633029937744),\n",
              " ('faulty', 0.533707320690155),\n",
              " ('dud', 0.5212666988372803),\n",
              " ('crappy', 0.5008470416069031)]"
            ]
          },
          "metadata": {
            "tags": []
          },
          "execution_count": 43
        }
      ]
    },
    {
      "cell_type": "markdown",
      "metadata": {
        "id": "KMB9eX5PBX4d"
      },
      "source": [
        "## <a> Import Word2vec model  </a>"
      ]
    },
    {
      "cell_type": "code",
      "metadata": {
        "id": "P0OMMIo90cjG",
        "colab": {
          "base_uri": "https://localhost:8080/"
        },
        "outputId": "1ba35852-eb0b-4306-8738-20289e0ff41c"
      },
      "source": [
        "tokenizer = Tokenizer()\n",
        "tokenizer.fit_on_texts(X_train.reviewText)\n",
        "\n",
        "vocab_size = len(tokenizer.word_index) + 1\n",
        "print(\"Total words\", vocab_size)"
      ],
      "execution_count": null,
      "outputs": [
        {
          "output_type": "stream",
          "text": [
            "Total words 19756\n"
          ],
          "name": "stdout"
        }
      ]
    },
    {
      "cell_type": "code",
      "metadata": {
        "id": "cTNtBZaD1W6t"
      },
      "source": [
        "#tokenizer.save('tokenizer.pkl')"
      ],
      "execution_count": null,
      "outputs": []
    },
    {
      "cell_type": "code",
      "metadata": {
        "id": "78kzrcmN0cuV"
      },
      "source": [
        "X_train = pad_sequences(tokenizer.texts_to_sequences(X_train.reviewText), maxlen=SEQUENCE_LENGTH)\n",
        "X_test = pad_sequences(tokenizer.texts_to_sequences(X_test.reviewText), maxlen=SEQUENCE_LENGTH)"
      ],
      "execution_count": null,
      "outputs": []
    },
    {
      "cell_type": "code",
      "metadata": {
        "id": "-6JeEf4M0dLi",
        "colab": {
          "base_uri": "https://localhost:8080/"
        },
        "outputId": "ca17bb7f-b544-481e-dcc0-3fe6d7a68b21"
      },
      "source": [
        "print(\"x_train\", X_train.shape)\n",
        "print(\"y_train\", y_train.shape)\n",
        "print(\"x_test\", X_test.shape)\n",
        "print(\"y_test\", y_test.shape)"
      ],
      "execution_count": null,
      "outputs": [
        {
          "output_type": "stream",
          "text": [
            "x_train (7200, 300)\n",
            "y_train (7200, 3)\n",
            "x_test (900, 300)\n",
            "y_test (900, 3)\n"
          ],
          "name": "stdout"
        }
      ]
    },
    {
      "cell_type": "markdown",
      "metadata": {
        "id": "waE_JTTU0dWg"
      },
      "source": [
        "## <a> Tokenize Data </a>"
      ]
    },
    {
      "cell_type": "code",
      "metadata": {
        "id": "T7Oq4NtL0ix2",
        "colab": {
          "base_uri": "https://localhost:8080/"
        },
        "outputId": "999a5f3e-381a-4f16-d1a0-d22cc878af41"
      },
      "source": [
        "embedding_matrix = np.zeros((vocab_size, W2V_SIZE))\n",
        "for word, i in tokenizer.word_index.items():\n",
        "    \n",
        "    if word in w2v_model.wv:\n",
        "        \n",
        "        embedding_matrix[i] = w2v_model.wv[word]\n",
        "print(embedding_matrix.shape)"
      ],
      "execution_count": null,
      "outputs": [
        {
          "output_type": "stream",
          "text": [
            "(19756, 128)\n"
          ],
          "name": "stdout"
        }
      ]
    },
    {
      "cell_type": "code",
      "metadata": {
        "id": "GLCubNoW0i58"
      },
      "source": [
        "from tensorflow.python.framework import ops\n",
        "ops.reset_default_graph()"
      ],
      "execution_count": null,
      "outputs": []
    },
    {
      "cell_type": "code",
      "metadata": {
        "id": "Ogfs-9BF7B_U"
      },
      "source": [
        "embedding_layer = Embedding(vocab_size, W2V_SIZE, weights=[embedding_matrix], input_length=SEQUENCE_LENGTH, trainable=False)\n"
      ],
      "execution_count": null,
      "outputs": []
    },
    {
      "cell_type": "markdown",
      "metadata": {
        "id": "mNzOaqFl7L8P"
      },
      "source": [
        "## <a> build Model </a> "
      ]
    },
    {
      "cell_type": "code",
      "metadata": {
        "id": "fljoe6H87Hwr"
      },
      "source": [
        "from keras.layers import BatchNormalization,Input,TimeDistributed,Bidirectional\n",
        "from keras.models import Model,Sequential\n",
        "from keras.layers import GRU, Input, Dense,SpatialDropout1D , TimeDistributed, Activation, RepeatVector, Bidirectional,LSTM\n",
        "from keras.layers.embeddings import Embedding\n",
        "from keras.optimizers import Adam\n",
        "from keras.losses import sparse_categorical_crossentropy\n",
        "import pickle\n",
        "from keras.layers.pooling import GlobalPooling1D\n",
        "from keras.layers import GlobalMaxPool1D\n"
      ],
      "execution_count": null,
      "outputs": []
    },
    {
      "cell_type": "code",
      "metadata": {
        "id": "1w6N-ImKK25Z"
      },
      "source": [
        "def step_decay(epoch):\n",
        "\tinitial_lrate = 0.01\n",
        "\tdrop = 0.3\n",
        "\tepochs_drop = 10.0\n",
        "\tlrate = initial_lrate * math.pow(drop, math.floor((1+epoch)/epochs_drop))\n",
        "\treturn lrate"
      ],
      "execution_count": null,
      "outputs": []
    },
    {
      "cell_type": "code",
      "metadata": {
        "id": "3BwmWhpE0K7M"
      },
      "source": [
        "\n",
        "def lstm_model():\n",
        "  model = Sequential()\n",
        "  model.add(Embedding(vocab_size, W2V_SIZE, weights=[embedding_matrix], input_length=SEQUENCE_LENGTH, trainable=False))\n",
        "  model.add(LSTM( 64, recurrent_dropout=0.1 ,  return_sequences=True ))\n",
        "  model.add((LSTM(64,recurrent_dropout=0.2,  return_sequences=False )))\n",
        "  model.add( Dense(3, activation = 'softmax'))\n",
        "  print(model.summary())\n",
        "  return model\n",
        "\n",
        "\n"
      ],
      "execution_count": null,
      "outputs": []
    },
    {
      "cell_type": "code",
      "metadata": {
        "colab": {
          "base_uri": "https://localhost:8080/"
        },
        "id": "_Bw45tBcUrVT",
        "outputId": "a2299627-47a2-4c87-8c41-e2d98392a83a"
      },
      "source": [
        "model = lstm_model()"
      ],
      "execution_count": null,
      "outputs": [
        {
          "output_type": "stream",
          "text": [
            "Model: \"sequential\"\n",
            "_________________________________________________________________\n",
            "Layer (type)                 Output Shape              Param #   \n",
            "=================================================================\n",
            "embedding (Embedding)        (None, 300, 128)          2528768   \n",
            "_________________________________________________________________\n",
            "lstm (LSTM)                  (None, 300, 64)           49408     \n",
            "_________________________________________________________________\n",
            "lstm_1 (LSTM)                (None, 64)                33024     \n",
            "_________________________________________________________________\n",
            "dense (Dense)                (None, 3)                 195       \n",
            "=================================================================\n",
            "Total params: 2,611,395\n",
            "Trainable params: 82,627\n",
            "Non-trainable params: 2,528,768\n",
            "_________________________________________________________________\n",
            "None\n"
          ],
          "name": "stdout"
        }
      ]
    },
    {
      "cell_type": "code",
      "metadata": {
        "id": "OKnDu78C0K--"
      },
      "source": [
        "model.compile(loss='categorical_crossentropy',\n",
        "              optimizer=Adam(0.001),\n",
        "              metrics=['accuracy'])"
      ],
      "execution_count": null,
      "outputs": []
    },
    {
      "cell_type": "code",
      "metadata": {
        "id": "IN9mukKB7Pbo"
      },
      "source": [
        "callbacks = [ ReduceLROnPlateau(monitor='val_loss', patience=5, cooldown=0),\n",
        "              EarlyStopping(monitor='val_acc', min_delta=1e-4, patience=5)\n",
        "             # LearningRateScheduler(step_decay)\n",
        "             ]"
      ],
      "execution_count": null,
      "outputs": []
    },
    {
      "cell_type": "code",
      "metadata": {
        "colab": {
          "base_uri": "https://localhost:8080/"
        },
        "id": "R7Azs7Gw7PkA",
        "outputId": "db3be241-538b-46fb-e72c-40688e8474ff"
      },
      "source": [
        "history = model.fit(X_train, y_train,\n",
        "                      batch_size=32,\n",
        "                      epochs=6,\n",
        "                      verbose=1,\n",
        "                    #  callbacks=callbacks,\n",
        "                      workers=4\n",
        "                    )"
      ],
      "execution_count": null,
      "outputs": [
        {
          "output_type": "stream",
          "text": [
            "Epoch 1/6\n",
            "225/225 [==============================] - 159s 578ms/step - loss: 0.9337 - accuracy: 0.5355\n",
            "Epoch 2/6\n",
            "225/225 [==============================] - 130s 579ms/step - loss: 0.6763 - accuracy: 0.7064\n",
            "Epoch 3/6\n",
            "225/225 [==============================] - 130s 577ms/step - loss: 0.5587 - accuracy: 0.7698\n",
            "Epoch 4/6\n",
            "225/225 [==============================] - 130s 579ms/step - loss: 0.4604 - accuracy: 0.8127\n",
            "Epoch 5/6\n",
            "225/225 [==============================] - 133s 590ms/step - loss: 0.3486 - accuracy: 0.8745\n",
            "Epoch 6/6\n",
            "225/225 [==============================] - 129s 574ms/step - loss: 0.2284 - accuracy: 0.9197\n"
          ],
          "name": "stdout"
        }
      ]
    },
    {
      "cell_type": "markdown",
      "metadata": {
        "id": "9gWXXFWX00sm"
      },
      "source": [
        "## <a> Save model </a>"
      ]
    },
    {
      "cell_type": "code",
      "metadata": {
        "id": "Je562Crx05nS"
      },
      "source": [
        "model.save('model.h5')"
      ],
      "execution_count": null,
      "outputs": []
    },
    {
      "cell_type": "code",
      "metadata": {
        "colab": {
          "base_uri": "https://localhost:8080/"
        },
        "id": "jKhw9rTkwHnF",
        "outputId": "dabe524d-6116-45f4-b9ab-00040e0d59da"
      },
      "source": [
        "score = model.evaluate(X_train , y_train, batch_size=BATCH_SIZE)\n",
        "print()\n",
        "print(\"ACCURACY:\",score[1])\n",
        "print(\"LOSS:\",score[0])"
      ],
      "execution_count": null,
      "outputs": [
        {
          "output_type": "stream",
          "text": [
            "113/113 [==============================] - 16s 146ms/step - loss: 0.1675 - accuracy: 0.9489\n",
            "\n",
            "ACCURACY: 0.948888897895813\n",
            "LOSS: 0.16746142506599426\n"
          ],
          "name": "stdout"
        }
      ]
    },
    {
      "cell_type": "code",
      "metadata": {
        "id": "YnfRX23J0pOO",
        "colab": {
          "base_uri": "https://localhost:8080/"
        },
        "outputId": "72f703d8-9723-4b4a-a4aa-d9e95125fcd1"
      },
      "source": [
        "score = model.evaluate(X_test , y_test, batch_size=BATCH_SIZE)\n",
        "print()\n",
        "print(\"ACCURACY:\",score[1])\n",
        "print(\"LOSS:\",score[0])"
      ],
      "execution_count": null,
      "outputs": [
        {
          "output_type": "stream",
          "text": [
            "15/15 [==============================] - 4s 159ms/step - loss: 1.0827 - accuracy: 0.6322\n",
            "\n",
            "ACCURACY: 0.6322222352027893\n",
            "LOSS: 1.0827151536941528\n"
          ],
          "name": "stdout"
        }
      ]
    },
    {
      "cell_type": "code",
      "metadata": {
        "id": "zLViYsIx0rjT",
        "colab": {
          "base_uri": "https://localhost:8080/",
          "height": 545
        },
        "outputId": "12aced3c-93d8-4256-be9b-bfe0d4124f97"
      },
      "source": [
        "acc = history.history['accuracy']\n",
        "loss = history.history['loss']\n",
        " \n",
        "epochs = range(len(acc))\n",
        " \n",
        "plt.plot(epochs, acc, 'b', label='Training accuracy')\n",
        "plt.title('Training and validation accuracy')\n",
        "plt.legend()\n",
        " \n",
        "plt.figure()\n",
        " \n",
        "plt.plot(epochs, loss, 'b', label='Training loss')\n",
        "#plt.plot(epochs, val_loss, 'r', label='Validation loss')\n",
        "plt.title('Training and validation loss')\n",
        "plt.legend()\n",
        " \n",
        "plt.show()"
      ],
      "execution_count": null,
      "outputs": [
        {
          "output_type": "display_data",
          "data": {
            "image/png": "[encoded data removed]",
            "text/plain": [
              "<Figure size 432x288 with 1 Axes>"
            ]
          },
          "metadata": {
            "tags": [],
            "needs_background": "light"
          }
        },
        {
          "output_type": "display_data",
          "data": {
            "image/png": "[encoded data removed]",
            "text/plain": [
              "<Figure size 432x288 with 1 Axes>"
            ]
          },
          "metadata": {
            "tags": [],
            "needs_background": "light"
          }
        }
      ]
    },
    {
      "cell_type": "markdown",
      "metadata": {
        "id": "XCUNk8pH0yO0"
      },
      "source": [
        "## <a> predict sentence </a>"
      ]
    },
    {
      "cell_type": "code",
      "metadata": {
        "id": "bVlEWlCwrx74"
      },
      "source": [
        "target = y.columns"
      ],
      "execution_count": null,
      "outputs": []
    },
    {
      "cell_type": "code",
      "metadata": {
        "id": "OlMexZDEr521",
        "colab": {
          "base_uri": "https://localhost:8080/",
          "height": 35
        },
        "outputId": "4d207c9d-46c0-4cc9-ae17-c177b36b1b1e"
      },
      "source": [
        "target[0]"
      ],
      "execution_count": null,
      "outputs": [
        {
          "output_type": "execute_result",
          "data": {
            "application/vnd.google.colaboratory.intrinsic+json": {
              "type": "string"
            },
            "text/plain": [
              "'natural'"
            ]
          },
          "metadata": {
            "tags": []
          },
          "execution_count": 68
        }
      ]
    },
    {
      "cell_type": "code",
      "metadata": {
        "id": "c9uoR7na1HW5"
      },
      "source": [
        "def predict(text):\n",
        "\n",
        "  # Tokenize text\n",
        "  x_test = pad_sequences(tokenizer.texts_to_sequences([text]), maxlen=SEQUENCE_LENGTH)\n",
        "  \n",
        "  # Predict\n",
        "  score = model.predict([x_test])[0]\n",
        "\n",
        "  return target[np.argmax(score)]"
      ],
      "execution_count": null,
      "outputs": []
    },
    {
      "cell_type": "code",
      "metadata": {
        "id": "2S3JhyiC0rpI",
        "colab": {
          "base_uri": "https://localhost:8080/",
          "height": 35
        },
        "outputId": "defb27d9-7cfa-4983-a170-7c8e9bb9db10"
      },
      "source": [
        "text =\"professional otr truck driver bought tnd truck stop hoping make life easier rand mcnally listening first thing charging connect laptop install software attempt update software detected problem update wanted home address could sent patch card hello think unusual home address box friend checks weekly might get check every six months live truck truck stops need make patch available card send cards truck stops devices sold ran update program multiple times program said tnd completely updated programmed height length weight rig told preferred highways parked truck stop cincinnati area next pickup miles freeway side couple blocks cell phone gps sprint said get freeway get pickup tnd routed thru miles residential streets finally getting pickup exciting especially since every time refused turn street posted trucks tnd took almost minutes figure route happened multiple times short trip decided give another chance pickup north side cincinnati needed head phoenix via easy route hop drive west south intersection indeed cell phone advised tnd however wanted route surface streets across city pick side city turned next time passed truck stop chain purchased returned got money back spent cheap printer take minute set route google print gotten lost yet several cross country trips\"\n",
        "predict(text)"
      ],
      "execution_count": null,
      "outputs": [
        {
          "output_type": "execute_result",
          "data": {
            "application/vnd.google.colaboratory.intrinsic+json": {
              "type": "string"
            },
            "text/plain": [
              "'neg'"
            ]
          },
          "metadata": {
            "tags": []
          },
          "execution_count": 70
        }
      ]
    },
    {
      "cell_type": "code",
      "metadata": {
        "colab": {
          "base_uri": "https://localhost:8080/",
          "height": 35
        },
        "id": "voppa_ZMwkY2",
        "outputId": "554fe97c-11d0-41f2-c033-e3cfd19df80f"
      },
      "source": [
        "text =\"quality of this electronics is good\"\n",
        "predict(text)"
      ],
      "execution_count": null,
      "outputs": [
        {
          "output_type": "execute_result",
          "data": {
            "application/vnd.google.colaboratory.intrinsic+json": {
              "type": "string"
            },
            "text/plain": [
              "'pos'"
            ]
          },
          "metadata": {
            "tags": []
          },
          "execution_count": 72
        }
      ]
    },
    {
      "cell_type": "code",
      "metadata": {
        "colab": {
          "base_uri": "https://localhost:8080/",
          "height": 35
        },
        "id": "L_Pc-aYEwr2T",
        "outputId": "a19a5980-0fdf-4bda-aba2-fe88a1f69251"
      },
      "source": [
        "text =\"quality of this electronics has defects\"\n",
        "predict(text)"
      ],
      "execution_count": null,
      "outputs": [
        {
          "output_type": "execute_result",
          "data": {
            "application/vnd.google.colaboratory.intrinsic+json": {
              "type": "string"
            },
            "text/plain": [
              "'neg'"
            ]
          },
          "metadata": {
            "tags": []
          },
          "execution_count": 74
        }
      ]
    }
  ]
}